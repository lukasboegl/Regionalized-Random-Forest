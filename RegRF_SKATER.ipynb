{
 "cells": [
  {
   "cell_type": "code",
   "execution_count": 1,
   "id": "2f45ed39-5ffc-49d3-a04a-550ccc953ac2",
   "metadata": {},
   "outputs": [],
   "source": [
    "from time import time\n",
    "start_time = time()"
   ]
  },
  {
   "cell_type": "markdown",
   "id": "7abbdf82-cd8a-43de-a757-cc0bc10d3ede",
   "metadata": {
    "tags": []
   },
   "source": [
    "### Imports, Load Data and inspect"
   ]
  },
  {
   "cell_type": "code",
   "execution_count": 2,
   "id": "1adc6000-aa90-4859-b88c-086265d1d51e",
   "metadata": {},
   "outputs": [],
   "source": [
    "import geopandas as gpd\n",
    "import pandas as pd\n",
    "import numpy as np\n",
    "import matplotlib.pyplot as plt\n",
    "from libpysal.weights import Queen, Rook, KNN\n",
    "from spopt.region.skater import Skater\n",
    "import shapely\n",
    "from sklearn.ensemble import RandomForestRegressor\n",
    "from sklearn.model_selection import RandomizedSearchCV\n",
    "from sklearn.metrics import r2_score, mean_absolute_error, mean_squared_error\n",
    "from sklearn.metrics import davies_bouldin_score, calinski_harabasz_score, silhouette_score\n",
    "import libpysal as ps\n",
    "import esda\n",
    "import math\n",
    "from sklearn.metrics import pairwise as skm"
   ]
  },
  {
   "cell_type": "code",
   "execution_count": 3,
   "id": "11a845b3-21f4-4ca8-aadb-07713126146a",
   "metadata": {},
   "outputs": [],
   "source": [
    "pd.set_option('display.max_columns', None)"
   ]
  },
  {
   "cell_type": "code",
   "execution_count": 4,
   "id": "3ca46068-3ac6-4a21-9f6b-9d69ec5de47b",
   "metadata": {
    "scrolled": true
   },
   "outputs": [],
   "source": [
    "# BIG DATASET\n",
    "# Split 1\n",
    "#pth = r\"Y:\\Lukas\\thesis\\bus1123\\data\\split1\\calhouses3310scat-train1-voro1.shp\"\n",
    "#test_p_pth = r\"Y:\\Lukas\\thesis\\bus1123\\data\\split1\\calhouses3310scat-test1.shp\"\n",
    "\n",
    "# Split 2\n",
    "#pth = r\"Y:\\Lukas\\thesis\\bus1123\\data\\split2\\calhouses3310scat-train2-voro2.shp\"\n",
    "#test_p_pth = r\"Y:\\Lukas\\thesis\\bus1123\\data\\split2\\calhouses3310scat-test2.shp\"\n",
    "\n",
    "# Split 3\n",
    "#pth = r\"Y:\\Lukas\\thesis\\bus1123\\data\\split3\\calhouses3310scat-train3-voro3.shp\"\n",
    "#test_p_pth = r\"Y:\\Lukas\\thesis\\bus1123\\data\\split3\\calhouses3310scat-test3.shp\"\n",
    "\n",
    "# SMALL DATASET\n",
    "# Split 1\n",
    "pth = r\"Y:\\Lukas\\thesis\\bus1123\\randomsample_houses\\houses_random_2050_TRAIN-1_voro.shp\"\n",
    "test_p_pth = r\"Y:\\Lukas\\thesis\\bus1123\\randomsample_houses\\houses_random_2050_TEST-1_points.shp\"\n",
    "\n",
    "# Split 2\n",
    "#pth = r\"Y:\\Lukas\\thesis\\bus1123\\randomsample_houses\\houses_random_2050_TRAIN-2_voro.shp\"\n",
    "#test_p_pth = r\"Y:\\Lukas\\thesis\\bus1123\\randomsample_houses\\houses_random_2050_TEST-2_points.shp\"\n",
    "\n",
    "# Split 3\n",
    "#pth = r\"Y:\\Lukas\\thesis\\bus1123\\randomsample_houses\\houses_random_2050_TRAIN-3_voro.shp\"\n",
    "#test_p_pth = r\"Y:\\Lukas\\thesis\\bus1123\\randomsample_houses\\houses_random_2050_TEST-3_points.shp\"\n",
    "\n",
    "\n",
    "houses = gpd.read_file(pth)"
   ]
  },
  {
   "cell_type": "code",
   "execution_count": 5,
   "id": "4e1e82c5-a0f7-4800-9397-1420e50b9a94",
   "metadata": {},
   "outputs": [
    {
     "data": {
      "text/html": [
       "<div>\n",
       "<style scoped>\n",
       "    .dataframe tbody tr th:only-of-type {\n",
       "        vertical-align: middle;\n",
       "    }\n",
       "\n",
       "    .dataframe tbody tr th {\n",
       "        vertical-align: top;\n",
       "    }\n",
       "\n",
       "    .dataframe thead th {\n",
       "        text-align: right;\n",
       "    }\n",
       "</style>\n",
       "<table border=\"1\" class=\"dataframe\">\n",
       "  <thead>\n",
       "    <tr style=\"text-align: right;\">\n",
       "      <th></th>\n",
       "      <th>MedHouseVa</th>\n",
       "      <th>MedIncome</th>\n",
       "      <th>MedianAge</th>\n",
       "      <th>Population</th>\n",
       "      <th>Households</th>\n",
       "      <th>roomsperHH</th>\n",
       "      <th>bedroomHH</th>\n",
       "      <th>geometry</th>\n",
       "    </tr>\n",
       "  </thead>\n",
       "  <tbody>\n",
       "    <tr>\n",
       "      <th>0</th>\n",
       "      <td>142600.0</td>\n",
       "      <td>3.0992</td>\n",
       "      <td>9.0</td>\n",
       "      <td>3293.0</td>\n",
       "      <td>840.0</td>\n",
       "      <td>4.342857</td>\n",
       "      <td>1.065476</td>\n",
       "      <td>POLYGON ((272734.822 -607559.551, 272046.019 -...</td>\n",
       "    </tr>\n",
       "    <tr>\n",
       "      <th>1</th>\n",
       "      <td>96200.0</td>\n",
       "      <td>1.6007</td>\n",
       "      <td>21.0</td>\n",
       "      <td>1327.0</td>\n",
       "      <td>488.0</td>\n",
       "      <td>3.645492</td>\n",
       "      <td>0.954918</td>\n",
       "      <td>POLYGON ((275235.497 -599843.782, 273503.882 -...</td>\n",
       "    </tr>\n",
       "  </tbody>\n",
       "</table>\n",
       "</div>"
      ],
      "text/plain": [
       "   MedHouseVa  MedIncome  MedianAge  Population  Households  roomsperHH  \\\n",
       "0    142600.0     3.0992        9.0      3293.0       840.0    4.342857   \n",
       "1     96200.0     1.6007       21.0      1327.0       488.0    3.645492   \n",
       "\n",
       "   bedroomHH                                           geometry  \n",
       "0   1.065476  POLYGON ((272734.822 -607559.551, 272046.019 -...  \n",
       "1   0.954918  POLYGON ((275235.497 -599843.782, 273503.882 -...  "
      ]
     },
     "execution_count": 5,
     "metadata": {},
     "output_type": "execute_result"
    }
   ],
   "source": [
    "houses.head(2)"
   ]
  },
  {
   "cell_type": "code",
   "execution_count": 6,
   "id": "080e6c05-e38c-4658-9c32-a2ff9ac3c5e2",
   "metadata": {},
   "outputs": [
    {
     "data": {
      "text/plain": [
       "(1640, 8)"
      ]
     },
     "execution_count": 6,
     "metadata": {},
     "output_type": "execute_result"
    }
   ],
   "source": [
    "houses.shape"
   ]
  },
  {
   "cell_type": "code",
   "execution_count": 7,
   "id": "2433867c-0f6b-4047-ac7b-494da018d496",
   "metadata": {},
   "outputs": [
    {
     "name": "stdout",
     "output_type": "stream",
     "text": [
      "<class 'geopandas.geodataframe.GeoDataFrame'>\n",
      "RangeIndex: 1640 entries, 0 to 1639\n",
      "Data columns (total 8 columns):\n",
      " #   Column      Non-Null Count  Dtype   \n",
      "---  ------      --------------  -----   \n",
      " 0   MedHouseVa  1640 non-null   float64 \n",
      " 1   MedIncome   1640 non-null   float64 \n",
      " 2   MedianAge   1640 non-null   float64 \n",
      " 3   Population  1640 non-null   float64 \n",
      " 4   Households  1640 non-null   float64 \n",
      " 5   roomsperHH  1640 non-null   float64 \n",
      " 6   bedroomHH   1640 non-null   float64 \n",
      " 7   geometry    1640 non-null   geometry\n",
      "dtypes: float64(7), geometry(1)\n",
      "memory usage: 102.6 KB\n"
     ]
    }
   ],
   "source": [
    "houses.info()"
   ]
  },
  {
   "cell_type": "markdown",
   "id": "ab453e1d-648f-4cd1-973d-36ce0656fdf9",
   "metadata": {
    "tags": []
   },
   "source": [
    "### SKATER Regionalization"
   ]
  },
  {
   "cell_type": "code",
   "execution_count": 8,
   "id": "68bfb952-5f1b-4fb3-a500-8adb6070453d",
   "metadata": {},
   "outputs": [
    {
     "data": {
      "text/plain": [
       "(1640, 8)"
      ]
     },
     "execution_count": 8,
     "metadata": {},
     "output_type": "execute_result"
    }
   ],
   "source": [
    "houses.shape"
   ]
  },
  {
   "cell_type": "code",
   "execution_count": 9,
   "id": "c327c886-94aa-435a-a08d-475d88de8ced",
   "metadata": {},
   "outputs": [],
   "source": [
    "attribute_name = ['MedHouseVa']"
   ]
  },
  {
   "cell_type": "code",
   "execution_count": 10,
   "id": "650f0eb6-30d2-426f-bdf4-6d1be1eaba4c",
   "metadata": {},
   "outputs": [
    {
     "name": "stderr",
     "output_type": "stream",
     "text": [
      "C:\\Users\\lukasb97\\AppData\\Local\\Temp\\ipykernel_20352\\266690351.py:1: FutureWarning: `use_index` defaults to False but will default to True in future. Set True/False directly to control this behavior and silence this warning\n",
      "  wq = Queen.from_dataframe(houses)\n"
     ]
    },
    {
     "data": {
      "text/plain": [
       "1640"
      ]
     },
     "execution_count": 10,
     "metadata": {},
     "output_type": "execute_result"
    }
   ],
   "source": [
    "wq = Queen.from_dataframe(houses)\n",
    "wq.n"
   ]
  },
  {
   "cell_type": "code",
   "execution_count": 11,
   "id": "426218d0-e923-4173-88eb-0756f3cc4ac7",
   "metadata": {},
   "outputs": [],
   "source": [
    "n_clusters = 22\n",
    "floor = 1"
   ]
  },
  {
   "cell_type": "code",
   "execution_count": 12,
   "id": "296ef06d-f6e5-4d21-9161-59a59b057d34",
   "metadata": {},
   "outputs": [],
   "source": [
    "spanning_forest_kwds = dict(\n",
    "    dissimilarity=skm.manhattan_distances,\n",
    "    affinity=None,\n",
    "    reduction=np.sum,\n",
    "    center=np.mean,\n",
    "    verbose=2)"
   ]
  },
  {
   "cell_type": "code",
   "execution_count": 13,
   "id": "47d959a5-2f0a-4990-b2e7-391daf810694",
   "metadata": {},
   "outputs": [],
   "source": [
    "trace = False\n",
    "islands = \"increase\""
   ]
  },
  {
   "cell_type": "code",
   "execution_count": 14,
   "id": "53573510-61a4-4a0b-be18-b0baf6a18ca6",
   "metadata": {},
   "outputs": [],
   "source": [
    "model = Skater(\n",
    "    houses, \n",
    "    wq, \n",
    "    attribute_name, \n",
    "    n_clusters = n_clusters, \n",
    "    floor =  floor,\n",
    "    trace = trace,\n",
    "    islands = islands,\n",
    "    spanning_forest_kwds = spanning_forest_kwds)"
   ]
  },
  {
   "cell_type": "code",
   "execution_count": 15,
   "id": "4b6c9045-0765-4867-9698-c6091c0fd615",
   "metadata": {},
   "outputs": [
    {
     "name": "stdout",
     "output_type": "stream",
     "text": [
      "Computing Affinity Kernel took 0.00s\n",
      "Computing initial MST took 0.00s\n",
      "Computing connected components took 0.00s.\n"
     ]
    },
    {
     "name": "stderr",
     "output_type": "stream",
     "text": [
      "<timed eval>:1: OptimizeWarning: By default, the graph is disconnected! Increasing `n_clusters` from 22 to 28 in order to account for islands.\n"
     ]
    },
    {
     "data": {
      "application/vnd.jupyter.widget-view+json": {
       "model_id": "d939715824cb46e4a497b89219771173",
       "version_major": 2,
       "version_minor": 0
      },
      "text/plain": [
       "finding cut...:   0%|          | 0/1634 [00:00<?, ?it/s]"
      ]
     },
     "metadata": {},
     "output_type": "display_data"
    },
    {
     "name": "stdout",
     "output_type": "stream",
     "text": [
      "making cut deletion(in_node=427, out_node=450, score=137201759.96080774)...\n"
     ]
    },
    {
     "data": {
      "application/vnd.jupyter.widget-view+json": {
       "model_id": "5d7fe9ecf5594765bfbb37d825b49d6c",
       "version_major": 2,
       "version_minor": 0
      },
      "text/plain": [
       "finding cut...:   0%|          | 0/1633 [00:00<?, ?it/s]"
      ]
     },
     "metadata": {},
     "output_type": "display_data"
    },
    {
     "name": "stdout",
     "output_type": "stream",
     "text": [
      "making cut deletion(in_node=917, out_node=919, score=126599755.96521792)...\n"
     ]
    },
    {
     "data": {
      "application/vnd.jupyter.widget-view+json": {
       "model_id": "7469abfd8a6343a1aefe4965e0c4e15d",
       "version_major": 2,
       "version_minor": 0
      },
      "text/plain": [
       "finding cut...:   0%|          | 0/1632 [00:00<?, ?it/s]"
      ]
     },
     "metadata": {},
     "output_type": "display_data"
    },
    {
     "name": "stdout",
     "output_type": "stream",
     "text": [
      "making cut deletion(in_node=1471, out_node=1473, score=114744348.19990142)...\n"
     ]
    },
    {
     "data": {
      "application/vnd.jupyter.widget-view+json": {
       "model_id": "68bbab0f346d49959c9b32eeb13aef51",
       "version_major": 2,
       "version_minor": 0
      },
      "text/plain": [
       "finding cut...:   0%|          | 0/1631 [00:00<?, ?it/s]"
      ]
     },
     "metadata": {},
     "output_type": "display_data"
    },
    {
     "name": "stdout",
     "output_type": "stream",
     "text": [
      "making cut deletion(in_node=1187, out_node=1281, score=111495827.10287091)...\n"
     ]
    },
    {
     "data": {
      "application/vnd.jupyter.widget-view+json": {
       "model_id": "78ea4b54232b478a8164dc0f1b906ae0",
       "version_major": 2,
       "version_minor": 0
      },
      "text/plain": [
       "finding cut...:   0%|          | 0/1630 [00:00<?, ?it/s]"
      ]
     },
     "metadata": {},
     "output_type": "display_data"
    },
    {
     "name": "stdout",
     "output_type": "stream",
     "text": [
      "making cut deletion(in_node=795, out_node=825, score=107883959.85829613)...\n"
     ]
    },
    {
     "data": {
      "application/vnd.jupyter.widget-view+json": {
       "model_id": "aebb6b8d23684221aeef036af4d90b25",
       "version_major": 2,
       "version_minor": 0
      },
      "text/plain": [
       "finding cut...:   0%|          | 0/1629 [00:00<?, ?it/s]"
      ]
     },
     "metadata": {},
     "output_type": "display_data"
    },
    {
     "name": "stdout",
     "output_type": "stream",
     "text": [
      "making cut deletion(in_node=172, out_node=180, score=104743972.11154863)...\n"
     ]
    },
    {
     "data": {
      "application/vnd.jupyter.widget-view+json": {
       "model_id": "89ac3d355f534cc1af39af75b1d4ea10",
       "version_major": 2,
       "version_minor": 0
      },
      "text/plain": [
       "finding cut...:   0%|          | 0/1628 [00:00<?, ?it/s]"
      ]
     },
     "metadata": {},
     "output_type": "display_data"
    },
    {
     "name": "stdout",
     "output_type": "stream",
     "text": [
      "making cut deletion(in_node=570, out_node=624, score=101736255.42857161)...\n"
     ]
    },
    {
     "data": {
      "application/vnd.jupyter.widget-view+json": {
       "model_id": "c2931d5a3bb34c12bec58505588962e1",
       "version_major": 2,
       "version_minor": 0
      },
      "text/plain": [
       "finding cut...:   0%|          | 0/1627 [00:00<?, ?it/s]"
      ]
     },
     "metadata": {},
     "output_type": "display_data"
    },
    {
     "name": "stdout",
     "output_type": "stream",
     "text": [
      "making cut deletion(in_node=1094, out_node=1125, score=99265971.16614015)...\n"
     ]
    },
    {
     "data": {
      "application/vnd.jupyter.widget-view+json": {
       "model_id": "989f078d2ce54ff4bfd04503713de5d5",
       "version_major": 2,
       "version_minor": 0
      },
      "text/plain": [
       "finding cut...:   0%|          | 0/1626 [00:00<?, ?it/s]"
      ]
     },
     "metadata": {},
     "output_type": "display_data"
    },
    {
     "name": "stdout",
     "output_type": "stream",
     "text": [
      "making cut deletion(in_node=95, out_node=129, score=96905354.53860374)...\n"
     ]
    },
    {
     "data": {
      "application/vnd.jupyter.widget-view+json": {
       "model_id": "5679083bf71e4145a5ae68dfca185908",
       "version_major": 2,
       "version_minor": 0
      },
      "text/plain": [
       "finding cut...:   0%|          | 0/1625 [00:00<?, ?it/s]"
      ]
     },
     "metadata": {},
     "output_type": "display_data"
    },
    {
     "name": "stdout",
     "output_type": "stream",
     "text": [
      "making cut deletion(in_node=603, out_node=615, score=94638508.60046448)...\n"
     ]
    },
    {
     "data": {
      "application/vnd.jupyter.widget-view+json": {
       "model_id": "b763472ae1bd4562aa87eaa1a83011ac",
       "version_major": 2,
       "version_minor": 0
      },
      "text/plain": [
       "finding cut...:   0%|          | 0/1624 [00:00<?, ?it/s]"
      ]
     },
     "metadata": {},
     "output_type": "display_data"
    },
    {
     "name": "stdout",
     "output_type": "stream",
     "text": [
      "making cut deletion(in_node=627, out_node=628, score=92641836.77980475)...\n"
     ]
    },
    {
     "data": {
      "application/vnd.jupyter.widget-view+json": {
       "model_id": "a195cc1ae05a4f3682943a1c526db84b",
       "version_major": 2,
       "version_minor": 0
      },
      "text/plain": [
       "finding cut...:   0%|          | 0/1623 [00:00<?, ?it/s]"
      ]
     },
     "metadata": {},
     "output_type": "display_data"
    },
    {
     "name": "stdout",
     "output_type": "stream",
     "text": [
      "making cut deletion(in_node=271, out_node=290, score=90846889.90788987)...\n"
     ]
    },
    {
     "data": {
      "application/vnd.jupyter.widget-view+json": {
       "model_id": "502931f621e148f58fccf0885dd509ef",
       "version_major": 2,
       "version_minor": 0
      },
      "text/plain": [
       "finding cut...:   0%|          | 0/1622 [00:00<?, ?it/s]"
      ]
     },
     "metadata": {},
     "output_type": "display_data"
    },
    {
     "name": "stdout",
     "output_type": "stream",
     "text": [
      "making cut deletion(in_node=995, out_node=1012, score=89216356.7873572)...\n"
     ]
    },
    {
     "data": {
      "application/vnd.jupyter.widget-view+json": {
       "model_id": "3a0b37e80be94a56b2e52859e0ada0b6",
       "version_major": 2,
       "version_minor": 0
      },
      "text/plain": [
       "finding cut...:   0%|          | 0/1621 [00:00<?, ?it/s]"
      ]
     },
     "metadata": {},
     "output_type": "display_data"
    },
    {
     "name": "stdout",
     "output_type": "stream",
     "text": [
      "making cut deletion(in_node=424, out_node=425, score=87679645.74569376)...\n"
     ]
    },
    {
     "data": {
      "application/vnd.jupyter.widget-view+json": {
       "model_id": "30ed4ed842084233a3bb60b782d4327d",
       "version_major": 2,
       "version_minor": 0
      },
      "text/plain": [
       "finding cut...:   0%|          | 0/1620 [00:00<?, ?it/s]"
      ]
     },
     "metadata": {},
     "output_type": "display_data"
    },
    {
     "name": "stdout",
     "output_type": "stream",
     "text": [
      "making cut deletion(in_node=419, out_node=451, score=86279357.85023227)...\n"
     ]
    },
    {
     "data": {
      "application/vnd.jupyter.widget-view+json": {
       "model_id": "3924c56fd6e8410e9a60a5286360a15b",
       "version_major": 2,
       "version_minor": 0
      },
      "text/plain": [
       "finding cut...:   0%|          | 0/1619 [00:00<?, ?it/s]"
      ]
     },
     "metadata": {},
     "output_type": "display_data"
    },
    {
     "name": "stdout",
     "output_type": "stream",
     "text": [
      "making cut deletion(in_node=1494, out_node=1495, score=84916941.88254198)...\n"
     ]
    },
    {
     "data": {
      "application/vnd.jupyter.widget-view+json": {
       "model_id": "38218b7357d148bda32045816e308574",
       "version_major": 2,
       "version_minor": 0
      },
      "text/plain": [
       "finding cut...:   0%|          | 0/1618 [00:00<?, ?it/s]"
      ]
     },
     "metadata": {},
     "output_type": "display_data"
    },
    {
     "name": "stdout",
     "output_type": "stream",
     "text": [
      "making cut deletion(in_node=1134, out_node=1139, score=83699414.16472442)...\n"
     ]
    },
    {
     "data": {
      "application/vnd.jupyter.widget-view+json": {
       "model_id": "ed061e6811554676b9e03226eb03216d",
       "version_major": 2,
       "version_minor": 0
      },
      "text/plain": [
       "finding cut...:   0%|          | 0/1617 [00:00<?, ?it/s]"
      ]
     },
     "metadata": {},
     "output_type": "display_data"
    },
    {
     "name": "stdout",
     "output_type": "stream",
     "text": [
      "making cut deletion(in_node=1083, out_node=1087, score=82627290.75243518)...\n"
     ]
    },
    {
     "data": {
      "application/vnd.jupyter.widget-view+json": {
       "model_id": "690ff9800b5a42c28b8886120f0a6f03",
       "version_major": 2,
       "version_minor": 0
      },
      "text/plain": [
       "finding cut...:   0%|          | 0/1616 [00:00<?, ?it/s]"
      ]
     },
     "metadata": {},
     "output_type": "display_data"
    },
    {
     "name": "stdout",
     "output_type": "stream",
     "text": [
      "making cut deletion(in_node=348, out_node=676, score=81663467.78233312)...\n"
     ]
    },
    {
     "data": {
      "application/vnd.jupyter.widget-view+json": {
       "model_id": "413633cb8204477ab13d8328e96c048d",
       "version_major": 2,
       "version_minor": 0
      },
      "text/plain": [
       "finding cut...:   0%|          | 0/1615 [00:00<?, ?it/s]"
      ]
     },
     "metadata": {},
     "output_type": "display_data"
    },
    {
     "name": "stdout",
     "output_type": "stream",
     "text": [
      "making cut deletion(in_node=710, out_node=743, score=80581622.78826061)...\n"
     ]
    },
    {
     "data": {
      "application/vnd.jupyter.widget-view+json": {
       "model_id": "ead60dd236f341a8ba3c2db87107d3a9",
       "version_major": 2,
       "version_minor": 0
      },
      "text/plain": [
       "finding cut...:   0%|          | 0/1614 [00:00<?, ?it/s]"
      ]
     },
     "metadata": {},
     "output_type": "display_data"
    },
    {
     "name": "stdout",
     "output_type": "stream",
     "text": [
      "making cut deletion(in_node=1248, out_node=1286, score=79659407.0023436)...\n"
     ]
    },
    {
     "data": {
      "application/vnd.jupyter.widget-view+json": {
       "model_id": "acb88212140f49bb90a1846f9428743c",
       "version_major": 2,
       "version_minor": 0
      },
      "text/plain": [
       "finding cut...:   0%|          | 0/1613 [00:00<?, ?it/s]"
      ]
     },
     "metadata": {},
     "output_type": "display_data"
    },
    {
     "name": "stdout",
     "output_type": "stream",
     "text": [
      "making cut deletion(in_node=1480, out_node=1486, score=78740432.50117019)...\n",
      "CPU times: total: 2min 16s\n",
      "Wall time: 2min 16s\n"
     ]
    }
   ],
   "source": [
    "%%time\n",
    "model.solve()"
   ]
  },
  {
   "cell_type": "code",
   "execution_count": 16,
   "id": "f43e5668-3fc7-4534-9c7b-b8c6be9a6963",
   "metadata": {},
   "outputs": [
    {
     "name": "stdout",
     "output_type": "stream",
     "text": [
      "skater_22\n"
     ]
    }
   ],
   "source": [
    "column_name = f'skater_{n_clusters}'\n",
    "print(column_name)"
   ]
  },
  {
   "cell_type": "code",
   "execution_count": 17,
   "id": "74eb690c-e1a7-464d-93a4-2025e477e50f",
   "metadata": {},
   "outputs": [],
   "source": [
    "houses[column_name] = model.labels_"
   ]
  },
  {
   "cell_type": "code",
   "execution_count": 18,
   "id": "c14737da-2fb1-4c3e-871a-fe39251040d5",
   "metadata": {},
   "outputs": [
    {
     "data": {
      "text/html": [
       "<div>\n",
       "<style scoped>\n",
       "    .dataframe tbody tr th:only-of-type {\n",
       "        vertical-align: middle;\n",
       "    }\n",
       "\n",
       "    .dataframe tbody tr th {\n",
       "        vertical-align: top;\n",
       "    }\n",
       "\n",
       "    .dataframe thead th {\n",
       "        text-align: right;\n",
       "    }\n",
       "</style>\n",
       "<table border=\"1\" class=\"dataframe\">\n",
       "  <thead>\n",
       "    <tr style=\"text-align: right;\">\n",
       "      <th></th>\n",
       "      <th>MedHouseVa</th>\n",
       "      <th>MedIncome</th>\n",
       "      <th>MedianAge</th>\n",
       "      <th>Population</th>\n",
       "      <th>Households</th>\n",
       "      <th>roomsperHH</th>\n",
       "      <th>bedroomHH</th>\n",
       "      <th>geometry</th>\n",
       "      <th>skater_22</th>\n",
       "    </tr>\n",
       "  </thead>\n",
       "  <tbody>\n",
       "    <tr>\n",
       "      <th>0</th>\n",
       "      <td>142600.0</td>\n",
       "      <td>3.0992</td>\n",
       "      <td>9.0</td>\n",
       "      <td>3293.0</td>\n",
       "      <td>840.0</td>\n",
       "      <td>4.342857</td>\n",
       "      <td>1.065476</td>\n",
       "      <td>POLYGON ((272734.822 -607559.551, 272046.019 -...</td>\n",
       "      <td>0</td>\n",
       "    </tr>\n",
       "  </tbody>\n",
       "</table>\n",
       "</div>"
      ],
      "text/plain": [
       "   MedHouseVa  MedIncome  MedianAge  Population  Households  roomsperHH  \\\n",
       "0    142600.0     3.0992        9.0      3293.0       840.0    4.342857   \n",
       "\n",
       "   bedroomHH                                           geometry  skater_22  \n",
       "0   1.065476  POLYGON ((272734.822 -607559.551, 272046.019 -...          0  "
      ]
     },
     "execution_count": 18,
     "metadata": {},
     "output_type": "execute_result"
    }
   ],
   "source": [
    "houses.head(1)"
   ]
  },
  {
   "cell_type": "code",
   "execution_count": 19,
   "id": "b720e3dd-25eb-437c-be78-3720e6e29960",
   "metadata": {},
   "outputs": [
    {
     "data": {
      "text/plain": [
       "<Axes: >"
      ]
     },
     "execution_count": 19,
     "metadata": {},
     "output_type": "execute_result"
    },
    {
     "data": {
      "image/png": "[encoded data removed]",
      "text/plain": [
       "<Figure size 640x480 with 1 Axes>"
      ]
     },
     "metadata": {},
     "output_type": "display_data"
    }
   ],
   "source": [
    "houses.plot(column=column_name, categorical=True)"
   ]
  },
  {
   "cell_type": "code",
   "execution_count": 20,
   "id": "7b5c7c72-12c6-4336-af62-b1cf0b5f9cef",
   "metadata": {},
   "outputs": [
    {
     "data": {
      "text/html": [
       "<div>\n",
       "<style scoped>\n",
       "    .dataframe tbody tr th:only-of-type {\n",
       "        vertical-align: middle;\n",
       "    }\n",
       "\n",
       "    .dataframe tbody tr th {\n",
       "        vertical-align: top;\n",
       "    }\n",
       "\n",
       "    .dataframe thead th {\n",
       "        text-align: right;\n",
       "    }\n",
       "</style>\n",
       "<table border=\"1\" class=\"dataframe\">\n",
       "  <thead>\n",
       "    <tr style=\"text-align: right;\">\n",
       "      <th></th>\n",
       "      <th>number</th>\n",
       "    </tr>\n",
       "    <tr>\n",
       "      <th>skater_22</th>\n",
       "      <th></th>\n",
       "    </tr>\n",
       "  </thead>\n",
       "  <tbody>\n",
       "    <tr>\n",
       "      <th>0</th>\n",
       "      <td>221</td>\n",
       "    </tr>\n",
       "    <tr>\n",
       "      <th>1</th>\n",
       "      <td>17</td>\n",
       "    </tr>\n",
       "    <tr>\n",
       "      <th>2</th>\n",
       "      <td>21</td>\n",
       "    </tr>\n",
       "    <tr>\n",
       "      <th>3</th>\n",
       "      <td>318</td>\n",
       "    </tr>\n",
       "    <tr>\n",
       "      <th>4</th>\n",
       "      <td>20</td>\n",
       "    </tr>\n",
       "    <tr>\n",
       "      <th>5</th>\n",
       "      <td>16</td>\n",
       "    </tr>\n",
       "    <tr>\n",
       "      <th>6</th>\n",
       "      <td>1</td>\n",
       "    </tr>\n",
       "    <tr>\n",
       "      <th>7</th>\n",
       "      <td>1</td>\n",
       "    </tr>\n",
       "    <tr>\n",
       "      <th>8</th>\n",
       "      <td>93</td>\n",
       "    </tr>\n",
       "    <tr>\n",
       "      <th>9</th>\n",
       "      <td>16</td>\n",
       "    </tr>\n",
       "    <tr>\n",
       "      <th>10</th>\n",
       "      <td>15</td>\n",
       "    </tr>\n",
       "    <tr>\n",
       "      <th>11</th>\n",
       "      <td>14</td>\n",
       "    </tr>\n",
       "    <tr>\n",
       "      <th>12</th>\n",
       "      <td>1</td>\n",
       "    </tr>\n",
       "    <tr>\n",
       "      <th>13</th>\n",
       "      <td>1</td>\n",
       "    </tr>\n",
       "    <tr>\n",
       "      <th>14</th>\n",
       "      <td>17</td>\n",
       "    </tr>\n",
       "    <tr>\n",
       "      <th>15</th>\n",
       "      <td>11</td>\n",
       "    </tr>\n",
       "    <tr>\n",
       "      <th>16</th>\n",
       "      <td>363</td>\n",
       "    </tr>\n",
       "    <tr>\n",
       "      <th>17</th>\n",
       "      <td>158</td>\n",
       "    </tr>\n",
       "    <tr>\n",
       "      <th>18</th>\n",
       "      <td>26</td>\n",
       "    </tr>\n",
       "    <tr>\n",
       "      <th>19</th>\n",
       "      <td>13</td>\n",
       "    </tr>\n",
       "    <tr>\n",
       "      <th>20</th>\n",
       "      <td>1</td>\n",
       "    </tr>\n",
       "    <tr>\n",
       "      <th>21</th>\n",
       "      <td>10</td>\n",
       "    </tr>\n",
       "    <tr>\n",
       "      <th>22</th>\n",
       "      <td>23</td>\n",
       "    </tr>\n",
       "    <tr>\n",
       "      <th>23</th>\n",
       "      <td>147</td>\n",
       "    </tr>\n",
       "    <tr>\n",
       "      <th>24</th>\n",
       "      <td>92</td>\n",
       "    </tr>\n",
       "    <tr>\n",
       "      <th>25</th>\n",
       "      <td>4</td>\n",
       "    </tr>\n",
       "    <tr>\n",
       "      <th>26</th>\n",
       "      <td>7</td>\n",
       "    </tr>\n",
       "    <tr>\n",
       "      <th>27</th>\n",
       "      <td>13</td>\n",
       "    </tr>\n",
       "  </tbody>\n",
       "</table>\n",
       "</div>"
      ],
      "text/plain": [
       "           number\n",
       "skater_22        \n",
       "0             221\n",
       "1              17\n",
       "2              21\n",
       "3             318\n",
       "4              20\n",
       "5              16\n",
       "6               1\n",
       "7               1\n",
       "8              93\n",
       "9              16\n",
       "10             15\n",
       "11             14\n",
       "12              1\n",
       "13              1\n",
       "14             17\n",
       "15             11\n",
       "16            363\n",
       "17            158\n",
       "18             26\n",
       "19             13\n",
       "20              1\n",
       "21             10\n",
       "22             23\n",
       "23            147\n",
       "24             92\n",
       "25              4\n",
       "26              7\n",
       "27             13"
      ]
     },
     "execution_count": 20,
     "metadata": {},
     "output_type": "execute_result"
    }
   ],
   "source": [
    "pd.set_option('display.max_rows', 28)\n",
    "houses['number'] = 1\n",
    "houses[[column_name,'number']].groupby(by=column_name).count()"
   ]
  },
  {
   "cell_type": "code",
   "execution_count": 21,
   "id": "23113335-4f13-4d85-a477-6043f2ae4a56",
   "metadata": {},
   "outputs": [],
   "source": [
    "single_object_clusters = houses[houses[column_name].apply(lambda x: houses[column_name].value_counts()[x] == 1)]"
   ]
  },
  {
   "cell_type": "code",
   "execution_count": 22,
   "id": "2f743555-60b8-4f2f-9485-4d2420438331",
   "metadata": {},
   "outputs": [
    {
     "data": {
      "text/html": [
       "<div>\n",
       "<style scoped>\n",
       "    .dataframe tbody tr th:only-of-type {\n",
       "        vertical-align: middle;\n",
       "    }\n",
       "\n",
       "    .dataframe tbody tr th {\n",
       "        vertical-align: top;\n",
       "    }\n",
       "\n",
       "    .dataframe thead th {\n",
       "        text-align: right;\n",
       "    }\n",
       "</style>\n",
       "<table border=\"1\" class=\"dataframe\">\n",
       "  <thead>\n",
       "    <tr style=\"text-align: right;\">\n",
       "      <th></th>\n",
       "      <th>MedHouseVa</th>\n",
       "      <th>MedIncome</th>\n",
       "      <th>MedianAge</th>\n",
       "      <th>Population</th>\n",
       "      <th>Households</th>\n",
       "      <th>roomsperHH</th>\n",
       "      <th>bedroomHH</th>\n",
       "      <th>geometry</th>\n",
       "      <th>skater_22</th>\n",
       "      <th>number</th>\n",
       "    </tr>\n",
       "  </thead>\n",
       "  <tbody>\n",
       "    <tr>\n",
       "      <th>251</th>\n",
       "      <td>500001.0</td>\n",
       "      <td>11.9993</td>\n",
       "      <td>31.0</td>\n",
       "      <td>1490.0</td>\n",
       "      <td>577.0</td>\n",
       "      <td>8.324090</td>\n",
       "      <td>0.996534</td>\n",
       "      <td>POLYGON ((141110.223 -464274.079, 147762.867 -...</td>\n",
       "      <td>6</td>\n",
       "      <td>1</td>\n",
       "    </tr>\n",
       "    <tr>\n",
       "      <th>256</th>\n",
       "      <td>500001.0</td>\n",
       "      <td>5.0106</td>\n",
       "      <td>33.0</td>\n",
       "      <td>1647.0</td>\n",
       "      <td>931.0</td>\n",
       "      <td>4.290011</td>\n",
       "      <td>1.063373</td>\n",
       "      <td>POLYGON ((141439.112 -462683.531, 147985.207 -...</td>\n",
       "      <td>7</td>\n",
       "      <td>1</td>\n",
       "    </tr>\n",
       "    <tr>\n",
       "      <th>478</th>\n",
       "      <td>500001.0</td>\n",
       "      <td>7.1674</td>\n",
       "      <td>26.0</td>\n",
       "      <td>1322.0</td>\n",
       "      <td>666.0</td>\n",
       "      <td>5.307808</td>\n",
       "      <td>1.123123</td>\n",
       "      <td>POLYGON ((144209.354 -438323.227, 143066.098 -...</td>\n",
       "      <td>12</td>\n",
       "      <td>1</td>\n",
       "    </tr>\n",
       "    <tr>\n",
       "      <th>487</th>\n",
       "      <td>500001.0</td>\n",
       "      <td>14.2867</td>\n",
       "      <td>49.0</td>\n",
       "      <td>850.0</td>\n",
       "      <td>318.0</td>\n",
       "      <td>7.603774</td>\n",
       "      <td>0.946541</td>\n",
       "      <td>POLYGON ((141599.297 -438664.816, 138816.663 -...</td>\n",
       "      <td>13</td>\n",
       "      <td>1</td>\n",
       "    </tr>\n",
       "    <tr>\n",
       "      <th>1102</th>\n",
       "      <td>500001.0</td>\n",
       "      <td>8.6963</td>\n",
       "      <td>33.0</td>\n",
       "      <td>727.0</td>\n",
       "      <td>271.0</td>\n",
       "      <td>5.926199</td>\n",
       "      <td>0.937269</td>\n",
       "      <td>POLYGON ((-198399.925 -65433.776, -198647.892 ...</td>\n",
       "      <td>20</td>\n",
       "      <td>1</td>\n",
       "    </tr>\n",
       "  </tbody>\n",
       "</table>\n",
       "</div>"
      ],
      "text/plain": [
       "      MedHouseVa  MedIncome  MedianAge  Population  Households  roomsperHH  \\\n",
       "251     500001.0    11.9993       31.0      1490.0       577.0    8.324090   \n",
       "256     500001.0     5.0106       33.0      1647.0       931.0    4.290011   \n",
       "478     500001.0     7.1674       26.0      1322.0       666.0    5.307808   \n",
       "487     500001.0    14.2867       49.0       850.0       318.0    7.603774   \n",
       "1102    500001.0     8.6963       33.0       727.0       271.0    5.926199   \n",
       "\n",
       "      bedroomHH                                           geometry  skater_22  \\\n",
       "251    0.996534  POLYGON ((141110.223 -464274.079, 147762.867 -...          6   \n",
       "256    1.063373  POLYGON ((141439.112 -462683.531, 147985.207 -...          7   \n",
       "478    1.123123  POLYGON ((144209.354 -438323.227, 143066.098 -...         12   \n",
       "487    0.946541  POLYGON ((141599.297 -438664.816, 138816.663 -...         13   \n",
       "1102   0.937269  POLYGON ((-198399.925 -65433.776, -198647.892 ...         20   \n",
       "\n",
       "      number  \n",
       "251        1  \n",
       "256        1  \n",
       "478        1  \n",
       "487        1  \n",
       "1102       1  "
      ]
     },
     "execution_count": 22,
     "metadata": {},
     "output_type": "execute_result"
    }
   ],
   "source": [
    "single_object_clusters"
   ]
  },
  {
   "cell_type": "code",
   "execution_count": 23,
   "id": "a12ce794-eb52-4105-92e4-c6a2e0e7946f",
   "metadata": {},
   "outputs": [],
   "source": [
    "# Iterate over single-object clusters\n",
    "for index, cluster in single_object_clusters.iterrows():\n",
    "    cluster_geometry = cluster.geometry\n",
    "    \n",
    "    neighboring_clusters = houses[houses.geometry.touches(cluster_geometry)]\n",
    "    \n",
    "    biggest_cluster = neighboring_clusters[neighboring_clusters[column_name].apply(lambda x: houses[column_name].value_counts()[x] > 1)].sort_values(by=column_name, ascending=False).iloc[0]\n",
    "    \n",
    "    houses.at[index, column_name] = biggest_cluster[column_name]"
   ]
  },
  {
   "cell_type": "code",
   "execution_count": 24,
   "id": "349049ed-0c84-4cd4-bdc5-b07544810293",
   "metadata": {},
   "outputs": [],
   "source": [
    "single_object_clusters = houses[houses[column_name].apply(lambda x: houses[column_name].value_counts()[x] == 1)]"
   ]
  },
  {
   "cell_type": "code",
   "execution_count": 25,
   "id": "5ab3ac11-e11e-46de-bc33-ee8eb8be54ab",
   "metadata": {},
   "outputs": [
    {
     "data": {
      "text/html": [
       "<div>\n",
       "<style scoped>\n",
       "    .dataframe tbody tr th:only-of-type {\n",
       "        vertical-align: middle;\n",
       "    }\n",
       "\n",
       "    .dataframe tbody tr th {\n",
       "        vertical-align: top;\n",
       "    }\n",
       "\n",
       "    .dataframe thead th {\n",
       "        text-align: right;\n",
       "    }\n",
       "</style>\n",
       "<table border=\"1\" class=\"dataframe\">\n",
       "  <thead>\n",
       "    <tr style=\"text-align: right;\">\n",
       "      <th></th>\n",
       "      <th>MedHouseVa</th>\n",
       "      <th>MedIncome</th>\n",
       "      <th>MedianAge</th>\n",
       "      <th>Population</th>\n",
       "      <th>Households</th>\n",
       "      <th>roomsperHH</th>\n",
       "      <th>bedroomHH</th>\n",
       "      <th>geometry</th>\n",
       "      <th>skater_22</th>\n",
       "      <th>number</th>\n",
       "    </tr>\n",
       "  </thead>\n",
       "  <tbody>\n",
       "  </tbody>\n",
       "</table>\n",
       "</div>"
      ],
      "text/plain": [
       "Empty GeoDataFrame\n",
       "Columns: [MedHouseVa, MedIncome, MedianAge, Population, Households, roomsperHH, bedroomHH, geometry, skater_22, number]\n",
       "Index: []"
      ]
     },
     "execution_count": 25,
     "metadata": {},
     "output_type": "execute_result"
    }
   ],
   "source": [
    "# no more left\n",
    "single_object_clusters"
   ]
  },
  {
   "cell_type": "code",
   "execution_count": 26,
   "id": "2a3ffc70-b861-4846-b72b-caad48934d62",
   "metadata": {},
   "outputs": [
    {
     "data": {
      "text/html": [
       "<div>\n",
       "<style scoped>\n",
       "    .dataframe tbody tr th:only-of-type {\n",
       "        vertical-align: middle;\n",
       "    }\n",
       "\n",
       "    .dataframe tbody tr th {\n",
       "        vertical-align: top;\n",
       "    }\n",
       "\n",
       "    .dataframe thead th {\n",
       "        text-align: right;\n",
       "    }\n",
       "</style>\n",
       "<table border=\"1\" class=\"dataframe\">\n",
       "  <thead>\n",
       "    <tr style=\"text-align: right;\">\n",
       "      <th></th>\n",
       "      <th>number</th>\n",
       "    </tr>\n",
       "    <tr>\n",
       "      <th>skater_22</th>\n",
       "      <th></th>\n",
       "    </tr>\n",
       "  </thead>\n",
       "  <tbody>\n",
       "    <tr>\n",
       "      <th>0</th>\n",
       "      <td>221</td>\n",
       "    </tr>\n",
       "    <tr>\n",
       "      <th>1</th>\n",
       "      <td>17</td>\n",
       "    </tr>\n",
       "    <tr>\n",
       "      <th>2</th>\n",
       "      <td>21</td>\n",
       "    </tr>\n",
       "    <tr>\n",
       "      <th>3</th>\n",
       "      <td>318</td>\n",
       "    </tr>\n",
       "    <tr>\n",
       "      <th>4</th>\n",
       "      <td>20</td>\n",
       "    </tr>\n",
       "    <tr>\n",
       "      <th>5</th>\n",
       "      <td>18</td>\n",
       "    </tr>\n",
       "    <tr>\n",
       "      <th>8</th>\n",
       "      <td>93</td>\n",
       "    </tr>\n",
       "    <tr>\n",
       "      <th>9</th>\n",
       "      <td>16</td>\n",
       "    </tr>\n",
       "    <tr>\n",
       "      <th>10</th>\n",
       "      <td>15</td>\n",
       "    </tr>\n",
       "    <tr>\n",
       "      <th>11</th>\n",
       "      <td>14</td>\n",
       "    </tr>\n",
       "    <tr>\n",
       "      <th>14</th>\n",
       "      <td>19</td>\n",
       "    </tr>\n",
       "    <tr>\n",
       "      <th>15</th>\n",
       "      <td>11</td>\n",
       "    </tr>\n",
       "    <tr>\n",
       "      <th>16</th>\n",
       "      <td>363</td>\n",
       "    </tr>\n",
       "    <tr>\n",
       "      <th>17</th>\n",
       "      <td>158</td>\n",
       "    </tr>\n",
       "    <tr>\n",
       "      <th>18</th>\n",
       "      <td>26</td>\n",
       "    </tr>\n",
       "    <tr>\n",
       "      <th>19</th>\n",
       "      <td>13</td>\n",
       "    </tr>\n",
       "    <tr>\n",
       "      <th>21</th>\n",
       "      <td>11</td>\n",
       "    </tr>\n",
       "    <tr>\n",
       "      <th>22</th>\n",
       "      <td>23</td>\n",
       "    </tr>\n",
       "    <tr>\n",
       "      <th>23</th>\n",
       "      <td>147</td>\n",
       "    </tr>\n",
       "    <tr>\n",
       "      <th>24</th>\n",
       "      <td>92</td>\n",
       "    </tr>\n",
       "    <tr>\n",
       "      <th>25</th>\n",
       "      <td>4</td>\n",
       "    </tr>\n",
       "    <tr>\n",
       "      <th>26</th>\n",
       "      <td>7</td>\n",
       "    </tr>\n",
       "    <tr>\n",
       "      <th>27</th>\n",
       "      <td>13</td>\n",
       "    </tr>\n",
       "  </tbody>\n",
       "</table>\n",
       "</div>"
      ],
      "text/plain": [
       "           number\n",
       "skater_22        \n",
       "0             221\n",
       "1              17\n",
       "2              21\n",
       "3             318\n",
       "4              20\n",
       "5              18\n",
       "8              93\n",
       "9              16\n",
       "10             15\n",
       "11             14\n",
       "14             19\n",
       "15             11\n",
       "16            363\n",
       "17            158\n",
       "18             26\n",
       "19             13\n",
       "21             11\n",
       "22             23\n",
       "23            147\n",
       "24             92\n",
       "25              4\n",
       "26              7\n",
       "27             13"
      ]
     },
     "execution_count": 26,
     "metadata": {},
     "output_type": "execute_result"
    }
   ],
   "source": [
    "pd.set_option('display.max_rows', 40)\n",
    "houses['number'] = 1\n",
    "houses[[column_name,'number']].groupby(by=column_name).count()"
   ]
  },
  {
   "cell_type": "markdown",
   "id": "5f7b16af-e874-4847-a125-8b790b62b7c2",
   "metadata": {},
   "source": [
    "### Choose best model, then only keep necessary columns"
   ]
  },
  {
   "cell_type": "code",
   "execution_count": 27,
   "id": "33564bc9-eba5-4c5a-aba4-e19be6d0249f",
   "metadata": {},
   "outputs": [
    {
     "data": {
      "text/html": [
       "<div>\n",
       "<style scoped>\n",
       "    .dataframe tbody tr th:only-of-type {\n",
       "        vertical-align: middle;\n",
       "    }\n",
       "\n",
       "    .dataframe tbody tr th {\n",
       "        vertical-align: top;\n",
       "    }\n",
       "\n",
       "    .dataframe thead th {\n",
       "        text-align: right;\n",
       "    }\n",
       "</style>\n",
       "<table border=\"1\" class=\"dataframe\">\n",
       "  <thead>\n",
       "    <tr style=\"text-align: right;\">\n",
       "      <th></th>\n",
       "      <th>MedHouseVa</th>\n",
       "      <th>MedIncome</th>\n",
       "      <th>MedianAge</th>\n",
       "      <th>Population</th>\n",
       "      <th>Households</th>\n",
       "      <th>roomsperHH</th>\n",
       "      <th>bedroomHH</th>\n",
       "      <th>geometry</th>\n",
       "      <th>skater_22</th>\n",
       "      <th>number</th>\n",
       "    </tr>\n",
       "  </thead>\n",
       "  <tbody>\n",
       "    <tr>\n",
       "      <th>0</th>\n",
       "      <td>142600.0</td>\n",
       "      <td>3.0992</td>\n",
       "      <td>9.0</td>\n",
       "      <td>3293.0</td>\n",
       "      <td>840.0</td>\n",
       "      <td>4.342857</td>\n",
       "      <td>1.065476</td>\n",
       "      <td>POLYGON ((272734.822 -607559.551, 272046.019 -...</td>\n",
       "      <td>0</td>\n",
       "      <td>1</td>\n",
       "    </tr>\n",
       "  </tbody>\n",
       "</table>\n",
       "</div>"
      ],
      "text/plain": [
       "   MedHouseVa  MedIncome  MedianAge  Population  Households  roomsperHH  \\\n",
       "0    142600.0     3.0992        9.0      3293.0       840.0    4.342857   \n",
       "\n",
       "   bedroomHH                                           geometry  skater_22  \\\n",
       "0   1.065476  POLYGON ((272734.822 -607559.551, 272046.019 -...          0   \n",
       "\n",
       "   number  \n",
       "0       1  "
      ]
     },
     "execution_count": 27,
     "metadata": {},
     "output_type": "execute_result"
    }
   ],
   "source": [
    "houses.head(1)"
   ]
  },
  {
   "cell_type": "code",
   "execution_count": 28,
   "id": "1ce9d107-7aa3-4fc3-b76c-ec00c2327746",
   "metadata": {},
   "outputs": [
    {
     "data": {
      "text/html": [
       "<div>\n",
       "<style scoped>\n",
       "    .dataframe tbody tr th:only-of-type {\n",
       "        vertical-align: middle;\n",
       "    }\n",
       "\n",
       "    .dataframe tbody tr th {\n",
       "        vertical-align: top;\n",
       "    }\n",
       "\n",
       "    .dataframe thead th {\n",
       "        text-align: right;\n",
       "    }\n",
       "</style>\n",
       "<table border=\"1\" class=\"dataframe\">\n",
       "  <thead>\n",
       "    <tr style=\"text-align: right;\">\n",
       "      <th></th>\n",
       "      <th>MedHouseVa</th>\n",
       "      <th>MedIncome</th>\n",
       "      <th>MedianAge</th>\n",
       "      <th>Population</th>\n",
       "      <th>Households</th>\n",
       "      <th>roomsperHH</th>\n",
       "      <th>bedroomHH</th>\n",
       "      <th>geometry</th>\n",
       "      <th>skater_22</th>\n",
       "    </tr>\n",
       "  </thead>\n",
       "  <tbody>\n",
       "    <tr>\n",
       "      <th>0</th>\n",
       "      <td>142600.0</td>\n",
       "      <td>3.0992</td>\n",
       "      <td>9.0</td>\n",
       "      <td>3293.0</td>\n",
       "      <td>840.0</td>\n",
       "      <td>4.342857</td>\n",
       "      <td>1.065476</td>\n",
       "      <td>POLYGON ((272734.822 -607559.551, 272046.019 -...</td>\n",
       "      <td>0</td>\n",
       "    </tr>\n",
       "  </tbody>\n",
       "</table>\n",
       "</div>"
      ],
      "text/plain": [
       "   MedHouseVa  MedIncome  MedianAge  Population  Households  roomsperHH  \\\n",
       "0    142600.0     3.0992        9.0      3293.0       840.0    4.342857   \n",
       "\n",
       "   bedroomHH                                           geometry  skater_22  \n",
       "0   1.065476  POLYGON ((272734.822 -607559.551, 272046.019 -...          0  "
      ]
     },
     "execution_count": 28,
     "metadata": {},
     "output_type": "execute_result"
    }
   ],
   "source": [
    "keepcolumns = ['MedHouseVa', 'MedIncome', 'MedianAge', 'Population', 'Households', 'roomsperHH', 'bedroomHH', 'geometry', \n",
    "               'skater_22']\n",
    "houses = houses.loc[:, keepcolumns]\n",
    "houses.head(1)"
   ]
  },
  {
   "cell_type": "markdown",
   "id": "f225559b-7e1b-46c5-8a62-7cfd222b0858",
   "metadata": {
    "tags": []
   },
   "source": [
    "## Spatial join the test data"
   ]
  },
  {
   "cell_type": "code",
   "execution_count": 29,
   "id": "8fe1bde3-8dd6-4c52-ac9f-7ead636fad84",
   "metadata": {},
   "outputs": [],
   "source": [
    "test_p = gpd.read_file(test_p_pth)"
   ]
  },
  {
   "cell_type": "code",
   "execution_count": 30,
   "id": "983b5eeb-f0ae-4951-9ee6-fce25ea4bb9e",
   "metadata": {},
   "outputs": [
    {
     "data": {
      "text/html": [
       "<div>\n",
       "<style scoped>\n",
       "    .dataframe tbody tr th:only-of-type {\n",
       "        vertical-align: middle;\n",
       "    }\n",
       "\n",
       "    .dataframe tbody tr th {\n",
       "        vertical-align: top;\n",
       "    }\n",
       "\n",
       "    .dataframe thead th {\n",
       "        text-align: right;\n",
       "    }\n",
       "</style>\n",
       "<table border=\"1\" class=\"dataframe\">\n",
       "  <thead>\n",
       "    <tr style=\"text-align: right;\">\n",
       "      <th></th>\n",
       "      <th>MedHouseVa</th>\n",
       "      <th>MedIncome</th>\n",
       "      <th>MedianAge</th>\n",
       "      <th>Population</th>\n",
       "      <th>Households</th>\n",
       "      <th>roomsperHH</th>\n",
       "      <th>bedroomHH</th>\n",
       "      <th>geometry</th>\n",
       "    </tr>\n",
       "  </thead>\n",
       "  <tbody>\n",
       "    <tr>\n",
       "      <th>0</th>\n",
       "      <td>55000.0</td>\n",
       "      <td>1.6071</td>\n",
       "      <td>27.0</td>\n",
       "      <td>587.0</td>\n",
       "      <td>231.0</td>\n",
       "      <td>4.190476</td>\n",
       "      <td>1.038961</td>\n",
       "      <td>POINT (-6223.359 -116314.796)</td>\n",
       "    </tr>\n",
       "    <tr>\n",
       "      <th>1</th>\n",
       "      <td>104200.0</td>\n",
       "      <td>2.1250</td>\n",
       "      <td>16.0</td>\n",
       "      <td>1077.0</td>\n",
       "      <td>520.0</td>\n",
       "      <td>5.046154</td>\n",
       "      <td>1.013462</td>\n",
       "      <td>POINT (60108.280 -192791.957)</td>\n",
       "    </tr>\n",
       "  </tbody>\n",
       "</table>\n",
       "</div>"
      ],
      "text/plain": [
       "   MedHouseVa  MedIncome  MedianAge  Population  Households  roomsperHH  \\\n",
       "0     55000.0     1.6071       27.0       587.0       231.0    4.190476   \n",
       "1    104200.0     2.1250       16.0      1077.0       520.0    5.046154   \n",
       "\n",
       "   bedroomHH                       geometry  \n",
       "0   1.038961  POINT (-6223.359 -116314.796)  \n",
       "1   1.013462  POINT (60108.280 -192791.957)  "
      ]
     },
     "execution_count": 30,
     "metadata": {},
     "output_type": "execute_result"
    }
   ],
   "source": [
    "test_p.head(2)"
   ]
  },
  {
   "cell_type": "code",
   "execution_count": 31,
   "id": "97731ee7-ea00-4722-a776-1c84b99734e6",
   "metadata": {},
   "outputs": [
    {
     "data": {
      "text/plain": [
       "(411, 8)"
      ]
     },
     "execution_count": 31,
     "metadata": {},
     "output_type": "execute_result"
    }
   ],
   "source": [
    "test_p.shape"
   ]
  },
  {
   "cell_type": "code",
   "execution_count": 32,
   "id": "f6d2307d-efde-4247-9606-2dce1cd5e540",
   "metadata": {},
   "outputs": [
    {
     "data": {
      "text/plain": [
       "<Axes: >"
      ]
     },
     "execution_count": 32,
     "metadata": {},
     "output_type": "execute_result"
    },
    {
     "data": {
      "image/png": "[encoded data removed]",
      "text/plain": [
       "<Figure size 640x480 with 1 Axes>"
      ]
     },
     "metadata": {},
     "output_type": "display_data"
    }
   ],
   "source": [
    "test_p.plot()"
   ]
  },
  {
   "cell_type": "code",
   "execution_count": 33,
   "id": "90118f49-d9a0-4fc1-b14b-86cbb83411db",
   "metadata": {},
   "outputs": [
    {
     "name": "stderr",
     "output_type": "stream",
     "text": [
      "C:\\Users\\lukasb97\\.conda\\envs\\test\\Lib\\site-packages\\IPython\\core\\interactiveshell.py:3488: FutureWarning: The `op` parameter is deprecated and will be removed in a future release. Please use the `predicate` parameter instead.\n",
      "  if await self.run_code(code, result, async_=asy):\n"
     ]
    }
   ],
   "source": [
    "# temporary copy so just the columns wanted are in the join\n",
    "temp_train_gdf = houses[['skater_22', 'geometry']].copy()\n",
    "\n",
    "joined_gdf = gpd.sjoin(test_p, temp_train_gdf, how=\"left\", op=\"within\")\n",
    "joined_gdf = joined_gdf.drop(columns=['index_right'])\n",
    "\n",
    "# --> provides test data with cluster number"
   ]
  },
  {
   "cell_type": "code",
   "execution_count": 34,
   "id": "50502335-0e98-4c73-8e81-63b23eec8553",
   "metadata": {},
   "outputs": [
    {
     "data": {
      "text/html": [
       "<div>\n",
       "<style scoped>\n",
       "    .dataframe tbody tr th:only-of-type {\n",
       "        vertical-align: middle;\n",
       "    }\n",
       "\n",
       "    .dataframe tbody tr th {\n",
       "        vertical-align: top;\n",
       "    }\n",
       "\n",
       "    .dataframe thead th {\n",
       "        text-align: right;\n",
       "    }\n",
       "</style>\n",
       "<table border=\"1\" class=\"dataframe\">\n",
       "  <thead>\n",
       "    <tr style=\"text-align: right;\">\n",
       "      <th></th>\n",
       "      <th>MedHouseVa</th>\n",
       "      <th>MedIncome</th>\n",
       "      <th>MedianAge</th>\n",
       "      <th>Population</th>\n",
       "      <th>Households</th>\n",
       "      <th>roomsperHH</th>\n",
       "      <th>bedroomHH</th>\n",
       "      <th>geometry</th>\n",
       "      <th>skater_22</th>\n",
       "    </tr>\n",
       "  </thead>\n",
       "  <tbody>\n",
       "    <tr>\n",
       "      <th>0</th>\n",
       "      <td>142600.0</td>\n",
       "      <td>3.0992</td>\n",
       "      <td>9.0</td>\n",
       "      <td>3293.0</td>\n",
       "      <td>840.0</td>\n",
       "      <td>4.342857</td>\n",
       "      <td>1.065476</td>\n",
       "      <td>POLYGON ((272734.822 -607559.551, 272046.019 -...</td>\n",
       "      <td>0</td>\n",
       "    </tr>\n",
       "  </tbody>\n",
       "</table>\n",
       "</div>"
      ],
      "text/plain": [
       "   MedHouseVa  MedIncome  MedianAge  Population  Households  roomsperHH  \\\n",
       "0    142600.0     3.0992        9.0      3293.0       840.0    4.342857   \n",
       "\n",
       "   bedroomHH                                           geometry  skater_22  \n",
       "0   1.065476  POLYGON ((272734.822 -607559.551, 272046.019 -...          0  "
      ]
     },
     "execution_count": 34,
     "metadata": {},
     "output_type": "execute_result"
    }
   ],
   "source": [
    "houses.head(1)"
   ]
  },
  {
   "cell_type": "code",
   "execution_count": 35,
   "id": "e287cd7e-a3ae-4cf2-ba61-c545211608fb",
   "metadata": {},
   "outputs": [
    {
     "data": {
      "text/html": [
       "<div>\n",
       "<style scoped>\n",
       "    .dataframe tbody tr th:only-of-type {\n",
       "        vertical-align: middle;\n",
       "    }\n",
       "\n",
       "    .dataframe tbody tr th {\n",
       "        vertical-align: top;\n",
       "    }\n",
       "\n",
       "    .dataframe thead th {\n",
       "        text-align: right;\n",
       "    }\n",
       "</style>\n",
       "<table border=\"1\" class=\"dataframe\">\n",
       "  <thead>\n",
       "    <tr style=\"text-align: right;\">\n",
       "      <th></th>\n",
       "      <th>MedHouseVa</th>\n",
       "      <th>MedIncome</th>\n",
       "      <th>MedianAge</th>\n",
       "      <th>Population</th>\n",
       "      <th>Households</th>\n",
       "      <th>roomsperHH</th>\n",
       "      <th>bedroomHH</th>\n",
       "      <th>geometry</th>\n",
       "      <th>skater_22</th>\n",
       "    </tr>\n",
       "  </thead>\n",
       "  <tbody>\n",
       "    <tr>\n",
       "      <th>0</th>\n",
       "      <td>55000.0</td>\n",
       "      <td>1.6071</td>\n",
       "      <td>27.0</td>\n",
       "      <td>587.0</td>\n",
       "      <td>231.0</td>\n",
       "      <td>4.190476</td>\n",
       "      <td>1.038961</td>\n",
       "      <td>POINT (-6223.359 -116314.796)</td>\n",
       "      <td>16</td>\n",
       "    </tr>\n",
       "  </tbody>\n",
       "</table>\n",
       "</div>"
      ],
      "text/plain": [
       "   MedHouseVa  MedIncome  MedianAge  Population  Households  roomsperHH  \\\n",
       "0     55000.0     1.6071       27.0       587.0       231.0    4.190476   \n",
       "\n",
       "   bedroomHH                       geometry  skater_22  \n",
       "0   1.038961  POINT (-6223.359 -116314.796)         16  "
      ]
     },
     "execution_count": 35,
     "metadata": {},
     "output_type": "execute_result"
    }
   ],
   "source": [
    "joined_gdf.head(1)"
   ]
  },
  {
   "cell_type": "code",
   "execution_count": 36,
   "id": "cdb2e2c8-e11f-42ad-a143-fae45066e259",
   "metadata": {},
   "outputs": [
    {
     "name": "stdout",
     "output_type": "stream",
     "text": [
      "(411, 9)\n",
      "(1640, 9)\n"
     ]
    }
   ],
   "source": [
    "print(joined_gdf.shape)\n",
    "print(houses.shape)"
   ]
  },
  {
   "cell_type": "code",
   "execution_count": 37,
   "id": "a1d4f97f-08be-4482-b496-1bb1145bf591",
   "metadata": {
    "tags": []
   },
   "outputs": [
    {
     "data": {
      "text/plain": [
       "<Axes: >"
      ]
     },
     "execution_count": 37,
     "metadata": {},
     "output_type": "execute_result"
    },
    {
     "data": {
      "image/png": "[encoded data removed]",
      "text/plain": [
       "<Figure size 500x500 with 1 Axes>"
      ]
     },
     "metadata": {},
     "output_type": "display_data"
    }
   ],
   "source": [
    "joined_gdf.plot(column='skater_22', categorical=True, figsize=(5,5), )"
   ]
  },
  {
   "cell_type": "markdown",
   "id": "3b0cea57-6483-447d-9516-dc7c9f1b75e4",
   "metadata": {
    "tags": []
   },
   "source": [
    "## Variable Definitions for RF models"
   ]
  },
  {
   "cell_type": "code",
   "execution_count": 38,
   "id": "ce40515e-bdb6-4224-aee4-64bbbd252b11",
   "metadata": {},
   "outputs": [],
   "source": [
    "X_train = houses.drop([\"MedHouseVa\", \"geometry\"], axis=1)\n",
    "y_train = houses['MedHouseVa']\n",
    "\n",
    "X_test = joined_gdf.drop([\"MedHouseVa\", \"geometry\"], axis=1)\n",
    "y_test = joined_gdf['MedHouseVa']"
   ]
  },
  {
   "cell_type": "code",
   "execution_count": 39,
   "id": "9b04d0e2-ee44-4f0e-811d-c2b7627e7a6c",
   "metadata": {
    "tags": []
   },
   "outputs": [
    {
     "name": "stdout",
     "output_type": "stream",
     "text": [
      "Training Features Shape: (1640, 7)\n",
      "Training Labels Shape: (1640,)\n",
      "Testing Features Shape: (411, 7)\n",
      "Testing Labels Shape: (411,)\n"
     ]
    }
   ],
   "source": [
    "print('Training Features Shape:', X_train.shape)\n",
    "print('Training Labels Shape:', y_train.shape)\n",
    "print('Testing Features Shape:', X_test.shape)\n",
    "print('Testing Labels Shape:', y_test.shape)"
   ]
  },
  {
   "cell_type": "code",
   "execution_count": 40,
   "id": "3a6693b7-956e-41d9-af43-e892370b2ee5",
   "metadata": {},
   "outputs": [],
   "source": [
    "# Define labels and weights for loop - change depending on which model gets used\n",
    "region_labels = houses['skater_22'].values\n",
    "region_labels_test = joined_gdf['skater_22'].values\n",
    "weights = [len(y_train[region_labels == i]) for i in range(len(np.unique(region_labels)))]"
   ]
  },
  {
   "cell_type": "code",
   "execution_count": 41,
   "id": "288df083-32cc-4284-a4a5-bc088eac36ea",
   "metadata": {},
   "outputs": [
    {
     "data": {
      "text/plain": [
       "array([ 0,  1,  2,  3,  4,  5,  8,  9, 10, 11, 14, 15, 16, 17, 18, 19, 21,\n",
       "       22, 23, 24, 25, 26, 27])"
      ]
     },
     "execution_count": 41,
     "metadata": {},
     "output_type": "execute_result"
    }
   ],
   "source": [
    "np.unique(region_labels)"
   ]
  },
  {
   "cell_type": "code",
   "execution_count": 42,
   "id": "109bf6b0-2d1f-431d-9e4f-ed0abb534947",
   "metadata": {},
   "outputs": [
    {
     "data": {
      "text/plain": [
       "array([ 0,  1,  2,  3,  4,  5,  8,  9, 11, 14, 15, 16, 17, 18, 19, 21, 22,\n",
       "       23, 24, 25, 27])"
      ]
     },
     "execution_count": 42,
     "metadata": {},
     "output_type": "execute_result"
    }
   ],
   "source": [
    "np.unique(region_labels_test)"
   ]
  },
  {
   "cell_type": "code",
   "execution_count": 43,
   "id": "f1a1b24c-f7c9-4d68-af3e-090ce31b8a15",
   "metadata": {},
   "outputs": [],
   "source": [
    "param_dist = {\n",
    "    'n_estimators': np.arange(50, 210, 10),\n",
    "    'max_features': ['sqrt', 'log2'],\n",
    "    'max_depth': [None] + list(np.arange(10, 110, 10)),\n",
    "    'min_samples_split': np.arange(2, 12),\n",
    "    'min_samples_leaf': np.arange(1, 5),\n",
    "    'bootstrap': [True, False]\n",
    "}"
   ]
  },
  {
   "cell_type": "code",
   "execution_count": 44,
   "id": "19e1c8f5-1a70-470d-93e2-4545d2e9094e",
   "metadata": {},
   "outputs": [],
   "source": [
    "rf = RandomForestRegressor(random_state=42, n_jobs=-1)"
   ]
  },
  {
   "cell_type": "markdown",
   "id": "0bde5fd8-09f6-44e3-a474-29e3256e0e18",
   "metadata": {
    "tags": []
   },
   "source": [
    "## RegRF_CN with Region Number as additional independent variable + HPO"
   ]
  },
  {
   "cell_type": "code",
   "execution_count": 45,
   "id": "0ff215e5-f1fa-46e3-801f-b05010c5c88a",
   "metadata": {},
   "outputs": [
    {
     "name": "stdout",
     "output_type": "stream",
     "text": [
      "Best Hyperparameters: {'n_estimators': 150, 'min_samples_split': 4, 'min_samples_leaf': 2, 'max_features': 'sqrt', 'max_depth': 60, 'bootstrap': False}\n",
      "CPU times: total: 2.8 s\n",
      "Wall time: 5.91 s\n"
     ]
    }
   ],
   "source": [
    "%%time\n",
    "random_search = RandomizedSearchCV(rf, param_distributions=param_dist, scoring='neg_mean_squared_error', cv=5, n_iter=20, n_jobs=-1, random_state=42)\n",
    "random_search.fit(X_train, y_train)\n",
    "print(\"Best Hyperparameters:\", random_search.best_params_)"
   ]
  },
  {
   "cell_type": "code",
   "execution_count": 46,
   "id": "95088652-64da-4d74-8eee-c82e51fde30e",
   "metadata": {},
   "outputs": [
    {
     "name": "stdout",
     "output_type": "stream",
     "text": [
      "CPU times: total: 2.05 s\n",
      "Wall time: 215 ms\n"
     ]
    }
   ],
   "source": [
    "%%time\n",
    "hpo_rf = RandomForestRegressor(**random_search.best_params_, random_state=42, n_jobs=-1)\n",
    "hpo_rf.fit(X_train, y_train)\n",
    "predictions = hpo_rf.predict(X_test)"
   ]
  },
  {
   "cell_type": "code",
   "execution_count": 47,
   "id": "18be0ba6-77a2-4f26-9ca9-dfee3ebbb352",
   "metadata": {},
   "outputs": [
    {
     "name": "stdout",
     "output_type": "stream",
     "text": [
      "MAE: 45631.07 units.\n",
      "R2:  0.714\n",
      "MSE:  3810824105.169126\n",
      "RMSE:  61731.872684773836\n"
     ]
    }
   ],
   "source": [
    "# Calculate Evaluation Metrics\n",
    "errors = abs(predictions - y_test)\n",
    "print('MAE:', round(np.mean(errors), 2), 'units.')\n",
    "r2 = round(r2_score(y_test, predictions), 3)\n",
    "print(\"R2: \", r2)\n",
    "mse = mean_squared_error(y_test, predictions)\n",
    "print(\"MSE: \", mse)\n",
    "print(\"RMSE: \", math.sqrt(mse))"
   ]
  },
  {
   "cell_type": "markdown",
   "id": "5c029525-e381-4a2c-825d-54d875e3a065",
   "metadata": {
    "tags": []
   },
   "source": [
    "### LISA"
   ]
  },
  {
   "cell_type": "code",
   "execution_count": 48,
   "id": "6406e203-1fbb-495f-806a-9569c4731d2a",
   "metadata": {},
   "outputs": [
    {
     "name": "stdout",
     "output_type": "stream",
     "text": [
      "(411, 11)\n"
     ]
    },
    {
     "data": {
      "text/html": [
       "<div>\n",
       "<style scoped>\n",
       "    .dataframe tbody tr th:only-of-type {\n",
       "        vertical-align: middle;\n",
       "    }\n",
       "\n",
       "    .dataframe tbody tr th {\n",
       "        vertical-align: top;\n",
       "    }\n",
       "\n",
       "    .dataframe thead th {\n",
       "        text-align: right;\n",
       "    }\n",
       "</style>\n",
       "<table border=\"1\" class=\"dataframe\">\n",
       "  <thead>\n",
       "    <tr style=\"text-align: right;\">\n",
       "      <th></th>\n",
       "      <th>MedHouseVa</th>\n",
       "      <th>MedIncome</th>\n",
       "      <th>MedianAge</th>\n",
       "      <th>Population</th>\n",
       "      <th>Households</th>\n",
       "      <th>roomsperHH</th>\n",
       "      <th>bedroomHH</th>\n",
       "      <th>geometry</th>\n",
       "      <th>predictions</th>\n",
       "      <th>y_test</th>\n",
       "      <th>test_res</th>\n",
       "    </tr>\n",
       "  </thead>\n",
       "  <tbody>\n",
       "    <tr>\n",
       "      <th>0</th>\n",
       "      <td>55000.0</td>\n",
       "      <td>1.6071</td>\n",
       "      <td>27.0</td>\n",
       "      <td>587.0</td>\n",
       "      <td>231.0</td>\n",
       "      <td>4.190476</td>\n",
       "      <td>1.038961</td>\n",
       "      <td>POINT (-6223.359 -116314.796)</td>\n",
       "      <td>90460.0</td>\n",
       "      <td>55000.0</td>\n",
       "      <td>-35460.0</td>\n",
       "    </tr>\n",
       "  </tbody>\n",
       "</table>\n",
       "</div>"
      ],
      "text/plain": [
       "   MedHouseVa  MedIncome  MedianAge  Population  Households  roomsperHH  \\\n",
       "0     55000.0     1.6071       27.0       587.0       231.0    4.190476   \n",
       "\n",
       "   bedroomHH                       geometry  predictions   y_test  test_res  \n",
       "0   1.038961  POINT (-6223.359 -116314.796)      90460.0  55000.0  -35460.0  "
      ]
     },
     "execution_count": 48,
     "metadata": {},
     "output_type": "execute_result"
    }
   ],
   "source": [
    "test_p['predictions'] = predictions.flatten()\n",
    "test_p['y_test'] = y_test\n",
    "test_p['test_res'] = test_p['y_test'] - test_p['predictions']\n",
    "\n",
    "print(test_p.shape)\n",
    "test_p.head(1)"
   ]
  },
  {
   "cell_type": "code",
   "execution_count": 49,
   "id": "312382a8-adaa-40a9-9fd8-ec5d36de18c0",
   "metadata": {
    "tags": []
   },
   "outputs": [
    {
     "data": {
      "text/plain": [
       "<Axes: >"
      ]
     },
     "execution_count": 49,
     "metadata": {},
     "output_type": "execute_result"
    },
    {
     "data": {
      "image/png": "[encoded data removed]",
      "text/plain": [
       "<Figure size 800x800 with 1 Axes>"
      ]
     },
     "metadata": {},
     "output_type": "display_data"
    }
   ],
   "source": [
    "# plot residuals\n",
    "fig, ax = plt.subplots(figsize=(8,8), subplot_kw={'aspect':'equal'})\n",
    "test_p.plot(column='test_res', scheme='Quantiles', k=5, cmap='bwr', legend=True, ax=ax)"
   ]
  },
  {
   "cell_type": "code",
   "execution_count": 50,
   "id": "18818751-4b42-4750-92b4-2d6aaf880257",
   "metadata": {},
   "outputs": [],
   "source": [
    "# new spatial weights for moran's I\n",
    "wi = ps.weights.distance.KNN.from_dataframe(test_p, k=7) \n",
    "wi.transform = 'r'\n",
    "y = test_p['test_res']"
   ]
  },
  {
   "cell_type": "code",
   "execution_count": 51,
   "id": "724b6983-6c2f-4dd9-b0e0-0927fe7a3fad",
   "metadata": {},
   "outputs": [
    {
     "name": "stdout",
     "output_type": "stream",
     "text": [
      "Moran I is 0.16 and p-value is 0.000999000999000999 expected value is -0.0024390243902439024\n"
     ]
    }
   ],
   "source": [
    "mi = esda.Moran(y, wi, permutations = 1000, two_tailed=False)\n",
    "print( 'Moran I is', round(mi.I, 3), 'and p-value is', mi.p_sim, 'expected value is', mi.EI)"
   ]
  },
  {
   "cell_type": "code",
   "execution_count": 52,
   "id": "d87fa89d-eba9-47e4-9cc3-85299b45e39a",
   "metadata": {},
   "outputs": [],
   "source": [
    "# Calculate LISA\n",
    "lisa = esda.moran.Moran_Local(y, wi)"
   ]
  },
  {
   "cell_type": "code",
   "execution_count": 53,
   "id": "6a5ebc8b-0f52-4cec-9ef8-b7644d76eb48",
   "metadata": {},
   "outputs": [
    {
     "name": "stdout",
     "output_type": "stream",
     "text": [
      "group\n",
      "not-significant    322\n",
      "hotspot             36\n",
      "coldspot            34\n",
      "cold outlier        10\n",
      "hot outlier          9\n",
      "Name: count, dtype: int64\n"
     ]
    },
    {
     "name": "stderr",
     "output_type": "stream",
     "text": [
      "C:\\Users\\lukasb97\\AppData\\Local\\Temp\\ipykernel_20352\\894966211.py:5: FutureWarning: Setting an item of incompatible dtype is deprecated and will raise in a future error of pandas. Value 'not-significant' has dtype incompatible with int32, please explicitly cast to a compatible dtype first.\n",
      "  test_p.loc[test_p['pvalue'] > 0.05, 'group'] = 'not-significant'\n"
     ]
    },
    {
     "data": {
      "text/html": [
       "<div>\n",
       "<style scoped>\n",
       "    .dataframe tbody tr th:only-of-type {\n",
       "        vertical-align: middle;\n",
       "    }\n",
       "\n",
       "    .dataframe tbody tr th {\n",
       "        vertical-align: top;\n",
       "    }\n",
       "\n",
       "    .dataframe thead th {\n",
       "        text-align: right;\n",
       "    }\n",
       "</style>\n",
       "<table border=\"1\" class=\"dataframe\">\n",
       "  <thead>\n",
       "    <tr style=\"text-align: right;\">\n",
       "      <th></th>\n",
       "      <th>MedHouseVa</th>\n",
       "      <th>MedIncome</th>\n",
       "      <th>MedianAge</th>\n",
       "      <th>Population</th>\n",
       "      <th>Households</th>\n",
       "      <th>roomsperHH</th>\n",
       "      <th>bedroomHH</th>\n",
       "      <th>geometry</th>\n",
       "      <th>predictions</th>\n",
       "      <th>y_test</th>\n",
       "      <th>test_res</th>\n",
       "      <th>Is</th>\n",
       "      <th>pvalue</th>\n",
       "      <th>group</th>\n",
       "    </tr>\n",
       "  </thead>\n",
       "  <tbody>\n",
       "    <tr>\n",
       "      <th>0</th>\n",
       "      <td>55000.0</td>\n",
       "      <td>1.6071</td>\n",
       "      <td>27.0</td>\n",
       "      <td>587.0</td>\n",
       "      <td>231.0</td>\n",
       "      <td>4.190476</td>\n",
       "      <td>1.038961</td>\n",
       "      <td>POINT (-6223.359 -116314.796)</td>\n",
       "      <td>90460.000000</td>\n",
       "      <td>55000.0</td>\n",
       "      <td>-35460.000000</td>\n",
       "      <td>0.352367</td>\n",
       "      <td>0.030</td>\n",
       "      <td>coldspot</td>\n",
       "    </tr>\n",
       "    <tr>\n",
       "      <th>1</th>\n",
       "      <td>104200.0</td>\n",
       "      <td>2.1250</td>\n",
       "      <td>16.0</td>\n",
       "      <td>1077.0</td>\n",
       "      <td>520.0</td>\n",
       "      <td>5.046154</td>\n",
       "      <td>1.013462</td>\n",
       "      <td>POINT (60108.280 -192791.957)</td>\n",
       "      <td>89663.055556</td>\n",
       "      <td>104200.0</td>\n",
       "      <td>14536.944444</td>\n",
       "      <td>-0.056964</td>\n",
       "      <td>0.315</td>\n",
       "      <td>not-significant</td>\n",
       "    </tr>\n",
       "  </tbody>\n",
       "</table>\n",
       "</div>"
      ],
      "text/plain": [
       "   MedHouseVa  MedIncome  MedianAge  Population  Households  roomsperHH  \\\n",
       "0     55000.0     1.6071       27.0       587.0       231.0    4.190476   \n",
       "1    104200.0     2.1250       16.0      1077.0       520.0    5.046154   \n",
       "\n",
       "   bedroomHH                       geometry   predictions    y_test  \\\n",
       "0   1.038961  POINT (-6223.359 -116314.796)  90460.000000   55000.0   \n",
       "1   1.013462  POINT (60108.280 -192791.957)  89663.055556  104200.0   \n",
       "\n",
       "       test_res        Is  pvalue            group  \n",
       "0 -35460.000000  0.352367   0.030         coldspot  \n",
       "1  14536.944444 -0.056964   0.315  not-significant  "
      ]
     },
     "execution_count": 53,
     "metadata": {},
     "output_type": "execute_result"
    }
   ],
   "source": [
    "# Calculate spatial groupings and significance\n",
    "test_p['Is'] = lisa.Is\n",
    "test_p['pvalue'] = lisa.p_sim \n",
    "test_p['group'] = lisa.q \n",
    "test_p.loc[test_p['pvalue'] > 0.05, 'group'] = 'not-significant'\n",
    "test_p.loc[test_p['group'] == 1, 'group'] = 'hotspot'\n",
    "test_p.loc[test_p['group'] == 2, 'group'] = 'cold outlier'\n",
    "test_p.loc[test_p['group'] == 3, 'group'] = 'coldspot'\n",
    "test_p.loc[test_p['group'] == 4, 'group'] = 'hot outlier'\n",
    "print(test_p ['group'].value_counts())\n",
    "test_p.head(2)"
   ]
  },
  {
   "cell_type": "code",
   "execution_count": 54,
   "id": "c1063512-1570-4ff4-9979-f1bd27a653ec",
   "metadata": {
    "tags": []
   },
   "outputs": [
    {
     "data": {
      "image/png": "[encoded data removed]",
      "text/plain": [
       "<Figure size 1000x1000 with 1 Axes>"
      ]
     },
     "metadata": {},
     "output_type": "display_data"
    }
   ],
   "source": [
    "# Vizualize spatial groupings and significance\n",
    "state_boundary = gpd.read_file(r\"Y:/Lukas/thesis/bus1123/bufferedcliprahmen.shp\")\n",
    "fig, ax = plt.subplots(figsize=(10,10), subplot_kw={'aspect':'equal'})    \n",
    "\n",
    "group_colors = {'not-significant': 'grey',\n",
    "               'hotspot': 'red',\n",
    "               'coldspot': 'blue',\n",
    "               'cold outlier': 'lightblue',\n",
    "               'hot outlier': 'pink'}\n",
    "\n",
    "state_boundary.plot(ax=ax, edgecolor='black', linewidth=0.7, facecolor='none')\n",
    "\n",
    "for ctype, data in test_p.groupby('group'):\n",
    "    if ctype == 'not-significant':\n",
    "        color = group_colors[ctype]\n",
    "        data.plot(color=color, ax=ax, label=ctype, markersize=15, alpha=0.8)\n",
    "\n",
    "for ctype, data in test_p.groupby('group'):\n",
    "    if ctype != 'not-significant':\n",
    "        color = group_colors[ctype]\n",
    "        data.plot(color=color, ax=ax, label=ctype, markersize=15, alpha=0.8)\n",
    "\n",
    "ax.legend(bbox_to_anchor=(0.8, 0.8), prop={'size': 11})\n",
    "\n",
    "ax.set_axis_off()\n",
    "save_path = r'Y:\\Lukas\\thesis\\regionalization plots/lisa_skater_S1_small.png'\n",
    "#plt.savefig(save_path)\n",
    "plt.show()"
   ]
  },
  {
   "cell_type": "markdown",
   "id": "63773908-379d-41d7-bc3d-8f4c1bb8da57",
   "metadata": {
    "jp-MarkdownHeadingCollapsed": true,
    "tags": []
   },
   "source": [
    "## RegRF_SEP - Separate RF for each Regionn  - was omitted in the process (might not run, depening on regionalization)"
   ]
  },
  {
   "cell_type": "code",
   "execution_count": null,
   "id": "5f90fe09-9c99-4609-950b-37b8d74261df",
   "metadata": {},
   "outputs": [],
   "source": [
    "'''\n",
    "predictions_list = []\n",
    "y_test_list = []\n",
    "residuals_list = []\n",
    "all_r2 = []\n",
    "all_mae = []\n",
    "all_mse = []\n",
    "all_rmse = []\n",
    "\n",
    "for i in range(len(np.unique(region_labels))):\n",
    "    X_region_train = X_train[region_labels == i]\n",
    "    y_region_train = y_train[region_labels == i]\n",
    "    X_region_test = X_test[region_labels_test == i]\n",
    "    y_region_test = y_test[region_labels_test == i]\n",
    "\n",
    "    rf.fit(X_region_train, y_region_train)\n",
    "\n",
    "    y_pred = rf.predict(X_region_test)\n",
    "\n",
    "    # Save results so they can all be analysed together\n",
    "    predictions_list.extend(y_pred)\n",
    "    y_test_list.extend(y_region_test)\n",
    "    residuals_list.extend(y_region_test - y_pred)\n",
    "\n",
    "    # Same for performance\n",
    "    r2 = r2_score(y_region_test, y_pred)\n",
    "    mae = mean_absolute_error(y_region_test, y_pred)\n",
    "    mse = mean_squared_error(y_region_test, y_pred)\n",
    "    rmse = np.sqrt(mse)\n",
    "\n",
    "    all_r2.append(r2)\n",
    "    all_mae.append(mae)\n",
    "    all_mse.append(mse)\n",
    "    all_rmse.append(rmse)\n",
    "\n",
    "    print(f'Region {i} - R2: {r2:.3f}, MAE: {mae:.3f}, MSE: {mse:.3f}, RMSE: {rmse:.3f}')\n",
    "\n",
    "# Calculate average errors\n",
    "avg_r2 = np.mean(all_r2)\n",
    "avg_mae = np.mean(all_mae)\n",
    "avg_mse = np.mean(all_mse)\n",
    "avg_rmse = np.mean(all_rmse)\n",
    "\n",
    "print(f'\\nAverage R2: {avg_r2:.3f}, Average MAE: {avg_mae:.3f}, Average MSE: {avg_mse:.3f}, Average RMSE: {avg_rmse:.3f}')\n",
    "'''"
   ]
  },
  {
   "cell_type": "markdown",
   "id": "e3c2dd51-897f-4603-bd3b-8238c5ec97f3",
   "metadata": {
    "jp-MarkdownHeadingCollapsed": true,
    "tags": []
   },
   "source": [
    "### LISA"
   ]
  },
  {
   "cell_type": "code",
   "execution_count": null,
   "id": "5b1cf4f8-3f05-4ebe-aba0-0fb9929a61ea",
   "metadata": {},
   "outputs": [],
   "source": [
    "test_p['predictions'] = predictions_list\n",
    "test_p['y_test'] = y_test_list\n",
    "test_p['test_res'] = residuals_list\n",
    "\n",
    "print(test_p.shape)\n",
    "test_p.head(1)"
   ]
  },
  {
   "cell_type": "code",
   "execution_count": null,
   "id": "fdbbb892-575a-49f0-920e-27db7a7b8095",
   "metadata": {},
   "outputs": [],
   "source": [
    "# plot residuals\n",
    "fig, ax = plt.subplots(figsize=(8,8), subplot_kw={'aspect':'equal'})\n",
    "test_p.plot(column='test_res', scheme='Quantiles', k=5, cmap='bwr', legend=True, ax=ax)"
   ]
  },
  {
   "cell_type": "code",
   "execution_count": null,
   "id": "01584b5f-9aea-491e-8cbc-453b232904f6",
   "metadata": {},
   "outputs": [],
   "source": [
    "# new spatial weights for moran's I\n",
    "wi = ps.weights.distance.KNN.from_dataframe(test_p, k=5) \n",
    "wi.transform = 'r'\n",
    "y = test_p['test_res']"
   ]
  },
  {
   "cell_type": "code",
   "execution_count": null,
   "id": "9c30b167-7f42-4759-b334-1b2cf12b44d9",
   "metadata": {},
   "outputs": [],
   "source": [
    "mi = esda.Moran(y, wi, permutations = 1000, two_tailed=False)\n",
    "print( 'Moran I is', round(mi.I, 3), 'and p-value is', mi.p_sim, 'expected value is', mi.EI)"
   ]
  },
  {
   "cell_type": "code",
   "execution_count": null,
   "id": "a2668bb0-e5dd-43db-96cf-78d9ab0ada07",
   "metadata": {},
   "outputs": [],
   "source": [
    "# Calculate LISA\n",
    "lisa = esda.moran.Moran_Local(y, wi)"
   ]
  },
  {
   "cell_type": "code",
   "execution_count": null,
   "id": "2a24366b-8caf-4312-8d64-a3e10fa15c21",
   "metadata": {},
   "outputs": [],
   "source": [
    "# Calculate spatial groupings and significance\n",
    "test_p['Is'] = lisa.Is\n",
    "test_p['pvalue'] = lisa.p_sim \n",
    "test_p['group'] = lisa.q \n",
    "test_p.loc[test_p['pvalue'] > 0.05, 'group'] = 'not-significant'\n",
    "test_p.loc[test_p['group'] == 1, 'group'] = 'hotspot'\n",
    "test_p.loc[test_p['group'] == 2, 'group'] = 'cold outlier'\n",
    "test_p.loc[test_p['group'] == 3, 'group'] = 'coldspot'\n",
    "test_p.loc[test_p['group'] == 4, 'group'] = 'hot outlier'\n",
    "print(test_p ['group'].value_counts())\n",
    "test_p.head(2)"
   ]
  },
  {
   "cell_type": "code",
   "execution_count": null,
   "id": "0ce76005-58f2-4efb-a52a-80ffaa9921d3",
   "metadata": {},
   "outputs": [],
   "source": [
    "# Vizualize spatial groupings and significance\n",
    "fig, ax = plt.subplots(figsize=(8,8), subplot_kw={'aspect':'equal'})    \n",
    "\n",
    "group_colors = {'not-significant': 'grey',\n",
    "               'hotspot': 'red',\n",
    "               'coldspot': 'blue',\n",
    "               'cold outlier': 'lightblue',\n",
    "               'hot outlier': 'pink'}\n",
    "group_colors\n",
    "\n",
    "for ctype, data in test_p.groupby('group'):\n",
    "    \n",
    "    color = group_colors[ctype]\n",
    "    \n",
    "    data.plot(color=color, ax=ax, label=ctype)\n",
    "\n",
    "ax.legend(bbox_to_anchor=(1.0, .5), prop={'size': 12})\n",
    "ax.set(title='Spatial Groupings')\n",
    "\n",
    "ax.set_axis_off()\n",
    "plt.show()"
   ]
  },
  {
   "cell_type": "markdown",
   "id": "6b514dc6-0fa0-4bb0-862f-1fbab994333c",
   "metadata": {
    "tags": []
   },
   "source": [
    "## RegRF_W - Multitple Global RFs with more weight on the specific regions"
   ]
  },
  {
   "cell_type": "code",
   "execution_count": 55,
   "id": "ddb80bcd-baef-4b7a-81ff-c322d97a2ee4",
   "metadata": {
    "tags": []
   },
   "outputs": [
    {
     "name": "stdout",
     "output_type": "stream",
     "text": [
      "Region 0 - R2: 0.675, MAE: 48507.643, MSE: 4332740550.454, RMSE: 65823.556\n",
      "Region 1 - R2: 0.720, MAE: 44761.713, MSE: 3738049911.900, RMSE: 61139.594\n",
      "Region 2 - R2: 0.712, MAE: 45410.122, MSE: 3837766658.810, RMSE: 61949.711\n",
      "Region 3 - R2: 0.668, MAE: 49335.513, MSE: 4419145448.618, RMSE: 66476.653\n",
      "Region 4 - R2: 0.713, MAE: 45588.699, MSE: 3830074996.056, RMSE: 61887.600\n",
      "Region 5 - R2: 0.698, MAE: 45635.274, MSE: 4021496538.422, RMSE: 63415.271\n",
      "Region 6 - R2: 0.711, MAE: 44925.908, MSE: 3858727033.819, RMSE: 62118.653\n",
      "Region 7 - R2: 0.711, MAE: 44925.908, MSE: 3858727033.819, RMSE: 62118.653\n",
      "Region 8 - R2: 0.714, MAE: 44906.653, MSE: 3809943172.823, RMSE: 61724.737\n",
      "Region 9 - R2: 0.707, MAE: 45809.343, MSE: 3901078619.116, RMSE: 62458.615\n",
      "Region 10 - R2: 0.703, MAE: 45160.118, MSE: 3956272185.166, RMSE: 62898.904\n",
      "Region 11 - R2: 0.708, MAE: 44991.273, MSE: 3894449433.364, RMSE: 62405.524\n",
      "Region 12 - R2: 0.711, MAE: 44925.908, MSE: 3858727033.819, RMSE: 62118.653\n",
      "Region 13 - R2: 0.711, MAE: 44925.908, MSE: 3858727033.819, RMSE: 62118.653\n",
      "Region 14 - R2: 0.688, MAE: 46860.922, MSE: 4155763073.181, RMSE: 64465.208\n",
      "Region 15 - R2: 0.697, MAE: 46039.703, MSE: 4042687689.013, RMSE: 63582.133\n",
      "Region 16 - R2: 0.718, MAE: 44928.931, MSE: 3754162888.353, RMSE: 61271.224\n",
      "Region 17 - R2: 0.685, MAE: 48299.068, MSE: 4199481818.866, RMSE: 64803.409\n",
      "Region 18 - R2: 0.697, MAE: 46220.819, MSE: 4038184018.285, RMSE: 63546.707\n",
      "Region 19 - R2: 0.708, MAE: 45433.107, MSE: 3897880596.760, RMSE: 62433.009\n",
      "Region 20 - R2: 0.711, MAE: 44925.908, MSE: 3858727033.819, RMSE: 62118.653\n",
      "Region 21 - R2: 0.720, MAE: 44669.150, MSE: 3738926713.138, RMSE: 61146.764\n",
      "Region 22 - R2: 0.720, MAE: 44388.693, MSE: 3735348610.128, RMSE: 61117.498\n",
      "\n",
      "Average R2: 0.705, Average MAE: 45720.708, Average MSE: 3939003830.067, Average RMSE: 62745.191\n",
      "CPU times: total: 1min 45s\n",
      "Wall time: 6.39 s\n"
     ]
    }
   ],
   "source": [
    "%%time\n",
    "test_p['residuals'] = 0\n",
    "all_residuals = []\n",
    "all_r2 = []\n",
    "all_mae = []\n",
    "all_mse = []\n",
    "all_rmse = []\n",
    "\n",
    "# Loop over regions\n",
    "for i in range(len(np.unique(region_labels))):\n",
    "    rf_randhpo = RandomForestRegressor(random_state=42, n_jobs=-1)\n",
    "    rf_randhpo.fit(X_train, y_train, sample_weight=np.where(region_labels == i, weights[i], 1))\n",
    "    \n",
    "    y_pred = rf_randhpo.predict(X_test)\n",
    "\n",
    "    residuals = y_test - y_pred\n",
    "\n",
    "    all_residuals.append(residuals)\n",
    "\n",
    "    r2 = r2_score(y_test, y_pred)\n",
    "    mae = mean_absolute_error(y_test, y_pred)\n",
    "    mse = mean_squared_error(y_test, y_pred)\n",
    "    rmse = np.sqrt(mse)\n",
    "\n",
    "    all_r2.append(r2)\n",
    "    all_mae.append(mae)\n",
    "    all_mse.append(mse)\n",
    "    all_rmse.append(rmse)\n",
    "\n",
    "    print(f'Region {i} - R2: {r2:.3f}, MAE: {mae:.3f}, MSE: {mse:.3f}, RMSE: {rmse:.3f}')\n",
    "\n",
    "all_residuals_array = np.array(all_residuals)\n",
    "\n",
    "average_residuals = np.mean(all_residuals_array, axis=0)\n",
    "\n",
    "test_p['residuals'] = average_residuals\n",
    "\n",
    "avg_r2 = np.mean(all_r2)\n",
    "avg_mae = np.mean(all_mae)\n",
    "avg_mse = np.mean(all_mse)\n",
    "avg_rmse = np.mean(all_rmse)\n",
    "\n",
    "print(f'\\nAverage R2: {avg_r2:.3f}, Average MAE: {avg_mae:.3f}, Average MSE: {avg_mse:.3f}, Average RMSE: {avg_rmse:.3f}')"
   ]
  },
  {
   "cell_type": "markdown",
   "id": "84a7cbc1-6dc1-4ba5-ae9a-f2ff39034275",
   "metadata": {
    "tags": []
   },
   "source": [
    "### LISA"
   ]
  },
  {
   "cell_type": "code",
   "execution_count": 56,
   "id": "c0c60b66-d657-43e4-b100-37ff389ada7e",
   "metadata": {},
   "outputs": [
    {
     "data": {
      "text/html": [
       "<div>\n",
       "<style scoped>\n",
       "    .dataframe tbody tr th:only-of-type {\n",
       "        vertical-align: middle;\n",
       "    }\n",
       "\n",
       "    .dataframe tbody tr th {\n",
       "        vertical-align: top;\n",
       "    }\n",
       "\n",
       "    .dataframe thead th {\n",
       "        text-align: right;\n",
       "    }\n",
       "</style>\n",
       "<table border=\"1\" class=\"dataframe\">\n",
       "  <thead>\n",
       "    <tr style=\"text-align: right;\">\n",
       "      <th></th>\n",
       "      <th>MedHouseVa</th>\n",
       "      <th>MedIncome</th>\n",
       "      <th>MedianAge</th>\n",
       "      <th>Population</th>\n",
       "      <th>Households</th>\n",
       "      <th>roomsperHH</th>\n",
       "      <th>bedroomHH</th>\n",
       "      <th>geometry</th>\n",
       "      <th>predictions</th>\n",
       "      <th>y_test</th>\n",
       "      <th>test_res</th>\n",
       "      <th>Is</th>\n",
       "      <th>pvalue</th>\n",
       "      <th>group</th>\n",
       "      <th>residuals</th>\n",
       "    </tr>\n",
       "  </thead>\n",
       "  <tbody>\n",
       "    <tr>\n",
       "      <th>0</th>\n",
       "      <td>55000.0</td>\n",
       "      <td>1.6071</td>\n",
       "      <td>27.0</td>\n",
       "      <td>587.0</td>\n",
       "      <td>231.0</td>\n",
       "      <td>4.190476</td>\n",
       "      <td>1.038961</td>\n",
       "      <td>POINT (-6223.359 -116314.796)</td>\n",
       "      <td>90460.000000</td>\n",
       "      <td>55000.0</td>\n",
       "      <td>-35460.000000</td>\n",
       "      <td>0.352367</td>\n",
       "      <td>0.030</td>\n",
       "      <td>coldspot</td>\n",
       "      <td>-32003.130435</td>\n",
       "    </tr>\n",
       "    <tr>\n",
       "      <th>1</th>\n",
       "      <td>104200.0</td>\n",
       "      <td>2.1250</td>\n",
       "      <td>16.0</td>\n",
       "      <td>1077.0</td>\n",
       "      <td>520.0</td>\n",
       "      <td>5.046154</td>\n",
       "      <td>1.013462</td>\n",
       "      <td>POINT (60108.280 -192791.957)</td>\n",
       "      <td>89663.055556</td>\n",
       "      <td>104200.0</td>\n",
       "      <td>14536.944444</td>\n",
       "      <td>-0.056964</td>\n",
       "      <td>0.315</td>\n",
       "      <td>not-significant</td>\n",
       "      <td>12393.478261</td>\n",
       "    </tr>\n",
       "    <tr>\n",
       "      <th>2</th>\n",
       "      <td>176100.0</td>\n",
       "      <td>2.9000</td>\n",
       "      <td>20.0</td>\n",
       "      <td>1607.0</td>\n",
       "      <td>564.0</td>\n",
       "      <td>4.083333</td>\n",
       "      <td>1.085106</td>\n",
       "      <td>POINT (186008.732 -459723.035)</td>\n",
       "      <td>204629.666667</td>\n",
       "      <td>176100.0</td>\n",
       "      <td>-28529.666667</td>\n",
       "      <td>0.060654</td>\n",
       "      <td>0.421</td>\n",
       "      <td>not-significant</td>\n",
       "      <td>-38165.913043</td>\n",
       "    </tr>\n",
       "  </tbody>\n",
       "</table>\n",
       "</div>"
      ],
      "text/plain": [
       "   MedHouseVa  MedIncome  MedianAge  Population  Households  roomsperHH  \\\n",
       "0     55000.0     1.6071       27.0       587.0       231.0    4.190476   \n",
       "1    104200.0     2.1250       16.0      1077.0       520.0    5.046154   \n",
       "2    176100.0     2.9000       20.0      1607.0       564.0    4.083333   \n",
       "\n",
       "   bedroomHH                        geometry    predictions    y_test  \\\n",
       "0   1.038961   POINT (-6223.359 -116314.796)   90460.000000   55000.0   \n",
       "1   1.013462   POINT (60108.280 -192791.957)   89663.055556  104200.0   \n",
       "2   1.085106  POINT (186008.732 -459723.035)  204629.666667  176100.0   \n",
       "\n",
       "       test_res        Is  pvalue            group     residuals  \n",
       "0 -35460.000000  0.352367   0.030         coldspot -32003.130435  \n",
       "1  14536.944444 -0.056964   0.315  not-significant  12393.478261  \n",
       "2 -28529.666667  0.060654   0.421  not-significant -38165.913043  "
      ]
     },
     "execution_count": 56,
     "metadata": {},
     "output_type": "execute_result"
    }
   ],
   "source": [
    "test_p.head(3)"
   ]
  },
  {
   "cell_type": "code",
   "execution_count": 57,
   "id": "7ac4ce58-5ad3-468e-8d19-beddf9fe805f",
   "metadata": {},
   "outputs": [
    {
     "name": "stdout",
     "output_type": "stream",
     "text": [
      "(411, 15)\n"
     ]
    },
    {
     "data": {
      "text/html": [
       "<div>\n",
       "<style scoped>\n",
       "    .dataframe tbody tr th:only-of-type {\n",
       "        vertical-align: middle;\n",
       "    }\n",
       "\n",
       "    .dataframe tbody tr th {\n",
       "        vertical-align: top;\n",
       "    }\n",
       "\n",
       "    .dataframe thead th {\n",
       "        text-align: right;\n",
       "    }\n",
       "</style>\n",
       "<table border=\"1\" class=\"dataframe\">\n",
       "  <thead>\n",
       "    <tr style=\"text-align: right;\">\n",
       "      <th></th>\n",
       "      <th>MedHouseVa</th>\n",
       "      <th>MedIncome</th>\n",
       "      <th>MedianAge</th>\n",
       "      <th>Population</th>\n",
       "      <th>Households</th>\n",
       "      <th>roomsperHH</th>\n",
       "      <th>bedroomHH</th>\n",
       "      <th>geometry</th>\n",
       "      <th>predictions</th>\n",
       "      <th>y_test</th>\n",
       "      <th>test_res</th>\n",
       "      <th>Is</th>\n",
       "      <th>pvalue</th>\n",
       "      <th>group</th>\n",
       "      <th>residuals</th>\n",
       "    </tr>\n",
       "  </thead>\n",
       "  <tbody>\n",
       "    <tr>\n",
       "      <th>0</th>\n",
       "      <td>55000.0</td>\n",
       "      <td>1.6071</td>\n",
       "      <td>27.0</td>\n",
       "      <td>587.0</td>\n",
       "      <td>231.0</td>\n",
       "      <td>4.190476</td>\n",
       "      <td>1.038961</td>\n",
       "      <td>POINT (-6223.359 -116314.796)</td>\n",
       "      <td>90460.0</td>\n",
       "      <td>55000.0</td>\n",
       "      <td>-32003.130435</td>\n",
       "      <td>0.352367</td>\n",
       "      <td>0.03</td>\n",
       "      <td>coldspot</td>\n",
       "      <td>-32003.130435</td>\n",
       "    </tr>\n",
       "  </tbody>\n",
       "</table>\n",
       "</div>"
      ],
      "text/plain": [
       "   MedHouseVa  MedIncome  MedianAge  Population  Households  roomsperHH  \\\n",
       "0     55000.0     1.6071       27.0       587.0       231.0    4.190476   \n",
       "\n",
       "   bedroomHH                       geometry  predictions   y_test  \\\n",
       "0   1.038961  POINT (-6223.359 -116314.796)      90460.0  55000.0   \n",
       "\n",
       "       test_res        Is  pvalue     group     residuals  \n",
       "0 -32003.130435  0.352367    0.03  coldspot -32003.130435  "
      ]
     },
     "execution_count": 57,
     "metadata": {},
     "output_type": "execute_result"
    }
   ],
   "source": [
    "test_p['test_res'] = test_p['residuals']\n",
    "\n",
    "print(test_p.shape)\n",
    "test_p.head(1)"
   ]
  },
  {
   "cell_type": "code",
   "execution_count": 58,
   "id": "dd1d1cd1-7e5f-47d3-97ab-79383d80f471",
   "metadata": {},
   "outputs": [
    {
     "data": {
      "text/plain": [
       "<Axes: >"
      ]
     },
     "execution_count": 58,
     "metadata": {},
     "output_type": "execute_result"
    },
    {
     "data": {
      "image/png": "[encoded data removed]",
      "text/plain": [
       "<Figure size 800x800 with 1 Axes>"
      ]
     },
     "metadata": {},
     "output_type": "display_data"
    }
   ],
   "source": [
    "# Global Spatial Autocorrelation\n",
    "fig, ax = plt.subplots(figsize=(8,8), subplot_kw={'aspect':'equal'})\n",
    "test_p.plot(column='test_res', scheme='Quantiles', k=5, cmap='bwr', legend=True, ax=ax)"
   ]
  },
  {
   "cell_type": "code",
   "execution_count": 59,
   "id": "23215a0f-7a10-4bcc-8215-2beb4021a75f",
   "metadata": {},
   "outputs": [
    {
     "name": "stderr",
     "output_type": "stream",
     "text": [
      "C:\\Users\\lukasb97\\.conda\\envs\\test\\Lib\\site-packages\\libpysal\\weights\\weights.py:224: UserWarning: The weights matrix is not fully connected: \n",
      " There are 3 disconnected components.\n",
      "  warnings.warn(message)\n"
     ]
    }
   ],
   "source": [
    "# new spatial weights for moran's I\n",
    "wi = ps.weights.distance.KNN.from_dataframe(test_p, k=5) \n",
    "wi.transform = 'r'\n",
    "y = test_p['test_res']"
   ]
  },
  {
   "cell_type": "code",
   "execution_count": 60,
   "id": "dacbd69d-1e62-48f5-8369-054d989fb7a2",
   "metadata": {},
   "outputs": [
    {
     "name": "stdout",
     "output_type": "stream",
     "text": [
      "Moran I is 0.167 and p-value is 0.000999000999000999 expected value is -0.0024390243902439024\n"
     ]
    }
   ],
   "source": [
    "mi = esda.Moran(y, wi, permutations = 1000, two_tailed=False)\n",
    "print( 'Moran I is', round(mi.I, 3), 'and p-value is', mi.p_sim, 'expected value is', mi.EI)"
   ]
  },
  {
   "cell_type": "code",
   "execution_count": 61,
   "id": "4aac2ea1-27a6-4805-a56e-5d9f2038c4dd",
   "metadata": {},
   "outputs": [],
   "source": [
    "# Calculate LISA\n",
    "lisa = esda.moran.Moran_Local(y, wi)"
   ]
  },
  {
   "cell_type": "code",
   "execution_count": 62,
   "id": "3482d612-d787-4bc7-a6d6-89cd43a5b4eb",
   "metadata": {},
   "outputs": [
    {
     "name": "stdout",
     "output_type": "stream",
     "text": [
      "group\n",
      "not-significant    341\n",
      "hotspot             36\n",
      "coldspot            20\n",
      "cold outlier         8\n",
      "hot outlier          6\n",
      "Name: count, dtype: int64\n"
     ]
    },
    {
     "name": "stderr",
     "output_type": "stream",
     "text": [
      "C:\\Users\\lukasb97\\AppData\\Local\\Temp\\ipykernel_20352\\894966211.py:5: FutureWarning: Setting an item of incompatible dtype is deprecated and will raise in a future error of pandas. Value 'not-significant' has dtype incompatible with int32, please explicitly cast to a compatible dtype first.\n",
      "  test_p.loc[test_p['pvalue'] > 0.05, 'group'] = 'not-significant'\n"
     ]
    },
    {
     "data": {
      "text/html": [
       "<div>\n",
       "<style scoped>\n",
       "    .dataframe tbody tr th:only-of-type {\n",
       "        vertical-align: middle;\n",
       "    }\n",
       "\n",
       "    .dataframe tbody tr th {\n",
       "        vertical-align: top;\n",
       "    }\n",
       "\n",
       "    .dataframe thead th {\n",
       "        text-align: right;\n",
       "    }\n",
       "</style>\n",
       "<table border=\"1\" class=\"dataframe\">\n",
       "  <thead>\n",
       "    <tr style=\"text-align: right;\">\n",
       "      <th></th>\n",
       "      <th>MedHouseVa</th>\n",
       "      <th>MedIncome</th>\n",
       "      <th>MedianAge</th>\n",
       "      <th>Population</th>\n",
       "      <th>Households</th>\n",
       "      <th>roomsperHH</th>\n",
       "      <th>bedroomHH</th>\n",
       "      <th>geometry</th>\n",
       "      <th>predictions</th>\n",
       "      <th>y_test</th>\n",
       "      <th>test_res</th>\n",
       "      <th>Is</th>\n",
       "      <th>pvalue</th>\n",
       "      <th>group</th>\n",
       "      <th>residuals</th>\n",
       "    </tr>\n",
       "  </thead>\n",
       "  <tbody>\n",
       "    <tr>\n",
       "      <th>0</th>\n",
       "      <td>55000.0</td>\n",
       "      <td>1.6071</td>\n",
       "      <td>27.0</td>\n",
       "      <td>587.0</td>\n",
       "      <td>231.0</td>\n",
       "      <td>4.190476</td>\n",
       "      <td>1.038961</td>\n",
       "      <td>POINT (-6223.359 -116314.796)</td>\n",
       "      <td>90460.000000</td>\n",
       "      <td>55000.0</td>\n",
       "      <td>-32003.130435</td>\n",
       "      <td>0.293798</td>\n",
       "      <td>0.074</td>\n",
       "      <td>not-significant</td>\n",
       "      <td>-32003.130435</td>\n",
       "    </tr>\n",
       "    <tr>\n",
       "      <th>1</th>\n",
       "      <td>104200.0</td>\n",
       "      <td>2.1250</td>\n",
       "      <td>16.0</td>\n",
       "      <td>1077.0</td>\n",
       "      <td>520.0</td>\n",
       "      <td>5.046154</td>\n",
       "      <td>1.013462</td>\n",
       "      <td>POINT (60108.280 -192791.957)</td>\n",
       "      <td>89663.055556</td>\n",
       "      <td>104200.0</td>\n",
       "      <td>12393.478261</td>\n",
       "      <td>-0.039131</td>\n",
       "      <td>0.405</td>\n",
       "      <td>not-significant</td>\n",
       "      <td>12393.478261</td>\n",
       "    </tr>\n",
       "  </tbody>\n",
       "</table>\n",
       "</div>"
      ],
      "text/plain": [
       "   MedHouseVa  MedIncome  MedianAge  Population  Households  roomsperHH  \\\n",
       "0     55000.0     1.6071       27.0       587.0       231.0    4.190476   \n",
       "1    104200.0     2.1250       16.0      1077.0       520.0    5.046154   \n",
       "\n",
       "   bedroomHH                       geometry   predictions    y_test  \\\n",
       "0   1.038961  POINT (-6223.359 -116314.796)  90460.000000   55000.0   \n",
       "1   1.013462  POINT (60108.280 -192791.957)  89663.055556  104200.0   \n",
       "\n",
       "       test_res        Is  pvalue            group     residuals  \n",
       "0 -32003.130435  0.293798   0.074  not-significant -32003.130435  \n",
       "1  12393.478261 -0.039131   0.405  not-significant  12393.478261  "
      ]
     },
     "execution_count": 62,
     "metadata": {},
     "output_type": "execute_result"
    }
   ],
   "source": [
    "# Calculate spatial groupings and significance\n",
    "test_p['Is'] = lisa.Is\n",
    "test_p['pvalue'] = lisa.p_sim \n",
    "test_p['group'] = lisa.q \n",
    "test_p.loc[test_p['pvalue'] > 0.05, 'group'] = 'not-significant'\n",
    "test_p.loc[test_p['group'] == 1, 'group'] = 'hotspot'\n",
    "test_p.loc[test_p['group'] == 2, 'group'] = 'cold outlier'\n",
    "test_p.loc[test_p['group'] == 3, 'group'] = 'coldspot'\n",
    "test_p.loc[test_p['group'] == 4, 'group'] = 'hot outlier'\n",
    "print(test_p ['group'].value_counts())\n",
    "test_p.head(2)"
   ]
  },
  {
   "cell_type": "code",
   "execution_count": 63,
   "id": "3da82016-dd1a-40df-8fae-825e88834050",
   "metadata": {},
   "outputs": [
    {
     "data": {
      "image/png": "[encoded data removed]",
      "text/plain": [
       "<Figure size 800x800 with 1 Axes>"
      ]
     },
     "metadata": {},
     "output_type": "display_data"
    }
   ],
   "source": [
    "# Vizualize spatial groupings and significance\n",
    "fig, ax = plt.subplots(figsize=(8,8), subplot_kw={'aspect':'equal'})    \n",
    "\n",
    "group_colors = {'not-significant': 'grey',\n",
    "               'hotspot': 'red',\n",
    "               'coldspot': 'blue',\n",
    "               'cold outlier': 'lightblue',\n",
    "               'hot outlier': 'pink'}\n",
    "group_colors\n",
    "\n",
    "for ctype, data in test_p.groupby('group'):\n",
    "    \n",
    "    color = group_colors[ctype]\n",
    "    \n",
    "    data.plot(color=color, ax=ax, label=ctype)\n",
    "\n",
    "ax.legend(bbox_to_anchor=(1.0, .5), prop={'size': 12})\n",
    "ax.set(title='Spatial Groupings')\n",
    "\n",
    "ax.set_axis_off()\n",
    "plt.show()"
   ]
  },
  {
   "cell_type": "markdown",
   "id": "1532615f-da05-4f64-b79e-0b512339abfd",
   "metadata": {
    "tags": []
   },
   "source": [
    "## Runtime"
   ]
  },
  {
   "cell_type": "code",
   "execution_count": 64,
   "id": "fd8422bc-2489-4142-b4b2-28a81072865d",
   "metadata": {},
   "outputs": [
    {
     "name": "stdout",
     "output_type": "stream",
     "text": [
      "Time for whole script: 154.24 seconds\n"
     ]
    }
   ],
   "source": [
    "print(\"Time for whole script: {:.2f} seconds\".format(time() - start_time))"
   ]
  }
 ],
 "metadata": {
  "kernelspec": {
   "display_name": "Python 3 (ipykernel)",
   "language": "python",
   "name": "python3"
  },
  "language_info": {
   "codemirror_mode": {
    "name": "ipython",
    "version": 3
   },
   "file_extension": ".py",
   "mimetype": "text/x-python",
   "name": "python",
   "nbconvert_exporter": "python",
   "pygments_lexer": "ipython3",
   "version": "3.11.6"
  }
 },
 "nbformat": 4,
 "nbformat_minor": 5
}
