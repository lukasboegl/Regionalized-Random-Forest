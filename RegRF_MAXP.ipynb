{
 "cells": [
  {
   "cell_type": "code",
   "execution_count": 1,
   "id": "2f45ed39-5ffc-49d3-a04a-550ccc953ac2",
   "metadata": {},
   "outputs": [],
   "source": [
    "from time import time\n",
    "start_time = time()"
   ]
  },
  {
   "cell_type": "markdown",
   "id": "7abbdf82-cd8a-43de-a757-cc0bc10d3ede",
   "metadata": {
    "tags": []
   },
   "source": [
    "### Imports, Load Data and inspect"
   ]
  },
  {
   "cell_type": "code",
   "execution_count": 2,
   "id": "1adc6000-aa90-4859-b88c-086265d1d51e",
   "metadata": {},
   "outputs": [],
   "source": [
    "import geopandas as gpd\n",
    "import pandas as pd\n",
    "import numpy as np\n",
    "import matplotlib.pyplot as plt\n",
    "from libpysal.weights import Queen, Rook, KNN\n",
    "from spopt.region import MaxPHeuristic as MaxP\n",
    "import shapely\n",
    "from sklearn.ensemble import RandomForestRegressor\n",
    "from sklearn.model_selection import RandomizedSearchCV\n",
    "from sklearn.metrics import r2_score, mean_absolute_error, mean_squared_error\n",
    "from sklearn.metrics import davies_bouldin_score, calinski_harabasz_score, silhouette_score\n",
    "import libpysal as ps\n",
    "import esda\n",
    "import math"
   ]
  },
  {
   "cell_type": "code",
   "execution_count": 3,
   "id": "11a845b3-21f4-4ca8-aadb-07713126146a",
   "metadata": {},
   "outputs": [],
   "source": [
    "pd.set_option('display.max_columns', None)"
   ]
  },
  {
   "cell_type": "code",
   "execution_count": 4,
   "id": "3ca46068-3ac6-4a21-9f6b-9d69ec5de47b",
   "metadata": {},
   "outputs": [],
   "source": [
    "# BIG DATASET\n",
    "# Split 1\n",
    "#pth = r\"Y:\\Lukas\\thesis\\bus1123\\data\\split1\\calhouses3310scat-train1-voro1.shp\"\n",
    "#test_p_pth = r\"Y:\\Lukas\\thesis\\bus1123\\data\\split1\\calhouses3310scat-test1.shp\"\n",
    "\n",
    "# Split 2\n",
    "#pth = r\"Y:\\Lukas\\thesis\\bus1123\\data\\split2\\calhouses3310scat-train2-voro2.shp\"\n",
    "#test_p_pth = r\"Y:\\Lukas\\thesis\\bus1123\\data\\split2\\calhouses3310scat-test2.shp\"\n",
    "\n",
    "# Split 3\n",
    "#pth = r\"Y:\\Lukas\\thesis\\bus1123\\data\\split3\\calhouses3310scat-train3-voro3.shp\"\n",
    "#test_p_pth = r\"Y:\\Lukas\\thesis\\bus1123\\data\\split3\\calhouses3310scat-test3.shp\"\n",
    "\n",
    "# SMALL DATASET\n",
    "# Split 1\n",
    "pth = r\"Y:\\Lukas\\thesis\\bus1123\\randomsample_houses\\houses_random_2050_TRAIN-1_voro.shp\"\n",
    "test_p_pth = r\"Y:\\Lukas\\thesis\\bus1123\\randomsample_houses\\houses_random_2050_TEST-1_points.shp\"\n",
    "\n",
    "# Split 2\n",
    "#pth = r\"Y:\\Lukas\\thesis\\bus1123\\randomsample_houses\\houses_random_2050_TRAIN-2_voro.shp\"\n",
    "#test_p_pth = r\"Y:\\Lukas\\thesis\\bus1123\\randomsample_houses\\houses_random_2050_TEST-2_points.shp\"\n",
    "\n",
    "# Split 3\n",
    "#pth = r\"Y:\\Lukas\\thesis\\bus1123\\randomsample_houses\\houses_random_2050_TRAIN-3_voro.shp\"\n",
    "#test_p_pth = r\"Y:\\Lukas\\thesis\\bus1123\\randomsample_houses\\houses_random_2050_TEST-3_points.shp\"\n",
    "\n",
    "\n",
    "houses = gpd.read_file(pth)"
   ]
  },
  {
   "cell_type": "code",
   "execution_count": 5,
   "id": "4e1e82c5-a0f7-4800-9397-1420e50b9a94",
   "metadata": {},
   "outputs": [
    {
     "data": {
      "text/html": [
       "<div>\n",
       "<style scoped>\n",
       "    .dataframe tbody tr th:only-of-type {\n",
       "        vertical-align: middle;\n",
       "    }\n",
       "\n",
       "    .dataframe tbody tr th {\n",
       "        vertical-align: top;\n",
       "    }\n",
       "\n",
       "    .dataframe thead th {\n",
       "        text-align: right;\n",
       "    }\n",
       "</style>\n",
       "<table border=\"1\" class=\"dataframe\">\n",
       "  <thead>\n",
       "    <tr style=\"text-align: right;\">\n",
       "      <th></th>\n",
       "      <th>MedHouseVa</th>\n",
       "      <th>MedIncome</th>\n",
       "      <th>MedianAge</th>\n",
       "      <th>Population</th>\n",
       "      <th>Households</th>\n",
       "      <th>roomsperHH</th>\n",
       "      <th>bedroomHH</th>\n",
       "      <th>geometry</th>\n",
       "    </tr>\n",
       "  </thead>\n",
       "  <tbody>\n",
       "    <tr>\n",
       "      <th>0</th>\n",
       "      <td>142600.0</td>\n",
       "      <td>3.0992</td>\n",
       "      <td>9.0</td>\n",
       "      <td>3293.0</td>\n",
       "      <td>840.0</td>\n",
       "      <td>4.342857</td>\n",
       "      <td>1.065476</td>\n",
       "      <td>POLYGON ((272734.822 -607559.551, 272046.019 -...</td>\n",
       "    </tr>\n",
       "    <tr>\n",
       "      <th>1</th>\n",
       "      <td>96200.0</td>\n",
       "      <td>1.6007</td>\n",
       "      <td>21.0</td>\n",
       "      <td>1327.0</td>\n",
       "      <td>488.0</td>\n",
       "      <td>3.645492</td>\n",
       "      <td>0.954918</td>\n",
       "      <td>POLYGON ((275235.497 -599843.782, 273503.882 -...</td>\n",
       "    </tr>\n",
       "  </tbody>\n",
       "</table>\n",
       "</div>"
      ],
      "text/plain": [
       "   MedHouseVa  MedIncome  MedianAge  Population  Households  roomsperHH  \\\n",
       "0    142600.0     3.0992        9.0      3293.0       840.0    4.342857   \n",
       "1     96200.0     1.6007       21.0      1327.0       488.0    3.645492   \n",
       "\n",
       "   bedroomHH                                           geometry  \n",
       "0   1.065476  POLYGON ((272734.822 -607559.551, 272046.019 -...  \n",
       "1   0.954918  POLYGON ((275235.497 -599843.782, 273503.882 -...  "
      ]
     },
     "execution_count": 5,
     "metadata": {},
     "output_type": "execute_result"
    }
   ],
   "source": [
    "houses.head(2)"
   ]
  },
  {
   "cell_type": "code",
   "execution_count": 6,
   "id": "080e6c05-e38c-4658-9c32-a2ff9ac3c5e2",
   "metadata": {},
   "outputs": [
    {
     "data": {
      "text/plain": [
       "(1640, 8)"
      ]
     },
     "execution_count": 6,
     "metadata": {},
     "output_type": "execute_result"
    }
   ],
   "source": [
    "houses.shape"
   ]
  },
  {
   "cell_type": "code",
   "execution_count": 7,
   "id": "2433867c-0f6b-4047-ac7b-494da018d496",
   "metadata": {},
   "outputs": [
    {
     "name": "stdout",
     "output_type": "stream",
     "text": [
      "<class 'geopandas.geodataframe.GeoDataFrame'>\n",
      "RangeIndex: 1640 entries, 0 to 1639\n",
      "Data columns (total 8 columns):\n",
      " #   Column      Non-Null Count  Dtype   \n",
      "---  ------      --------------  -----   \n",
      " 0   MedHouseVa  1640 non-null   float64 \n",
      " 1   MedIncome   1640 non-null   float64 \n",
      " 2   MedianAge   1640 non-null   float64 \n",
      " 3   Population  1640 non-null   float64 \n",
      " 4   Households  1640 non-null   float64 \n",
      " 5   roomsperHH  1640 non-null   float64 \n",
      " 6   bedroomHH   1640 non-null   float64 \n",
      " 7   geometry    1640 non-null   geometry\n",
      "dtypes: float64(7), geometry(1)\n",
      "memory usage: 102.6 KB\n"
     ]
    }
   ],
   "source": [
    "houses.info()"
   ]
  },
  {
   "cell_type": "markdown",
   "id": "ab453e1d-648f-4cd1-973d-36ce0656fdf9",
   "metadata": {
    "tags": []
   },
   "source": [
    "### MAXP Regionalization"
   ]
  },
  {
   "cell_type": "code",
   "execution_count": 8,
   "id": "68bfb952-5f1b-4fb3-a500-8adb6070453d",
   "metadata": {},
   "outputs": [
    {
     "data": {
      "text/plain": [
       "(1640, 8)"
      ]
     },
     "execution_count": 8,
     "metadata": {},
     "output_type": "execute_result"
    }
   ],
   "source": [
    "houses.shape"
   ]
  },
  {
   "cell_type": "code",
   "execution_count": 9,
   "id": "c327c886-94aa-435a-a08d-475d88de8ced",
   "metadata": {},
   "outputs": [],
   "source": [
    "attribute_name = ['MedHouseVa']"
   ]
  },
  {
   "cell_type": "code",
   "execution_count": 10,
   "id": "5a9d889d-b092-4bdb-a40c-921ca32ca200",
   "metadata": {},
   "outputs": [
    {
     "name": "stderr",
     "output_type": "stream",
     "text": [
      "C:\\Users\\lukasb97\\AppData\\Local\\Temp\\ipykernel_5492\\266690351.py:1: FutureWarning: `use_index` defaults to False but will default to True in future. Set True/False directly to control this behavior and silence this warning\n",
      "  wq = Queen.from_dataframe(houses)\n"
     ]
    },
    {
     "data": {
      "text/plain": [
       "1640"
      ]
     },
     "execution_count": 10,
     "metadata": {},
     "output_type": "execute_result"
    }
   ],
   "source": [
    "wq = Queen.from_dataframe(houses)\n",
    "wq.n"
   ]
  },
  {
   "cell_type": "code",
   "execution_count": 11,
   "id": "1bf671bf-1780-47d7-bf56-ee2ffa9f0e1b",
   "metadata": {},
   "outputs": [],
   "source": [
    "threshold_value = 65\n",
    "houses[\"count\"] = 1\n",
    "threshold_name = \"count\""
   ]
  },
  {
   "cell_type": "code",
   "execution_count": 12,
   "id": "d6216508-ed98-40af-aec8-feba8a0fa207",
   "metadata": {},
   "outputs": [
    {
     "name": "stdout",
     "output_type": "stream",
     "text": [
      "CPU times: total: 5min 5s\n",
      "Wall time: 5min 5s\n"
     ]
    }
   ],
   "source": [
    "%%time\n",
    "model = MaxP(houses, wq, attribute_name, threshold_name, threshold_value)\n",
    "model.solve()"
   ]
  },
  {
   "cell_type": "code",
   "execution_count": 13,
   "id": "a067b000-d977-47ba-9bbc-0af9db0b11b2",
   "metadata": {},
   "outputs": [],
   "source": [
    "column_name = f'maxp_{threshold_value}'\n",
    "houses[column_name] = model.labels_"
   ]
  },
  {
   "cell_type": "code",
   "execution_count": 14,
   "id": "08ec495e-fd64-4ec1-8dbc-4f469e8e045f",
   "metadata": {},
   "outputs": [
    {
     "data": {
      "text/html": [
       "<div>\n",
       "<style scoped>\n",
       "    .dataframe tbody tr th:only-of-type {\n",
       "        vertical-align: middle;\n",
       "    }\n",
       "\n",
       "    .dataframe tbody tr th {\n",
       "        vertical-align: top;\n",
       "    }\n",
       "\n",
       "    .dataframe thead th {\n",
       "        text-align: right;\n",
       "    }\n",
       "</style>\n",
       "<table border=\"1\" class=\"dataframe\">\n",
       "  <thead>\n",
       "    <tr style=\"text-align: right;\">\n",
       "      <th></th>\n",
       "      <th>number</th>\n",
       "    </tr>\n",
       "    <tr>\n",
       "      <th>maxp_65</th>\n",
       "      <th></th>\n",
       "    </tr>\n",
       "  </thead>\n",
       "  <tbody>\n",
       "    <tr>\n",
       "      <th>1</th>\n",
       "      <td>66</td>\n",
       "    </tr>\n",
       "    <tr>\n",
       "      <th>2</th>\n",
       "      <td>66</td>\n",
       "    </tr>\n",
       "    <tr>\n",
       "      <th>3</th>\n",
       "      <td>75</td>\n",
       "    </tr>\n",
       "    <tr>\n",
       "      <th>4</th>\n",
       "      <td>66</td>\n",
       "    </tr>\n",
       "    <tr>\n",
       "      <th>5</th>\n",
       "      <td>66</td>\n",
       "    </tr>\n",
       "    <tr>\n",
       "      <th>6</th>\n",
       "      <td>66</td>\n",
       "    </tr>\n",
       "    <tr>\n",
       "      <th>7</th>\n",
       "      <td>66</td>\n",
       "    </tr>\n",
       "    <tr>\n",
       "      <th>8</th>\n",
       "      <td>88</td>\n",
       "    </tr>\n",
       "    <tr>\n",
       "      <th>9</th>\n",
       "      <td>66</td>\n",
       "    </tr>\n",
       "    <tr>\n",
       "      <th>10</th>\n",
       "      <td>86</td>\n",
       "    </tr>\n",
       "    <tr>\n",
       "      <th>11</th>\n",
       "      <td>66</td>\n",
       "    </tr>\n",
       "    <tr>\n",
       "      <th>12</th>\n",
       "      <td>66</td>\n",
       "    </tr>\n",
       "    <tr>\n",
       "      <th>13</th>\n",
       "      <td>66</td>\n",
       "    </tr>\n",
       "    <tr>\n",
       "      <th>14</th>\n",
       "      <td>66</td>\n",
       "    </tr>\n",
       "    <tr>\n",
       "      <th>15</th>\n",
       "      <td>80</td>\n",
       "    </tr>\n",
       "    <tr>\n",
       "      <th>16</th>\n",
       "      <td>102</td>\n",
       "    </tr>\n",
       "    <tr>\n",
       "      <th>17</th>\n",
       "      <td>66</td>\n",
       "    </tr>\n",
       "    <tr>\n",
       "      <th>18</th>\n",
       "      <td>67</td>\n",
       "    </tr>\n",
       "    <tr>\n",
       "      <th>19</th>\n",
       "      <td>78</td>\n",
       "    </tr>\n",
       "    <tr>\n",
       "      <th>20</th>\n",
       "      <td>74</td>\n",
       "    </tr>\n",
       "    <tr>\n",
       "      <th>21</th>\n",
       "      <td>66</td>\n",
       "    </tr>\n",
       "    <tr>\n",
       "      <th>22</th>\n",
       "      <td>66</td>\n",
       "    </tr>\n",
       "    <tr>\n",
       "      <th>23</th>\n",
       "      <td>66</td>\n",
       "    </tr>\n",
       "  </tbody>\n",
       "</table>\n",
       "</div>"
      ],
      "text/plain": [
       "         number\n",
       "maxp_65        \n",
       "1            66\n",
       "2            66\n",
       "3            75\n",
       "4            66\n",
       "5            66\n",
       "6            66\n",
       "7            66\n",
       "8            88\n",
       "9            66\n",
       "10           86\n",
       "11           66\n",
       "12           66\n",
       "13           66\n",
       "14           66\n",
       "15           80\n",
       "16          102\n",
       "17           66\n",
       "18           67\n",
       "19           78\n",
       "20           74\n",
       "21           66\n",
       "22           66\n",
       "23           66"
      ]
     },
     "execution_count": 14,
     "metadata": {},
     "output_type": "execute_result"
    }
   ],
   "source": [
    "pd.set_option('display.max_rows', 300)\n",
    "houses['number'] = 1\n",
    "houses[[column_name,'number']].groupby(by=column_name).count()"
   ]
  },
  {
   "cell_type": "code",
   "execution_count": 15,
   "id": "3312023d-4614-47bd-9393-07bb53b676db",
   "metadata": {},
   "outputs": [
    {
     "data": {
      "text/plain": [
       "<Axes: >"
      ]
     },
     "execution_count": 15,
     "metadata": {},
     "output_type": "execute_result"
    },
    {
     "data": {
      "image/png": "[encoded data removed]",
      "text/plain": [
       "<Figure size 640x480 with 1 Axes>"
      ]
     },
     "metadata": {},
     "output_type": "display_data"
    }
   ],
   "source": [
    "houses.plot(column=column_name, categorical=True)"
   ]
  },
  {
   "cell_type": "markdown",
   "id": "5f7b16af-e874-4847-a125-8b790b62b7c2",
   "metadata": {},
   "source": [
    "### Choose best model, then only keep necessary columns"
   ]
  },
  {
   "cell_type": "code",
   "execution_count": 16,
   "id": "2d706b39-ceea-4862-bfd8-314cc353458c",
   "metadata": {},
   "outputs": [
    {
     "data": {
      "text/html": [
       "<div>\n",
       "<style scoped>\n",
       "    .dataframe tbody tr th:only-of-type {\n",
       "        vertical-align: middle;\n",
       "    }\n",
       "\n",
       "    .dataframe tbody tr th {\n",
       "        vertical-align: top;\n",
       "    }\n",
       "\n",
       "    .dataframe thead th {\n",
       "        text-align: right;\n",
       "    }\n",
       "</style>\n",
       "<table border=\"1\" class=\"dataframe\">\n",
       "  <thead>\n",
       "    <tr style=\"text-align: right;\">\n",
       "      <th></th>\n",
       "      <th>MedHouseVa</th>\n",
       "      <th>MedIncome</th>\n",
       "      <th>MedianAge</th>\n",
       "      <th>Population</th>\n",
       "      <th>Households</th>\n",
       "      <th>roomsperHH</th>\n",
       "      <th>bedroomHH</th>\n",
       "      <th>geometry</th>\n",
       "      <th>count</th>\n",
       "      <th>maxp_65</th>\n",
       "      <th>number</th>\n",
       "    </tr>\n",
       "  </thead>\n",
       "  <tbody>\n",
       "    <tr>\n",
       "      <th>0</th>\n",
       "      <td>142600.0</td>\n",
       "      <td>3.0992</td>\n",
       "      <td>9.0</td>\n",
       "      <td>3293.0</td>\n",
       "      <td>840.0</td>\n",
       "      <td>4.342857</td>\n",
       "      <td>1.065476</td>\n",
       "      <td>POLYGON ((272734.822 -607559.551, 272046.019 -...</td>\n",
       "      <td>1</td>\n",
       "      <td>21</td>\n",
       "      <td>1</td>\n",
       "    </tr>\n",
       "  </tbody>\n",
       "</table>\n",
       "</div>"
      ],
      "text/plain": [
       "   MedHouseVa  MedIncome  MedianAge  Population  Households  roomsperHH  \\\n",
       "0    142600.0     3.0992        9.0      3293.0       840.0    4.342857   \n",
       "\n",
       "   bedroomHH                                           geometry  count  \\\n",
       "0   1.065476  POLYGON ((272734.822 -607559.551, 272046.019 -...      1   \n",
       "\n",
       "   maxp_65  number  \n",
       "0       21       1  "
      ]
     },
     "execution_count": 16,
     "metadata": {},
     "output_type": "execute_result"
    }
   ],
   "source": [
    "houses.head(1)"
   ]
  },
  {
   "cell_type": "code",
   "execution_count": 17,
   "id": "1ce9d107-7aa3-4fc3-b76c-ec00c2327746",
   "metadata": {},
   "outputs": [
    {
     "data": {
      "text/html": [
       "<div>\n",
       "<style scoped>\n",
       "    .dataframe tbody tr th:only-of-type {\n",
       "        vertical-align: middle;\n",
       "    }\n",
       "\n",
       "    .dataframe tbody tr th {\n",
       "        vertical-align: top;\n",
       "    }\n",
       "\n",
       "    .dataframe thead th {\n",
       "        text-align: right;\n",
       "    }\n",
       "</style>\n",
       "<table border=\"1\" class=\"dataframe\">\n",
       "  <thead>\n",
       "    <tr style=\"text-align: right;\">\n",
       "      <th></th>\n",
       "      <th>MedHouseVa</th>\n",
       "      <th>MedIncome</th>\n",
       "      <th>MedianAge</th>\n",
       "      <th>Population</th>\n",
       "      <th>Households</th>\n",
       "      <th>roomsperHH</th>\n",
       "      <th>bedroomHH</th>\n",
       "      <th>geometry</th>\n",
       "      <th>maxp_65</th>\n",
       "    </tr>\n",
       "  </thead>\n",
       "  <tbody>\n",
       "    <tr>\n",
       "      <th>0</th>\n",
       "      <td>142600.0</td>\n",
       "      <td>3.0992</td>\n",
       "      <td>9.0</td>\n",
       "      <td>3293.0</td>\n",
       "      <td>840.0</td>\n",
       "      <td>4.342857</td>\n",
       "      <td>1.065476</td>\n",
       "      <td>POLYGON ((272734.822 -607559.551, 272046.019 -...</td>\n",
       "      <td>21</td>\n",
       "    </tr>\n",
       "    <tr>\n",
       "      <th>1</th>\n",
       "      <td>96200.0</td>\n",
       "      <td>1.6007</td>\n",
       "      <td>21.0</td>\n",
       "      <td>1327.0</td>\n",
       "      <td>488.0</td>\n",
       "      <td>3.645492</td>\n",
       "      <td>0.954918</td>\n",
       "      <td>POLYGON ((275235.497 -599843.782, 273503.882 -...</td>\n",
       "      <td>21</td>\n",
       "    </tr>\n",
       "    <tr>\n",
       "      <th>2</th>\n",
       "      <td>125000.0</td>\n",
       "      <td>1.7301</td>\n",
       "      <td>5.0</td>\n",
       "      <td>3148.0</td>\n",
       "      <td>855.0</td>\n",
       "      <td>3.164912</td>\n",
       "      <td>1.081871</td>\n",
       "      <td>POLYGON ((276137.045 -604431.281, 275994.245 -...</td>\n",
       "      <td>21</td>\n",
       "    </tr>\n",
       "    <tr>\n",
       "      <th>3</th>\n",
       "      <td>139500.0</td>\n",
       "      <td>3.6736</td>\n",
       "      <td>23.0</td>\n",
       "      <td>1371.0</td>\n",
       "      <td>327.0</td>\n",
       "      <td>5.556575</td>\n",
       "      <td>0.987768</td>\n",
       "      <td>POLYGON ((269191.311 -606347.166, 269183.834 -...</td>\n",
       "      <td>21</td>\n",
       "    </tr>\n",
       "    <tr>\n",
       "      <th>4</th>\n",
       "      <td>139300.0</td>\n",
       "      <td>3.8615</td>\n",
       "      <td>26.0</td>\n",
       "      <td>1145.0</td>\n",
       "      <td>313.0</td>\n",
       "      <td>4.993610</td>\n",
       "      <td>0.913738</td>\n",
       "      <td>POLYGON ((279114.859 -598990.282, 278765.629 -...</td>\n",
       "      <td>21</td>\n",
       "    </tr>\n",
       "  </tbody>\n",
       "</table>\n",
       "</div>"
      ],
      "text/plain": [
       "   MedHouseVa  MedIncome  MedianAge  Population  Households  roomsperHH  \\\n",
       "0    142600.0     3.0992        9.0      3293.0       840.0    4.342857   \n",
       "1     96200.0     1.6007       21.0      1327.0       488.0    3.645492   \n",
       "2    125000.0     1.7301        5.0      3148.0       855.0    3.164912   \n",
       "3    139500.0     3.6736       23.0      1371.0       327.0    5.556575   \n",
       "4    139300.0     3.8615       26.0      1145.0       313.0    4.993610   \n",
       "\n",
       "   bedroomHH                                           geometry  maxp_65  \n",
       "0   1.065476  POLYGON ((272734.822 -607559.551, 272046.019 -...       21  \n",
       "1   0.954918  POLYGON ((275235.497 -599843.782, 273503.882 -...       21  \n",
       "2   1.081871  POLYGON ((276137.045 -604431.281, 275994.245 -...       21  \n",
       "3   0.987768  POLYGON ((269191.311 -606347.166, 269183.834 -...       21  \n",
       "4   0.913738  POLYGON ((279114.859 -598990.282, 278765.629 -...       21  "
      ]
     },
     "execution_count": 17,
     "metadata": {},
     "output_type": "execute_result"
    }
   ],
   "source": [
    "keepcolumns = ['MedHouseVa', 'MedIncome', 'MedianAge', 'Population', 'Households', 'roomsperHH', 'bedroomHH', 'geometry', \n",
    "               'maxp_65']\n",
    "houses = houses.loc[:, keepcolumns]\n",
    "houses.head()"
   ]
  },
  {
   "cell_type": "markdown",
   "id": "f225559b-7e1b-46c5-8a62-7cfd222b0858",
   "metadata": {
    "tags": []
   },
   "source": [
    "## Spatial join the test data"
   ]
  },
  {
   "cell_type": "code",
   "execution_count": 18,
   "id": "8fe1bde3-8dd6-4c52-ac9f-7ead636fad84",
   "metadata": {},
   "outputs": [],
   "source": [
    "test_p = gpd.read_file(test_p_pth)"
   ]
  },
  {
   "cell_type": "code",
   "execution_count": 19,
   "id": "983b5eeb-f0ae-4951-9ee6-fce25ea4bb9e",
   "metadata": {},
   "outputs": [
    {
     "data": {
      "text/html": [
       "<div>\n",
       "<style scoped>\n",
       "    .dataframe tbody tr th:only-of-type {\n",
       "        vertical-align: middle;\n",
       "    }\n",
       "\n",
       "    .dataframe tbody tr th {\n",
       "        vertical-align: top;\n",
       "    }\n",
       "\n",
       "    .dataframe thead th {\n",
       "        text-align: right;\n",
       "    }\n",
       "</style>\n",
       "<table border=\"1\" class=\"dataframe\">\n",
       "  <thead>\n",
       "    <tr style=\"text-align: right;\">\n",
       "      <th></th>\n",
       "      <th>MedHouseVa</th>\n",
       "      <th>MedIncome</th>\n",
       "      <th>MedianAge</th>\n",
       "      <th>Population</th>\n",
       "      <th>Households</th>\n",
       "      <th>roomsperHH</th>\n",
       "      <th>bedroomHH</th>\n",
       "      <th>geometry</th>\n",
       "    </tr>\n",
       "  </thead>\n",
       "  <tbody>\n",
       "    <tr>\n",
       "      <th>0</th>\n",
       "      <td>55000.0</td>\n",
       "      <td>1.6071</td>\n",
       "      <td>27.0</td>\n",
       "      <td>587.0</td>\n",
       "      <td>231.0</td>\n",
       "      <td>4.190476</td>\n",
       "      <td>1.038961</td>\n",
       "      <td>POINT (-6223.359 -116314.796)</td>\n",
       "    </tr>\n",
       "    <tr>\n",
       "      <th>1</th>\n",
       "      <td>104200.0</td>\n",
       "      <td>2.1250</td>\n",
       "      <td>16.0</td>\n",
       "      <td>1077.0</td>\n",
       "      <td>520.0</td>\n",
       "      <td>5.046154</td>\n",
       "      <td>1.013462</td>\n",
       "      <td>POINT (60108.280 -192791.957)</td>\n",
       "    </tr>\n",
       "  </tbody>\n",
       "</table>\n",
       "</div>"
      ],
      "text/plain": [
       "   MedHouseVa  MedIncome  MedianAge  Population  Households  roomsperHH  \\\n",
       "0     55000.0     1.6071       27.0       587.0       231.0    4.190476   \n",
       "1    104200.0     2.1250       16.0      1077.0       520.0    5.046154   \n",
       "\n",
       "   bedroomHH                       geometry  \n",
       "0   1.038961  POINT (-6223.359 -116314.796)  \n",
       "1   1.013462  POINT (60108.280 -192791.957)  "
      ]
     },
     "execution_count": 19,
     "metadata": {},
     "output_type": "execute_result"
    }
   ],
   "source": [
    "test_p.head(2)"
   ]
  },
  {
   "cell_type": "code",
   "execution_count": 20,
   "id": "97731ee7-ea00-4722-a776-1c84b99734e6",
   "metadata": {},
   "outputs": [
    {
     "data": {
      "text/plain": [
       "(411, 8)"
      ]
     },
     "execution_count": 20,
     "metadata": {},
     "output_type": "execute_result"
    }
   ],
   "source": [
    "test_p.shape"
   ]
  },
  {
   "cell_type": "code",
   "execution_count": 21,
   "id": "f6d2307d-efde-4247-9606-2dce1cd5e540",
   "metadata": {},
   "outputs": [
    {
     "data": {
      "text/plain": [
       "<Axes: >"
      ]
     },
     "execution_count": 21,
     "metadata": {},
     "output_type": "execute_result"
    },
    {
     "data": {
      "image/png": "[encoded data removed]",
      "text/plain": [
       "<Figure size 640x480 with 1 Axes>"
      ]
     },
     "metadata": {},
     "output_type": "display_data"
    }
   ],
   "source": [
    "test_p.plot()"
   ]
  },
  {
   "cell_type": "code",
   "execution_count": 22,
   "id": "90118f49-d9a0-4fc1-b14b-86cbb83411db",
   "metadata": {},
   "outputs": [
    {
     "name": "stderr",
     "output_type": "stream",
     "text": [
      "C:\\Users\\lukasb97\\.conda\\envs\\test\\Lib\\site-packages\\IPython\\core\\interactiveshell.py:3488: FutureWarning: The `op` parameter is deprecated and will be removed in a future release. Please use the `predicate` parameter instead.\n",
      "  if await self.run_code(code, result, async_=asy):\n"
     ]
    }
   ],
   "source": [
    "# temporary copy so just the columns wanted are in the join\n",
    "temp_train_gdf = houses[['maxp_65', 'geometry']].copy()\n",
    "\n",
    "joined_gdf = gpd.sjoin(test_p, temp_train_gdf, how=\"left\", op=\"within\")\n",
    "joined_gdf = joined_gdf.drop(columns=['index_right'])\n",
    "\n",
    "# --> provides test data with cluster number"
   ]
  },
  {
   "cell_type": "code",
   "execution_count": 23,
   "id": "50502335-0e98-4c73-8e81-63b23eec8553",
   "metadata": {},
   "outputs": [
    {
     "data": {
      "text/html": [
       "<div>\n",
       "<style scoped>\n",
       "    .dataframe tbody tr th:only-of-type {\n",
       "        vertical-align: middle;\n",
       "    }\n",
       "\n",
       "    .dataframe tbody tr th {\n",
       "        vertical-align: top;\n",
       "    }\n",
       "\n",
       "    .dataframe thead th {\n",
       "        text-align: right;\n",
       "    }\n",
       "</style>\n",
       "<table border=\"1\" class=\"dataframe\">\n",
       "  <thead>\n",
       "    <tr style=\"text-align: right;\">\n",
       "      <th></th>\n",
       "      <th>MedHouseVa</th>\n",
       "      <th>MedIncome</th>\n",
       "      <th>MedianAge</th>\n",
       "      <th>Population</th>\n",
       "      <th>Households</th>\n",
       "      <th>roomsperHH</th>\n",
       "      <th>bedroomHH</th>\n",
       "      <th>geometry</th>\n",
       "      <th>maxp_65</th>\n",
       "    </tr>\n",
       "  </thead>\n",
       "  <tbody>\n",
       "    <tr>\n",
       "      <th>0</th>\n",
       "      <td>142600.0</td>\n",
       "      <td>3.0992</td>\n",
       "      <td>9.0</td>\n",
       "      <td>3293.0</td>\n",
       "      <td>840.0</td>\n",
       "      <td>4.342857</td>\n",
       "      <td>1.065476</td>\n",
       "      <td>POLYGON ((272734.822 -607559.551, 272046.019 -...</td>\n",
       "      <td>21</td>\n",
       "    </tr>\n",
       "    <tr>\n",
       "      <th>1</th>\n",
       "      <td>96200.0</td>\n",
       "      <td>1.6007</td>\n",
       "      <td>21.0</td>\n",
       "      <td>1327.0</td>\n",
       "      <td>488.0</td>\n",
       "      <td>3.645492</td>\n",
       "      <td>0.954918</td>\n",
       "      <td>POLYGON ((275235.497 -599843.782, 273503.882 -...</td>\n",
       "      <td>21</td>\n",
       "    </tr>\n",
       "    <tr>\n",
       "      <th>2</th>\n",
       "      <td>125000.0</td>\n",
       "      <td>1.7301</td>\n",
       "      <td>5.0</td>\n",
       "      <td>3148.0</td>\n",
       "      <td>855.0</td>\n",
       "      <td>3.164912</td>\n",
       "      <td>1.081871</td>\n",
       "      <td>POLYGON ((276137.045 -604431.281, 275994.245 -...</td>\n",
       "      <td>21</td>\n",
       "    </tr>\n",
       "  </tbody>\n",
       "</table>\n",
       "</div>"
      ],
      "text/plain": [
       "   MedHouseVa  MedIncome  MedianAge  Population  Households  roomsperHH  \\\n",
       "0    142600.0     3.0992        9.0      3293.0       840.0    4.342857   \n",
       "1     96200.0     1.6007       21.0      1327.0       488.0    3.645492   \n",
       "2    125000.0     1.7301        5.0      3148.0       855.0    3.164912   \n",
       "\n",
       "   bedroomHH                                           geometry  maxp_65  \n",
       "0   1.065476  POLYGON ((272734.822 -607559.551, 272046.019 -...       21  \n",
       "1   0.954918  POLYGON ((275235.497 -599843.782, 273503.882 -...       21  \n",
       "2   1.081871  POLYGON ((276137.045 -604431.281, 275994.245 -...       21  "
      ]
     },
     "execution_count": 23,
     "metadata": {},
     "output_type": "execute_result"
    }
   ],
   "source": [
    "houses.head(3)"
   ]
  },
  {
   "cell_type": "code",
   "execution_count": 24,
   "id": "e287cd7e-a3ae-4cf2-ba61-c545211608fb",
   "metadata": {},
   "outputs": [
    {
     "data": {
      "text/html": [
       "<div>\n",
       "<style scoped>\n",
       "    .dataframe tbody tr th:only-of-type {\n",
       "        vertical-align: middle;\n",
       "    }\n",
       "\n",
       "    .dataframe tbody tr th {\n",
       "        vertical-align: top;\n",
       "    }\n",
       "\n",
       "    .dataframe thead th {\n",
       "        text-align: right;\n",
       "    }\n",
       "</style>\n",
       "<table border=\"1\" class=\"dataframe\">\n",
       "  <thead>\n",
       "    <tr style=\"text-align: right;\">\n",
       "      <th></th>\n",
       "      <th>MedHouseVa</th>\n",
       "      <th>MedIncome</th>\n",
       "      <th>MedianAge</th>\n",
       "      <th>Population</th>\n",
       "      <th>Households</th>\n",
       "      <th>roomsperHH</th>\n",
       "      <th>bedroomHH</th>\n",
       "      <th>geometry</th>\n",
       "      <th>maxp_65</th>\n",
       "    </tr>\n",
       "  </thead>\n",
       "  <tbody>\n",
       "    <tr>\n",
       "      <th>0</th>\n",
       "      <td>55000.0</td>\n",
       "      <td>1.6071</td>\n",
       "      <td>27.0</td>\n",
       "      <td>587.0</td>\n",
       "      <td>231.0</td>\n",
       "      <td>4.190476</td>\n",
       "      <td>1.038961</td>\n",
       "      <td>POINT (-6223.359 -116314.796)</td>\n",
       "      <td>8</td>\n",
       "    </tr>\n",
       "    <tr>\n",
       "      <th>1</th>\n",
       "      <td>104200.0</td>\n",
       "      <td>2.1250</td>\n",
       "      <td>16.0</td>\n",
       "      <td>1077.0</td>\n",
       "      <td>520.0</td>\n",
       "      <td>5.046154</td>\n",
       "      <td>1.013462</td>\n",
       "      <td>POINT (60108.280 -192791.957)</td>\n",
       "      <td>8</td>\n",
       "    </tr>\n",
       "    <tr>\n",
       "      <th>2</th>\n",
       "      <td>176100.0</td>\n",
       "      <td>2.9000</td>\n",
       "      <td>20.0</td>\n",
       "      <td>1607.0</td>\n",
       "      <td>564.0</td>\n",
       "      <td>4.083333</td>\n",
       "      <td>1.085106</td>\n",
       "      <td>POINT (186008.732 -459723.035)</td>\n",
       "      <td>19</td>\n",
       "    </tr>\n",
       "  </tbody>\n",
       "</table>\n",
       "</div>"
      ],
      "text/plain": [
       "   MedHouseVa  MedIncome  MedianAge  Population  Households  roomsperHH  \\\n",
       "0     55000.0     1.6071       27.0       587.0       231.0    4.190476   \n",
       "1    104200.0     2.1250       16.0      1077.0       520.0    5.046154   \n",
       "2    176100.0     2.9000       20.0      1607.0       564.0    4.083333   \n",
       "\n",
       "   bedroomHH                        geometry  maxp_65  \n",
       "0   1.038961   POINT (-6223.359 -116314.796)        8  \n",
       "1   1.013462   POINT (60108.280 -192791.957)        8  \n",
       "2   1.085106  POINT (186008.732 -459723.035)       19  "
      ]
     },
     "execution_count": 24,
     "metadata": {},
     "output_type": "execute_result"
    }
   ],
   "source": [
    "joined_gdf.head(3)"
   ]
  },
  {
   "cell_type": "code",
   "execution_count": 25,
   "id": "a1d4f97f-08be-4482-b496-1bb1145bf591",
   "metadata": {
    "tags": []
   },
   "outputs": [
    {
     "data": {
      "text/plain": [
       "<Axes: >"
      ]
     },
     "execution_count": 25,
     "metadata": {},
     "output_type": "execute_result"
    },
    {
     "data": {
      "image/png": "[encoded data removed]",
      "text/plain": [
       "<Figure size 500x500 with 1 Axes>"
      ]
     },
     "metadata": {},
     "output_type": "display_data"
    }
   ],
   "source": [
    "joined_gdf.plot(column='maxp_65', categorical=True, figsize=(5,5))"
   ]
  },
  {
   "cell_type": "code",
   "execution_count": 26,
   "id": "7b3b2013-de9b-440f-aaf0-48be3dcde6a9",
   "metadata": {},
   "outputs": [
    {
     "data": {
      "text/html": [
       "<div>\n",
       "<style scoped>\n",
       "    .dataframe tbody tr th:only-of-type {\n",
       "        vertical-align: middle;\n",
       "    }\n",
       "\n",
       "    .dataframe tbody tr th {\n",
       "        vertical-align: top;\n",
       "    }\n",
       "\n",
       "    .dataframe thead th {\n",
       "        text-align: right;\n",
       "    }\n",
       "</style>\n",
       "<table border=\"1\" class=\"dataframe\">\n",
       "  <thead>\n",
       "    <tr style=\"text-align: right;\">\n",
       "      <th></th>\n",
       "      <th>MedHouseVa</th>\n",
       "      <th>MedIncome</th>\n",
       "      <th>MedianAge</th>\n",
       "      <th>Population</th>\n",
       "      <th>Households</th>\n",
       "      <th>roomsperHH</th>\n",
       "      <th>bedroomHH</th>\n",
       "      <th>geometry</th>\n",
       "      <th>maxp_65</th>\n",
       "    </tr>\n",
       "  </thead>\n",
       "  <tbody>\n",
       "    <tr>\n",
       "      <th>0</th>\n",
       "      <td>142600.0</td>\n",
       "      <td>3.0992</td>\n",
       "      <td>9.0</td>\n",
       "      <td>3293.0</td>\n",
       "      <td>840.0</td>\n",
       "      <td>4.342857</td>\n",
       "      <td>1.065476</td>\n",
       "      <td>POLYGON ((272734.822 -607559.551, 272046.019 -...</td>\n",
       "      <td>21</td>\n",
       "    </tr>\n",
       "  </tbody>\n",
       "</table>\n",
       "</div>"
      ],
      "text/plain": [
       "   MedHouseVa  MedIncome  MedianAge  Population  Households  roomsperHH  \\\n",
       "0    142600.0     3.0992        9.0      3293.0       840.0    4.342857   \n",
       "\n",
       "   bedroomHH                                           geometry  maxp_65  \n",
       "0   1.065476  POLYGON ((272734.822 -607559.551, 272046.019 -...       21  "
      ]
     },
     "execution_count": 26,
     "metadata": {},
     "output_type": "execute_result"
    }
   ],
   "source": [
    "houses.head(1)"
   ]
  },
  {
   "cell_type": "markdown",
   "id": "3b0cea57-6483-447d-9516-dc7c9f1b75e4",
   "metadata": {
    "tags": []
   },
   "source": [
    "## Variable Definitions for RF models"
   ]
  },
  {
   "cell_type": "code",
   "execution_count": 27,
   "id": "2e1e9a46-43f7-4a6f-b518-8b91d8f827a1",
   "metadata": {},
   "outputs": [],
   "source": [
    "# Need to replace the maximum value in \"maxp_650\" column with 0 in the \"houses\" DataFrame\n",
    "maxp_65_max_value = houses[\"maxp_65\"].max()\n",
    "houses[\"maxp_65\"].replace(maxp_65_max_value, 0, inplace=True)\n",
    "\n",
    "# Need to replace the maximum value in \"maxp_650\" column with 0 in the \"joined_gdf\" DataFrame\n",
    "joined_gdf[\"maxp_65\"].replace(maxp_65_max_value, 0, inplace=True)"
   ]
  },
  {
   "cell_type": "code",
   "execution_count": 28,
   "id": "233a4604-e344-4018-b80d-de6b07d9d2b8",
   "metadata": {},
   "outputs": [],
   "source": [
    "# Define labels and weights for loop - change depending on which model gets used\n",
    "region_labels = houses['maxp_65'].values\n",
    "region_labels_test = joined_gdf['maxp_65'].values"
   ]
  },
  {
   "cell_type": "code",
   "execution_count": 29,
   "id": "ce40515e-bdb6-4224-aee4-64bbbd252b11",
   "metadata": {},
   "outputs": [],
   "source": [
    "y_train = houses['MedHouseVa']\n",
    "y_test = joined_gdf['MedHouseVa']\n",
    "\n",
    "X_train = houses.drop([\"MedHouseVa\", \"geometry\"], axis=1)\n",
    "X_test = joined_gdf.drop([\"MedHouseVa\", \"geometry\"], axis=1)"
   ]
  },
  {
   "cell_type": "code",
   "execution_count": 30,
   "id": "956660fe-4895-41cb-a081-a4e29f45b724",
   "metadata": {},
   "outputs": [],
   "source": [
    "weights = [len(y_train[region_labels == i]) for i in range(len(np.unique(region_labels)))]"
   ]
  },
  {
   "cell_type": "code",
   "execution_count": 31,
   "id": "334991a8-e31b-41a3-b5ab-dce336eb07f6",
   "metadata": {},
   "outputs": [
    {
     "name": "stdout",
     "output_type": "stream",
     "text": [
      "<class 'pandas.core.series.Series'>\n",
      "RangeIndex: 1640 entries, 0 to 1639\n",
      "Series name: MedHouseVa\n",
      "Non-Null Count  Dtype  \n",
      "--------------  -----  \n",
      "1640 non-null   float64\n",
      "dtypes: float64(1)\n",
      "memory usage: 12.9 KB\n"
     ]
    }
   ],
   "source": [
    "y_train.info()"
   ]
  },
  {
   "cell_type": "code",
   "execution_count": 32,
   "id": "51c2af55-f514-4639-9cac-4db5f21b461d",
   "metadata": {},
   "outputs": [
    {
     "data": {
      "text/plain": [
       "0    55000.0\n",
       "Name: MedHouseVa, dtype: float64"
      ]
     },
     "execution_count": 32,
     "metadata": {},
     "output_type": "execute_result"
    }
   ],
   "source": [
    "y_test.head(1)"
   ]
  },
  {
   "cell_type": "code",
   "execution_count": 33,
   "id": "bdfd2764-209d-4544-a052-2e6c6eefe585",
   "metadata": {},
   "outputs": [
    {
     "data": {
      "text/plain": [
       "0     142600.0\n",
       "1      96200.0\n",
       "2     125000.0\n",
       "3     139500.0\n",
       "4     139300.0\n",
       "5      93200.0\n",
       "6     125000.0\n",
       "7     144500.0\n",
       "8     189700.0\n",
       "9     127100.0\n",
       "10    112300.0\n",
       "11    266600.0\n",
       "12    118200.0\n",
       "13    109100.0\n",
       "14    115800.0\n",
       "15    267400.0\n",
       "16    118000.0\n",
       "17    135000.0\n",
       "18    103000.0\n",
       "19    120800.0\n",
       "20    187500.0\n",
       "21    133900.0\n",
       "22    168800.0\n",
       "23     93200.0\n",
       "24    130700.0\n",
       "25    127600.0\n",
       "26    263600.0\n",
       "27    114200.0\n",
       "28    100000.0\n",
       "29    141400.0\n",
       "30    298600.0\n",
       "31    166800.0\n",
       "32    273500.0\n",
       "33    159100.0\n",
       "34    123200.0\n",
       "35    142000.0\n",
       "36    210000.0\n",
       "37    288200.0\n",
       "38    224200.0\n",
       "39    159000.0\n",
       "40    332400.0\n",
       "41    133700.0\n",
       "42    137500.0\n",
       "43    210500.0\n",
       "44    212000.0\n",
       "45    169800.0\n",
       "46    154400.0\n",
       "47    197000.0\n",
       "48    112500.0\n",
       "49    119000.0\n",
       "50    267000.0\n",
       "51    184100.0\n",
       "52    500001.0\n",
       "53    204200.0\n",
       "54    166100.0\n",
       "55    150400.0\n",
       "56    177200.0\n",
       "57    158500.0\n",
       "58    140300.0\n",
       "59     67500.0\n",
       "60     63100.0\n",
       "61     86400.0\n",
       "62    161500.0\n",
       "63    176100.0\n",
       "64    197600.0\n",
       "65    248400.0\n",
       "66    310600.0\n",
       "67     61100.0\n",
       "68    214600.0\n",
       "69    171100.0\n",
       "70    500001.0\n",
       "71    467600.0\n",
       "72    160100.0\n",
       "73    240200.0\n",
       "74    337000.0\n",
       "75    231200.0\n",
       "76    500001.0\n",
       "77    231300.0\n",
       "78    209800.0\n",
       "79    261100.0\n",
       "Name: MedHouseVa, dtype: float64"
      ]
     },
     "execution_count": 33,
     "metadata": {},
     "output_type": "execute_result"
    }
   ],
   "source": [
    "y_train.head(80)"
   ]
  },
  {
   "cell_type": "code",
   "execution_count": 34,
   "id": "7124ecdc-9780-4d01-987f-76867d9253f5",
   "metadata": {},
   "outputs": [
    {
     "data": {
      "text/html": [
       "<div>\n",
       "<style scoped>\n",
       "    .dataframe tbody tr th:only-of-type {\n",
       "        vertical-align: middle;\n",
       "    }\n",
       "\n",
       "    .dataframe tbody tr th {\n",
       "        vertical-align: top;\n",
       "    }\n",
       "\n",
       "    .dataframe thead th {\n",
       "        text-align: right;\n",
       "    }\n",
       "</style>\n",
       "<table border=\"1\" class=\"dataframe\">\n",
       "  <thead>\n",
       "    <tr style=\"text-align: right;\">\n",
       "      <th></th>\n",
       "      <th>MedIncome</th>\n",
       "      <th>MedianAge</th>\n",
       "      <th>Population</th>\n",
       "      <th>Households</th>\n",
       "      <th>roomsperHH</th>\n",
       "      <th>bedroomHH</th>\n",
       "      <th>maxp_65</th>\n",
       "    </tr>\n",
       "  </thead>\n",
       "  <tbody>\n",
       "    <tr>\n",
       "      <th>0</th>\n",
       "      <td>1.6071</td>\n",
       "      <td>27.0</td>\n",
       "      <td>587.0</td>\n",
       "      <td>231.0</td>\n",
       "      <td>4.190476</td>\n",
       "      <td>1.038961</td>\n",
       "      <td>8</td>\n",
       "    </tr>\n",
       "  </tbody>\n",
       "</table>\n",
       "</div>"
      ],
      "text/plain": [
       "   MedIncome  MedianAge  Population  Households  roomsperHH  bedroomHH  \\\n",
       "0     1.6071       27.0       587.0       231.0    4.190476   1.038961   \n",
       "\n",
       "   maxp_65  \n",
       "0        8  "
      ]
     },
     "execution_count": 34,
     "metadata": {},
     "output_type": "execute_result"
    }
   ],
   "source": [
    "X_test.head(1)"
   ]
  },
  {
   "cell_type": "code",
   "execution_count": 35,
   "id": "9b04d0e2-ee44-4f0e-811d-c2b7627e7a6c",
   "metadata": {
    "tags": []
   },
   "outputs": [
    {
     "name": "stdout",
     "output_type": "stream",
     "text": [
      "Training Features Shape: (1640, 7)\n",
      "Training Labels Shape: (1640,)\n",
      "Testing Features Shape: (411, 7)\n",
      "Testing Labels Shape: (411,)\n"
     ]
    }
   ],
   "source": [
    "print('Training Features Shape:', X_train.shape)\n",
    "print('Training Labels Shape:', y_train.shape)\n",
    "print('Testing Features Shape:', X_test.shape)\n",
    "print('Testing Labels Shape:', y_test.shape)"
   ]
  },
  {
   "cell_type": "code",
   "execution_count": 36,
   "id": "963c7430-905f-4569-9d3f-d2f1ab8e2039",
   "metadata": {},
   "outputs": [
    {
     "data": {
      "text/plain": [
       "(1640,)"
      ]
     },
     "execution_count": 36,
     "metadata": {},
     "output_type": "execute_result"
    }
   ],
   "source": [
    "region_labels.shape"
   ]
  },
  {
   "cell_type": "code",
   "execution_count": 37,
   "id": "d33d0415-17ad-46e2-a327-1ed029dc2ea4",
   "metadata": {},
   "outputs": [
    {
     "data": {
      "text/plain": [
       "(411,)"
      ]
     },
     "execution_count": 37,
     "metadata": {},
     "output_type": "execute_result"
    }
   ],
   "source": [
    "region_labels_test.shape"
   ]
  },
  {
   "cell_type": "code",
   "execution_count": 38,
   "id": "f4a1c145-ea5c-456f-995b-87c18e403923",
   "metadata": {},
   "outputs": [
    {
     "data": {
      "text/plain": [
       "array([ 0,  1,  2,  3,  4,  5,  6,  7,  8,  9, 10, 11, 12, 13, 14, 15, 16,\n",
       "       17, 18, 19, 20, 21, 22], dtype=int64)"
      ]
     },
     "execution_count": 38,
     "metadata": {},
     "output_type": "execute_result"
    }
   ],
   "source": [
    "np.unique(region_labels)"
   ]
  },
  {
   "cell_type": "code",
   "execution_count": 39,
   "id": "0248eb17-821b-45a0-a325-01fe34ab2a6e",
   "metadata": {},
   "outputs": [
    {
     "data": {
      "text/plain": [
       "array([ 0,  1,  2,  3,  4,  5,  6,  7,  8,  9, 10, 11, 12, 13, 14, 15, 16,\n",
       "       17, 18, 19, 20, 21, 22], dtype=int64)"
      ]
     },
     "execution_count": 39,
     "metadata": {},
     "output_type": "execute_result"
    }
   ],
   "source": [
    "np.unique(region_labels_test)"
   ]
  },
  {
   "cell_type": "code",
   "execution_count": 40,
   "id": "4d0755be-1142-41ce-a3c7-164bb7202f8d",
   "metadata": {},
   "outputs": [],
   "source": [
    "param_dist = {\n",
    "    'n_estimators': np.arange(50, 210, 10),\n",
    "    'max_features': ['sqrt', 'log2'],\n",
    "    'max_depth': [None] + list(np.arange(10, 110, 10)),\n",
    "    'min_samples_split': np.arange(2, 12),\n",
    "    'min_samples_leaf': np.arange(1, 5),\n",
    "    'bootstrap': [True, False]\n",
    "}"
   ]
  },
  {
   "cell_type": "code",
   "execution_count": 41,
   "id": "19e1c8f5-1a70-470d-93e2-4545d2e9094e",
   "metadata": {},
   "outputs": [],
   "source": [
    "rf = RandomForestRegressor(random_state=42)"
   ]
  },
  {
   "cell_type": "markdown",
   "id": "0bde5fd8-09f6-44e3-a474-29e3256e0e18",
   "metadata": {
    "tags": []
   },
   "source": [
    "## RegRF_CN with Region Number as additional independent variable + HPO"
   ]
  },
  {
   "cell_type": "code",
   "execution_count": 42,
   "id": "0ff215e5-f1fa-46e3-801f-b05010c5c88a",
   "metadata": {},
   "outputs": [
    {
     "name": "stdout",
     "output_type": "stream",
     "text": [
      "Best Hyperparameters: {'n_estimators': 150, 'min_samples_split': 4, 'min_samples_leaf': 2, 'max_features': 'sqrt', 'max_depth': 60, 'bootstrap': False}\n",
      "CPU times: total: 1.39 s\n",
      "Wall time: 6.41 s\n"
     ]
    }
   ],
   "source": [
    "%%time\n",
    "random_search = RandomizedSearchCV(rf, param_distributions=param_dist, scoring='neg_mean_squared_error', cv=5, n_iter=20, n_jobs=-1, random_state=42)\n",
    "random_search.fit(X_train, y_train)\n",
    "print(\"Best Hyperparameters:\", random_search.best_params_)"
   ]
  },
  {
   "cell_type": "code",
   "execution_count": 43,
   "id": "95088652-64da-4d74-8eee-c82e51fde30e",
   "metadata": {},
   "outputs": [
    {
     "name": "stdout",
     "output_type": "stream",
     "text": [
      "CPU times: total: 1.08 s\n",
      "Wall time: 1.07 s\n"
     ]
    }
   ],
   "source": [
    "%%time\n",
    "hpo_rf = RandomForestRegressor(**random_search.best_params_, random_state=42)\n",
    "hpo_rf.fit(X_train, y_train)\n",
    "predictions = hpo_rf.predict(X_test)"
   ]
  },
  {
   "cell_type": "code",
   "execution_count": 44,
   "id": "18be0ba6-77a2-4f26-9ca9-dfee3ebbb352",
   "metadata": {},
   "outputs": [
    {
     "name": "stdout",
     "output_type": "stream",
     "text": [
      "Mean Absolute Error: 48289.47 units.\n",
      "R2:  0.689\n",
      "MSE:  4149212152.346475\n",
      "RMSE:  64414.3784596768\n"
     ]
    }
   ],
   "source": [
    "# Calculate Evaluation Metrics\n",
    "errors = abs(predictions - y_test)\n",
    "print('Mean Absolute Error:', round(np.mean(errors), 2), 'units.')\n",
    "r2 = round(r2_score(y_test, predictions), 3)\n",
    "print(\"R2: \", r2)\n",
    "mse = mean_squared_error(y_test, predictions)\n",
    "print(\"MSE: \", mse)\n",
    "print(\"RMSE: \", math.sqrt(mse))"
   ]
  },
  {
   "cell_type": "markdown",
   "id": "3969a294-25ec-4542-8acc-6387bfd2e425",
   "metadata": {
    "tags": []
   },
   "source": [
    "## LISA"
   ]
  },
  {
   "cell_type": "code",
   "execution_count": 45,
   "id": "163442ab-a85d-405e-b62b-57f7c79c2cf1",
   "metadata": {},
   "outputs": [
    {
     "name": "stdout",
     "output_type": "stream",
     "text": [
      "(411, 11)\n"
     ]
    },
    {
     "data": {
      "text/html": [
       "<div>\n",
       "<style scoped>\n",
       "    .dataframe tbody tr th:only-of-type {\n",
       "        vertical-align: middle;\n",
       "    }\n",
       "\n",
       "    .dataframe tbody tr th {\n",
       "        vertical-align: top;\n",
       "    }\n",
       "\n",
       "    .dataframe thead th {\n",
       "        text-align: right;\n",
       "    }\n",
       "</style>\n",
       "<table border=\"1\" class=\"dataframe\">\n",
       "  <thead>\n",
       "    <tr style=\"text-align: right;\">\n",
       "      <th></th>\n",
       "      <th>MedHouseVa</th>\n",
       "      <th>MedIncome</th>\n",
       "      <th>MedianAge</th>\n",
       "      <th>Population</th>\n",
       "      <th>Households</th>\n",
       "      <th>roomsperHH</th>\n",
       "      <th>bedroomHH</th>\n",
       "      <th>geometry</th>\n",
       "      <th>predictions</th>\n",
       "      <th>y_test</th>\n",
       "      <th>test_res</th>\n",
       "    </tr>\n",
       "  </thead>\n",
       "  <tbody>\n",
       "    <tr>\n",
       "      <th>0</th>\n",
       "      <td>55000.0</td>\n",
       "      <td>1.6071</td>\n",
       "      <td>27.0</td>\n",
       "      <td>587.0</td>\n",
       "      <td>231.0</td>\n",
       "      <td>4.190476</td>\n",
       "      <td>1.038961</td>\n",
       "      <td>POINT (-6223.359 -116314.796)</td>\n",
       "      <td>76872.111111</td>\n",
       "      <td>55000.0</td>\n",
       "      <td>-21872.111111</td>\n",
       "    </tr>\n",
       "  </tbody>\n",
       "</table>\n",
       "</div>"
      ],
      "text/plain": [
       "   MedHouseVa  MedIncome  MedianAge  Population  Households  roomsperHH  \\\n",
       "0     55000.0     1.6071       27.0       587.0       231.0    4.190476   \n",
       "\n",
       "   bedroomHH                       geometry   predictions   y_test  \\\n",
       "0   1.038961  POINT (-6223.359 -116314.796)  76872.111111  55000.0   \n",
       "\n",
       "       test_res  \n",
       "0 -21872.111111  "
      ]
     },
     "execution_count": 45,
     "metadata": {},
     "output_type": "execute_result"
    }
   ],
   "source": [
    "test_p['predictions'] = predictions.flatten()\n",
    "test_p['y_test'] = y_test\n",
    "test_p['test_res'] = test_p['y_test'] - test_p['predictions']\n",
    "\n",
    "print(test_p.shape)\n",
    "test_p.head(1)"
   ]
  },
  {
   "cell_type": "code",
   "execution_count": 46,
   "id": "d4d84a35-97b7-414e-bf26-4d1bf56498b4",
   "metadata": {
    "tags": []
   },
   "outputs": [
    {
     "data": {
      "text/plain": [
       "<Axes: >"
      ]
     },
     "execution_count": 46,
     "metadata": {},
     "output_type": "execute_result"
    },
    {
     "data": {
      "image/png": "[encoded data removed]",
      "text/plain": [
       "<Figure size 800x800 with 1 Axes>"
      ]
     },
     "metadata": {},
     "output_type": "display_data"
    }
   ],
   "source": [
    "# plot residuals\n",
    "fig, ax = plt.subplots(figsize=(8,8), subplot_kw={'aspect':'equal'})\n",
    "test_p.plot(column='test_res', scheme='Quantiles', k=5, cmap='bwr', legend=True, ax=ax)"
   ]
  },
  {
   "cell_type": "code",
   "execution_count": 47,
   "id": "9dac12c0-3e20-49ac-ae1b-0aff6237963c",
   "metadata": {},
   "outputs": [],
   "source": [
    "# new spatial weights for moran's I\n",
    "wi = ps.weights.distance.KNN.from_dataframe(test_p, k=6) \n",
    "wi.transform = 'r'\n",
    "y = test_p['test_res']"
   ]
  },
  {
   "cell_type": "code",
   "execution_count": 48,
   "id": "b4f0aff9-76eb-4f9a-a475-b5acf586a513",
   "metadata": {},
   "outputs": [
    {
     "name": "stdout",
     "output_type": "stream",
     "text": [
      "Moran I is 0.22 and p-value is 0.000999000999000999 expected value is -0.0024390243902439024\n"
     ]
    }
   ],
   "source": [
    "mi = esda.Moran(y, wi, permutations = 1000, two_tailed=False)\n",
    "print( 'Moran I is', round(mi.I, 3), 'and p-value is', mi.p_sim, 'expected value is', mi.EI)"
   ]
  },
  {
   "cell_type": "code",
   "execution_count": 49,
   "id": "ae5c3db5-8261-41af-9f17-d82d65e8c223",
   "metadata": {},
   "outputs": [],
   "source": [
    "# Calculate LISA\n",
    "lisa = esda.moran.Moran_Local(y, wi)"
   ]
  },
  {
   "cell_type": "code",
   "execution_count": 50,
   "id": "531fd28a-eb78-4db1-9748-30cfd8a16552",
   "metadata": {},
   "outputs": [
    {
     "name": "stdout",
     "output_type": "stream",
     "text": [
      "group\n",
      "not-significant    311\n",
      "coldspot            40\n",
      "hotspot             38\n",
      "cold outlier        12\n",
      "hot outlier         10\n",
      "Name: count, dtype: int64\n"
     ]
    },
    {
     "name": "stderr",
     "output_type": "stream",
     "text": [
      "C:\\Users\\lukasb97\\AppData\\Local\\Temp\\ipykernel_5492\\894966211.py:5: FutureWarning: Setting an item of incompatible dtype is deprecated and will raise in a future error of pandas. Value 'not-significant' has dtype incompatible with int32, please explicitly cast to a compatible dtype first.\n",
      "  test_p.loc[test_p['pvalue'] > 0.05, 'group'] = 'not-significant'\n"
     ]
    },
    {
     "data": {
      "text/html": [
       "<div>\n",
       "<style scoped>\n",
       "    .dataframe tbody tr th:only-of-type {\n",
       "        vertical-align: middle;\n",
       "    }\n",
       "\n",
       "    .dataframe tbody tr th {\n",
       "        vertical-align: top;\n",
       "    }\n",
       "\n",
       "    .dataframe thead th {\n",
       "        text-align: right;\n",
       "    }\n",
       "</style>\n",
       "<table border=\"1\" class=\"dataframe\">\n",
       "  <thead>\n",
       "    <tr style=\"text-align: right;\">\n",
       "      <th></th>\n",
       "      <th>MedHouseVa</th>\n",
       "      <th>MedIncome</th>\n",
       "      <th>MedianAge</th>\n",
       "      <th>Population</th>\n",
       "      <th>Households</th>\n",
       "      <th>roomsperHH</th>\n",
       "      <th>bedroomHH</th>\n",
       "      <th>geometry</th>\n",
       "      <th>predictions</th>\n",
       "      <th>y_test</th>\n",
       "      <th>test_res</th>\n",
       "      <th>Is</th>\n",
       "      <th>pvalue</th>\n",
       "      <th>group</th>\n",
       "    </tr>\n",
       "  </thead>\n",
       "  <tbody>\n",
       "    <tr>\n",
       "      <th>0</th>\n",
       "      <td>55000.0</td>\n",
       "      <td>1.6071</td>\n",
       "      <td>27.0</td>\n",
       "      <td>587.0</td>\n",
       "      <td>231.0</td>\n",
       "      <td>4.190476</td>\n",
       "      <td>1.038961</td>\n",
       "      <td>POINT (-6223.359 -116314.796)</td>\n",
       "      <td>76872.111111</td>\n",
       "      <td>55000.0</td>\n",
       "      <td>-21872.111111</td>\n",
       "      <td>0.201786</td>\n",
       "      <td>0.022</td>\n",
       "      <td>coldspot</td>\n",
       "    </tr>\n",
       "    <tr>\n",
       "      <th>1</th>\n",
       "      <td>104200.0</td>\n",
       "      <td>2.1250</td>\n",
       "      <td>16.0</td>\n",
       "      <td>1077.0</td>\n",
       "      <td>520.0</td>\n",
       "      <td>5.046154</td>\n",
       "      <td>1.013462</td>\n",
       "      <td>POINT (60108.280 -192791.957)</td>\n",
       "      <td>98456.444444</td>\n",
       "      <td>104200.0</td>\n",
       "      <td>5743.555556</td>\n",
       "      <td>-0.035256</td>\n",
       "      <td>0.306</td>\n",
       "      <td>not-significant</td>\n",
       "    </tr>\n",
       "  </tbody>\n",
       "</table>\n",
       "</div>"
      ],
      "text/plain": [
       "   MedHouseVa  MedIncome  MedianAge  Population  Households  roomsperHH  \\\n",
       "0     55000.0     1.6071       27.0       587.0       231.0    4.190476   \n",
       "1    104200.0     2.1250       16.0      1077.0       520.0    5.046154   \n",
       "\n",
       "   bedroomHH                       geometry   predictions    y_test  \\\n",
       "0   1.038961  POINT (-6223.359 -116314.796)  76872.111111   55000.0   \n",
       "1   1.013462  POINT (60108.280 -192791.957)  98456.444444  104200.0   \n",
       "\n",
       "       test_res        Is  pvalue            group  \n",
       "0 -21872.111111  0.201786   0.022         coldspot  \n",
       "1   5743.555556 -0.035256   0.306  not-significant  "
      ]
     },
     "execution_count": 50,
     "metadata": {},
     "output_type": "execute_result"
    }
   ],
   "source": [
    "# Calculate spatial groupings and significance\n",
    "test_p['Is'] = lisa.Is\n",
    "test_p['pvalue'] = lisa.p_sim \n",
    "test_p['group'] = lisa.q \n",
    "test_p.loc[test_p['pvalue'] > 0.05, 'group'] = 'not-significant'\n",
    "test_p.loc[test_p['group'] == 1, 'group'] = 'hotspot'\n",
    "test_p.loc[test_p['group'] == 2, 'group'] = 'cold outlier'\n",
    "test_p.loc[test_p['group'] == 3, 'group'] = 'coldspot'\n",
    "test_p.loc[test_p['group'] == 4, 'group'] = 'hot outlier'\n",
    "print(test_p ['group'].value_counts())\n",
    "test_p.head(2)"
   ]
  },
  {
   "cell_type": "code",
   "execution_count": 51,
   "id": "3c1250ac-23d6-42f2-93b8-632410764763",
   "metadata": {
    "tags": []
   },
   "outputs": [
    {
     "data": {
      "image/png": "[encoded data removed]",
      "text/plain": [
       "<Figure size 1000x1000 with 1 Axes>"
      ]
     },
     "metadata": {},
     "output_type": "display_data"
    }
   ],
   "source": [
    "# Vizualize spatial groupings and significance\n",
    "state_boundary = gpd.read_file(r\"Y:/Lukas/thesis/bus1123/bufferedcliprahmen.shp\")\n",
    "fig, ax = plt.subplots(figsize=(10,10), subplot_kw={'aspect':'equal'})    \n",
    "\n",
    "group_colors = {'not-significant': 'grey',\n",
    "               'hotspot': 'red',\n",
    "               'coldspot': 'blue',\n",
    "               'cold outlier': 'lightblue',\n",
    "               'hot outlier': 'pink'}\n",
    "#group_colors\n",
    "state_boundary.plot(ax=ax, edgecolor='black', linewidth=0.7, facecolor='none')\n",
    "\n",
    "for ctype, data in test_p.groupby('group'):\n",
    "    if ctype == 'not-significant':\n",
    "        color = group_colors[ctype]\n",
    "        data.plot(color=color, ax=ax, label=ctype, markersize=15, alpha=0.8)\n",
    "\n",
    "for ctype, data in test_p.groupby('group'):\n",
    "    if ctype != 'not-significant':\n",
    "        color = group_colors[ctype]\n",
    "        data.plot(color=color, ax=ax, label=ctype, markersize=15, alpha=0.8)\n",
    "\n",
    "ax.legend(bbox_to_anchor=(0.8, 0.8), prop={'size': 11})\n",
    "#ax.set(title='Spatial Groupings')\n",
    "\n",
    "ax.set_axis_off()\n",
    "save_path = r'Y:\\Lukas\\thesis\\regionalization plots/lisa_maxp_S3_small.png'\n",
    "#plt.savefig(save_path)\n",
    "plt.show()"
   ]
  },
  {
   "cell_type": "markdown",
   "id": "63773908-379d-41d7-bc3d-8f4c1bb8da57",
   "metadata": {
    "jp-MarkdownHeadingCollapsed": true,
    "tags": []
   },
   "source": [
    "## RegRF_SEP - Separate RF for each Region - was omitted in the process (might not run, depening on regionalization)"
   ]
  },
  {
   "cell_type": "code",
   "execution_count": null,
   "id": "0a08de2f-ecde-4816-a5b3-eb8fea9a4888",
   "metadata": {},
   "outputs": [],
   "source": [
    "'''\n",
    "predictions_list = []\n",
    "y_test_list = []\n",
    "residuals_list = []\n",
    "all_r2 = []\n",
    "all_mae = []\n",
    "all_mse = []\n",
    "all_rmse = []\n",
    "\n",
    "for i in range(len(np.unique(region_labels))):\n",
    "    X_region_train = X_train[region_labels == i]\n",
    "    y_region_train = y_train[region_labels == i]\n",
    "    X_region_test = X_test[region_labels_test == i]\n",
    "    y_region_test = y_test[region_labels_test == i]\n",
    "\n",
    "    rf.fit(X_region_train, y_region_train)\n",
    "\n",
    "    y_pred = rf.predict(X_region_test)\n",
    "\n",
    "    # Save results so they can all be analysed together\n",
    "    predictions_list.extend(y_pred)\n",
    "    y_test_list.extend(y_region_test)\n",
    "    residuals_list.extend(y_region_test - y_pred)\n",
    "\n",
    "    # Same for performance\n",
    "    r2 = r2_score(y_region_test, y_pred)\n",
    "    mae = mean_absolute_error(y_region_test, y_pred)\n",
    "    mse = mean_squared_error(y_region_test, y_pred)\n",
    "    rmse = np.sqrt(mse)\n",
    "\n",
    "    all_r2.append(r2)\n",
    "    all_mae.append(mae)\n",
    "    all_mse.append(mse)\n",
    "    all_rmse.append(rmse)\n",
    "\n",
    "    print(f'Region {i} - R2: {r2:.3f}, MAE: {mae:.3f}, MSE: {mse:.3f}, RMSE: {rmse:.3f}')\n",
    "\n",
    "# Calculate average errors\n",
    "avg_r2 = np.mean(all_r2)\n",
    "avg_mae = np.mean(all_mae)\n",
    "avg_mse = np.mean(all_mse)\n",
    "avg_rmse = np.mean(all_rmse)\n",
    "\n",
    "print(f'\\nAverage R2: {avg_r2:.3f}, Average MAE: {avg_mae:.3f}, Average MSE: {avg_mse:.3f}, Average RMSE: {avg_rmse:.3f}')\n",
    "'''"
   ]
  },
  {
   "cell_type": "markdown",
   "id": "d735a9c8-6cb5-4112-937f-75732e2eae34",
   "metadata": {
    "jp-MarkdownHeadingCollapsed": true,
    "tags": []
   },
   "source": [
    "### LISA"
   ]
  },
  {
   "cell_type": "code",
   "execution_count": null,
   "id": "64c07887-40e4-462a-a6c1-ea6d51f46666",
   "metadata": {},
   "outputs": [],
   "source": [
    "test_p['predictions'] = predictions_list\n",
    "test_p['y_test'] = y_test_list\n",
    "test_p['test_res'] = residuals_list\n",
    "\n",
    "print(test_p.shape)\n",
    "test_p.head(1)"
   ]
  },
  {
   "cell_type": "code",
   "execution_count": null,
   "id": "988247c2-6249-457e-8cab-0509a459457b",
   "metadata": {},
   "outputs": [],
   "source": [
    "# plot residuals\n",
    "fig, ax = plt.subplots(figsize=(8,8), subplot_kw={'aspect':'equal'})\n",
    "test_p.plot(column='test_res', scheme='Quantiles', k=5, cmap='bwr', legend=True, ax=ax)"
   ]
  },
  {
   "cell_type": "code",
   "execution_count": null,
   "id": "35579cf0-e740-4d1a-8680-6f08ae166743",
   "metadata": {},
   "outputs": [],
   "source": [
    "# new spatial weights for moran's I\n",
    "wi = ps.weights.distance.KNN.from_dataframe(test_p, k=5) \n",
    "wi.transform = 'r'\n",
    "y = test_p['test_res']"
   ]
  },
  {
   "cell_type": "code",
   "execution_count": null,
   "id": "c36a920d-b57a-49bf-b8c0-c1f1c89382d3",
   "metadata": {},
   "outputs": [],
   "source": [
    "mi = esda.Moran(y, wi, permutations = 1000, two_tailed=False)\n",
    "print( 'Moran I is', round(mi.I, 3), 'and p-value is', mi.p_sim, 'expected value is', mi.EI)"
   ]
  },
  {
   "cell_type": "code",
   "execution_count": null,
   "id": "0a5d0e9d-9e8e-4c25-8b8f-6d8b1b6da95c",
   "metadata": {},
   "outputs": [],
   "source": [
    "# Calculate LISA\n",
    "lisa = esda.moran.Moran_Local(y, wi)"
   ]
  },
  {
   "cell_type": "code",
   "execution_count": null,
   "id": "b209a616-7de8-4a16-a45e-9ce141c938ad",
   "metadata": {},
   "outputs": [],
   "source": [
    "# Calculate spatial groupings and significance\n",
    "test_p['Is'] = lisa.Is\n",
    "test_p['pvalue'] = lisa.p_sim \n",
    "test_p['group'] = lisa.q \n",
    "test_p.loc[test_p['pvalue'] > 0.05, 'group'] = 'not-significant'\n",
    "test_p.loc[test_p['group'] == 1, 'group'] = 'hotspot'\n",
    "test_p.loc[test_p['group'] == 2, 'group'] = 'cold outlier'\n",
    "test_p.loc[test_p['group'] == 3, 'group'] = 'coldspot'\n",
    "test_p.loc[test_p['group'] == 4, 'group'] = 'hot outlier'\n",
    "print(test_p ['group'].value_counts())\n",
    "test_p.head(2)"
   ]
  },
  {
   "cell_type": "code",
   "execution_count": null,
   "id": "b6f76d04-8469-4707-adbb-9eedb51fe01f",
   "metadata": {},
   "outputs": [],
   "source": [
    "# Vizualize spatial groupings and significance\n",
    "fig, ax = plt.subplots(figsize=(8,8), subplot_kw={'aspect':'equal'})    \n",
    "\n",
    "group_colors = {'not-significant': 'grey',\n",
    "               'hotspot': 'red',\n",
    "               'coldspot': 'blue',\n",
    "               'cold outlier': 'lightblue',\n",
    "               'hot outlier': 'pink'}\n",
    "group_colors\n",
    "\n",
    "for ctype, data in test_p.groupby('group'):\n",
    "    \n",
    "    color = group_colors[ctype]\n",
    "    \n",
    "    data.plot(color=color, ax=ax, label=ctype)\n",
    "\n",
    "ax.legend(bbox_to_anchor=(1.0, .5), prop={'size': 12})\n",
    "ax.set(title='Spatial Groupings')\n",
    "\n",
    "ax.set_axis_off()\n",
    "plt.show()"
   ]
  },
  {
   "cell_type": "markdown",
   "id": "6b514dc6-0fa0-4bb0-862f-1fbab994333c",
   "metadata": {
    "tags": []
   },
   "source": [
    "## RegRF_W - Multitple Global RFs with more weight on the specific regions (+ HPO)"
   ]
  },
  {
   "cell_type": "code",
   "execution_count": 52,
   "id": "8cc9f71a-8c2c-410f-a9e5-217211bc6cc5",
   "metadata": {},
   "outputs": [
    {
     "name": "stdout",
     "output_type": "stream",
     "text": [
      "Region 0 - R2: 0.679, MAE: 48325.793, MSE: 4277334732.045, RMSE: 65401.336\n",
      "Region 1 - R2: 0.659, MAE: 49844.631, MSE: 4547568060.982, RMSE: 67435.659\n",
      "Region 2 - R2: 0.679, MAE: 47786.516, MSE: 4274710873.433, RMSE: 65381.273\n",
      "Region 3 - R2: 0.654, MAE: 49843.820, MSE: 4607420678.849, RMSE: 67877.984\n",
      "Region 4 - R2: 0.677, MAE: 48812.781, MSE: 4302241632.580, RMSE: 65591.475\n",
      "Region 5 - R2: 0.682, MAE: 48284.770, MSE: 4235546769.356, RMSE: 65081.078\n",
      "Region 6 - R2: 0.689, MAE: 48019.639, MSE: 4140307327.650, RMSE: 64345.220\n",
      "Region 7 - R2: 0.691, MAE: 47113.832, MSE: 4119619961.548, RMSE: 64184.266\n",
      "Region 8 - R2: 0.695, MAE: 46286.742, MSE: 4070515105.452, RMSE: 63800.589\n",
      "Region 9 - R2: 0.668, MAE: 48523.504, MSE: 4423895521.101, RMSE: 66512.371\n",
      "Region 10 - R2: 0.711, MAE: 44780.893, MSE: 3848576003.438, RMSE: 62036.892\n",
      "Region 11 - R2: 0.672, MAE: 48706.277, MSE: 4374907572.288, RMSE: 66143.084\n",
      "Region 12 - R2: 0.661, MAE: 49087.320, MSE: 4516656066.479, RMSE: 67206.072\n",
      "Region 13 - R2: 0.672, MAE: 48485.327, MSE: 4372025934.682, RMSE: 66121.297\n",
      "Region 14 - R2: 0.655, MAE: 49878.945, MSE: 4593437930.129, RMSE: 67774.906\n",
      "Region 15 - R2: 0.723, MAE: 44476.015, MSE: 3692712109.615, RMSE: 60767.690\n",
      "Region 16 - R2: 0.714, MAE: 45288.516, MSE: 3808083840.409, RMSE: 61709.674\n",
      "Region 17 - R2: 0.725, MAE: 44198.231, MSE: 3668886138.264, RMSE: 60571.331\n",
      "Region 18 - R2: 0.679, MAE: 48127.306, MSE: 4273388852.390, RMSE: 65371.162\n",
      "Region 19 - R2: 0.670, MAE: 49020.340, MSE: 4402494534.000, RMSE: 66351.296\n",
      "Region 20 - R2: 0.689, MAE: 46557.930, MSE: 4151126845.960, RMSE: 64429.239\n",
      "Region 21 - R2: 0.665, MAE: 49230.178, MSE: 4463096376.749, RMSE: 66806.410\n",
      "Region 22 - R2: 0.668, MAE: 48952.639, MSE: 4420061876.634, RMSE: 66483.546\n",
      "\n",
      "Average R2: 0.682, Average MAE: 47810.085, Average MSE: 4242809336.697, Average RMSE: 65103.646\n",
      "CPU times: total: 1min 38s\n",
      "Wall time: 6.12 s\n"
     ]
    }
   ],
   "source": [
    "%%time\n",
    "test_p['residuals'] = 0\n",
    "all_residuals = []\n",
    "all_r2 = []\n",
    "all_mae = []\n",
    "all_mse = []\n",
    "all_rmse = []\n",
    "\n",
    "# Loop over regions\n",
    "for i in range(len(np.unique(region_labels))):\n",
    "    rf_randhpo = RandomForestRegressor(random_state=42, n_jobs=-1)\n",
    "    rf_randhpo.fit(X_train, y_train, sample_weight=np.where(region_labels == i, weights[i], 1))\n",
    "    \n",
    "    y_pred = rf_randhpo.predict(X_test)\n",
    "\n",
    "    residuals = y_test - y_pred\n",
    "\n",
    "    all_residuals.append(residuals)\n",
    "\n",
    "    r2 = r2_score(y_test, y_pred)\n",
    "    mae = mean_absolute_error(y_test, y_pred)\n",
    "    mse = mean_squared_error(y_test, y_pred)\n",
    "    rmse = np.sqrt(mse)\n",
    "\n",
    "    all_r2.append(r2)\n",
    "    all_mae.append(mae)\n",
    "    all_mse.append(mse)\n",
    "    all_rmse.append(rmse)\n",
    "\n",
    "    print(f'Region {i} - R2: {r2:.3f}, MAE: {mae:.3f}, MSE: {mse:.3f}, RMSE: {rmse:.3f}')\n",
    "\n",
    "all_residuals_array = np.array(all_residuals)\n",
    "\n",
    "average_residuals = np.mean(all_residuals_array, axis=0)\n",
    "\n",
    "test_p['residuals'] = average_residuals\n",
    "\n",
    "avg_r2 = np.mean(all_r2)\n",
    "avg_mae = np.mean(all_mae)\n",
    "avg_mse = np.mean(all_mse)\n",
    "avg_rmse = np.mean(all_rmse)\n",
    "\n",
    "print(f'\\nAverage R2: {avg_r2:.3f}, Average MAE: {avg_mae:.3f}, Average MSE: {avg_mse:.3f}, Average RMSE: {avg_rmse:.3f}')"
   ]
  },
  {
   "cell_type": "markdown",
   "id": "c996d62d-8016-4283-91e4-bec5f7bf391b",
   "metadata": {
    "tags": []
   },
   "source": [
    "### LISA"
   ]
  },
  {
   "cell_type": "code",
   "execution_count": 53,
   "id": "36e1db2d-b955-4697-9724-2f33922a59d8",
   "metadata": {},
   "outputs": [
    {
     "data": {
      "text/html": [
       "<div>\n",
       "<style scoped>\n",
       "    .dataframe tbody tr th:only-of-type {\n",
       "        vertical-align: middle;\n",
       "    }\n",
       "\n",
       "    .dataframe tbody tr th {\n",
       "        vertical-align: top;\n",
       "    }\n",
       "\n",
       "    .dataframe thead th {\n",
       "        text-align: right;\n",
       "    }\n",
       "</style>\n",
       "<table border=\"1\" class=\"dataframe\">\n",
       "  <thead>\n",
       "    <tr style=\"text-align: right;\">\n",
       "      <th></th>\n",
       "      <th>MedHouseVa</th>\n",
       "      <th>MedIncome</th>\n",
       "      <th>MedianAge</th>\n",
       "      <th>Population</th>\n",
       "      <th>Households</th>\n",
       "      <th>roomsperHH</th>\n",
       "      <th>bedroomHH</th>\n",
       "      <th>geometry</th>\n",
       "      <th>predictions</th>\n",
       "      <th>y_test</th>\n",
       "      <th>test_res</th>\n",
       "      <th>Is</th>\n",
       "      <th>pvalue</th>\n",
       "      <th>group</th>\n",
       "      <th>residuals</th>\n",
       "    </tr>\n",
       "  </thead>\n",
       "  <tbody>\n",
       "    <tr>\n",
       "      <th>0</th>\n",
       "      <td>55000.0</td>\n",
       "      <td>1.6071</td>\n",
       "      <td>27.0</td>\n",
       "      <td>587.0</td>\n",
       "      <td>231.0</td>\n",
       "      <td>4.190476</td>\n",
       "      <td>1.038961</td>\n",
       "      <td>POINT (-6223.359 -116314.796)</td>\n",
       "      <td>76872.111111</td>\n",
       "      <td>55000.0</td>\n",
       "      <td>-21872.111111</td>\n",
       "      <td>0.201786</td>\n",
       "      <td>0.022</td>\n",
       "      <td>coldspot</td>\n",
       "      <td>-24245.782609</td>\n",
       "    </tr>\n",
       "  </tbody>\n",
       "</table>\n",
       "</div>"
      ],
      "text/plain": [
       "   MedHouseVa  MedIncome  MedianAge  Population  Households  roomsperHH  \\\n",
       "0     55000.0     1.6071       27.0       587.0       231.0    4.190476   \n",
       "\n",
       "   bedroomHH                       geometry   predictions   y_test  \\\n",
       "0   1.038961  POINT (-6223.359 -116314.796)  76872.111111  55000.0   \n",
       "\n",
       "       test_res        Is  pvalue     group     residuals  \n",
       "0 -21872.111111  0.201786   0.022  coldspot -24245.782609  "
      ]
     },
     "execution_count": 53,
     "metadata": {},
     "output_type": "execute_result"
    }
   ],
   "source": [
    "test_p.head(1)"
   ]
  },
  {
   "cell_type": "code",
   "execution_count": 54,
   "id": "8cc137af-8d02-43c1-8ed2-a3b284591f2c",
   "metadata": {},
   "outputs": [
    {
     "name": "stdout",
     "output_type": "stream",
     "text": [
      "(411, 15)\n"
     ]
    },
    {
     "data": {
      "text/html": [
       "<div>\n",
       "<style scoped>\n",
       "    .dataframe tbody tr th:only-of-type {\n",
       "        vertical-align: middle;\n",
       "    }\n",
       "\n",
       "    .dataframe tbody tr th {\n",
       "        vertical-align: top;\n",
       "    }\n",
       "\n",
       "    .dataframe thead th {\n",
       "        text-align: right;\n",
       "    }\n",
       "</style>\n",
       "<table border=\"1\" class=\"dataframe\">\n",
       "  <thead>\n",
       "    <tr style=\"text-align: right;\">\n",
       "      <th></th>\n",
       "      <th>MedHouseVa</th>\n",
       "      <th>MedIncome</th>\n",
       "      <th>MedianAge</th>\n",
       "      <th>Population</th>\n",
       "      <th>Households</th>\n",
       "      <th>roomsperHH</th>\n",
       "      <th>bedroomHH</th>\n",
       "      <th>geometry</th>\n",
       "      <th>predictions</th>\n",
       "      <th>y_test</th>\n",
       "      <th>test_res</th>\n",
       "      <th>Is</th>\n",
       "      <th>pvalue</th>\n",
       "      <th>group</th>\n",
       "      <th>residuals</th>\n",
       "    </tr>\n",
       "  </thead>\n",
       "  <tbody>\n",
       "    <tr>\n",
       "      <th>0</th>\n",
       "      <td>55000.0</td>\n",
       "      <td>1.6071</td>\n",
       "      <td>27.0</td>\n",
       "      <td>587.0</td>\n",
       "      <td>231.0</td>\n",
       "      <td>4.190476</td>\n",
       "      <td>1.038961</td>\n",
       "      <td>POINT (-6223.359 -116314.796)</td>\n",
       "      <td>76872.111111</td>\n",
       "      <td>55000.0</td>\n",
       "      <td>-24245.782609</td>\n",
       "      <td>0.201786</td>\n",
       "      <td>0.022</td>\n",
       "      <td>coldspot</td>\n",
       "      <td>-24245.782609</td>\n",
       "    </tr>\n",
       "  </tbody>\n",
       "</table>\n",
       "</div>"
      ],
      "text/plain": [
       "   MedHouseVa  MedIncome  MedianAge  Population  Households  roomsperHH  \\\n",
       "0     55000.0     1.6071       27.0       587.0       231.0    4.190476   \n",
       "\n",
       "   bedroomHH                       geometry   predictions   y_test  \\\n",
       "0   1.038961  POINT (-6223.359 -116314.796)  76872.111111  55000.0   \n",
       "\n",
       "       test_res        Is  pvalue     group     residuals  \n",
       "0 -24245.782609  0.201786   0.022  coldspot -24245.782609  "
      ]
     },
     "execution_count": 54,
     "metadata": {},
     "output_type": "execute_result"
    }
   ],
   "source": [
    "test_p['test_res'] = test_p['residuals']\n",
    "\n",
    "print(test_p.shape)\n",
    "test_p.head(1)"
   ]
  },
  {
   "cell_type": "code",
   "execution_count": 55,
   "id": "48677f91-2fd9-4541-a56d-d7de6826bc28",
   "metadata": {},
   "outputs": [
    {
     "data": {
      "text/plain": [
       "<Axes: >"
      ]
     },
     "execution_count": 55,
     "metadata": {},
     "output_type": "execute_result"
    },
    {
     "data": {
      "image/png": "[encoded data removed]",
      "text/plain": [
       "<Figure size 800x800 with 1 Axes>"
      ]
     },
     "metadata": {},
     "output_type": "display_data"
    }
   ],
   "source": [
    "# Global Spatial Autocorrelation\n",
    "fig, ax = plt.subplots(figsize=(8,8), subplot_kw={'aspect':'equal'})\n",
    "test_p.plot(column='test_res', scheme='Quantiles', k=5, cmap='bwr', legend=True, ax=ax)"
   ]
  },
  {
   "cell_type": "code",
   "execution_count": 56,
   "id": "82679cc3-fd44-48e9-83a7-c075d2d82c29",
   "metadata": {},
   "outputs": [
    {
     "name": "stderr",
     "output_type": "stream",
     "text": [
      "C:\\Users\\lukasb97\\.conda\\envs\\test\\Lib\\site-packages\\libpysal\\weights\\weights.py:224: UserWarning: The weights matrix is not fully connected: \n",
      " There are 3 disconnected components.\n",
      "  warnings.warn(message)\n"
     ]
    }
   ],
   "source": [
    "# new spatial weights for moran's I\n",
    "wi = ps.weights.distance.KNN.from_dataframe(test_p, k=5) \n",
    "wi.transform = 'r'\n",
    "y = test_p['test_res']"
   ]
  },
  {
   "cell_type": "code",
   "execution_count": 57,
   "id": "ade126e3-2927-42e0-9512-63fd2b5e2603",
   "metadata": {},
   "outputs": [
    {
     "name": "stdout",
     "output_type": "stream",
     "text": [
      "Moran I is 0.185 and p-value is 0.000999000999000999 expected value is -0.0024390243902439024\n"
     ]
    }
   ],
   "source": [
    "mi = esda.Moran(y, wi, permutations = 1000, two_tailed=False)\n",
    "print( 'Moran I is', round(mi.I, 3), 'and p-value is', mi.p_sim, 'expected value is', mi.EI)"
   ]
  },
  {
   "cell_type": "code",
   "execution_count": 58,
   "id": "2edeb01f-6b1c-41b9-821b-d66013bd5a7f",
   "metadata": {},
   "outputs": [],
   "source": [
    "# Calculate LISA\n",
    "lisa = esda.moran.Moran_Local(y, wi)"
   ]
  },
  {
   "cell_type": "code",
   "execution_count": 59,
   "id": "073402cd-da48-49d3-864f-f43cfc7618dc",
   "metadata": {},
   "outputs": [
    {
     "name": "stdout",
     "output_type": "stream",
     "text": [
      "group\n",
      "not-significant    344\n",
      "hotspot             32\n",
      "coldspot            17\n",
      "hot outlier         11\n",
      "cold outlier         7\n",
      "Name: count, dtype: int64\n"
     ]
    },
    {
     "name": "stderr",
     "output_type": "stream",
     "text": [
      "C:\\Users\\lukasb97\\AppData\\Local\\Temp\\ipykernel_5492\\894966211.py:5: FutureWarning: Setting an item of incompatible dtype is deprecated and will raise in a future error of pandas. Value 'not-significant' has dtype incompatible with int32, please explicitly cast to a compatible dtype first.\n",
      "  test_p.loc[test_p['pvalue'] > 0.05, 'group'] = 'not-significant'\n"
     ]
    },
    {
     "data": {
      "text/html": [
       "<div>\n",
       "<style scoped>\n",
       "    .dataframe tbody tr th:only-of-type {\n",
       "        vertical-align: middle;\n",
       "    }\n",
       "\n",
       "    .dataframe tbody tr th {\n",
       "        vertical-align: top;\n",
       "    }\n",
       "\n",
       "    .dataframe thead th {\n",
       "        text-align: right;\n",
       "    }\n",
       "</style>\n",
       "<table border=\"1\" class=\"dataframe\">\n",
       "  <thead>\n",
       "    <tr style=\"text-align: right;\">\n",
       "      <th></th>\n",
       "      <th>MedHouseVa</th>\n",
       "      <th>MedIncome</th>\n",
       "      <th>MedianAge</th>\n",
       "      <th>Population</th>\n",
       "      <th>Households</th>\n",
       "      <th>roomsperHH</th>\n",
       "      <th>bedroomHH</th>\n",
       "      <th>geometry</th>\n",
       "      <th>predictions</th>\n",
       "      <th>y_test</th>\n",
       "      <th>test_res</th>\n",
       "      <th>Is</th>\n",
       "      <th>pvalue</th>\n",
       "      <th>group</th>\n",
       "      <th>residuals</th>\n",
       "    </tr>\n",
       "  </thead>\n",
       "  <tbody>\n",
       "    <tr>\n",
       "      <th>0</th>\n",
       "      <td>55000.0</td>\n",
       "      <td>1.6071</td>\n",
       "      <td>27.0</td>\n",
       "      <td>587.0</td>\n",
       "      <td>231.0</td>\n",
       "      <td>4.190476</td>\n",
       "      <td>1.038961</td>\n",
       "      <td>POINT (-6223.359 -116314.796)</td>\n",
       "      <td>76872.111111</td>\n",
       "      <td>55000.0</td>\n",
       "      <td>-24245.782609</td>\n",
       "      <td>0.207033</td>\n",
       "      <td>0.046</td>\n",
       "      <td>coldspot</td>\n",
       "      <td>-24245.782609</td>\n",
       "    </tr>\n",
       "    <tr>\n",
       "      <th>1</th>\n",
       "      <td>104200.0</td>\n",
       "      <td>2.1250</td>\n",
       "      <td>16.0</td>\n",
       "      <td>1077.0</td>\n",
       "      <td>520.0</td>\n",
       "      <td>5.046154</td>\n",
       "      <td>1.013462</td>\n",
       "      <td>POINT (60108.280 -192791.957)</td>\n",
       "      <td>98456.444444</td>\n",
       "      <td>104200.0</td>\n",
       "      <td>9504.521739</td>\n",
       "      <td>-0.065082</td>\n",
       "      <td>0.294</td>\n",
       "      <td>not-significant</td>\n",
       "      <td>9504.521739</td>\n",
       "    </tr>\n",
       "  </tbody>\n",
       "</table>\n",
       "</div>"
      ],
      "text/plain": [
       "   MedHouseVa  MedIncome  MedianAge  Population  Households  roomsperHH  \\\n",
       "0     55000.0     1.6071       27.0       587.0       231.0    4.190476   \n",
       "1    104200.0     2.1250       16.0      1077.0       520.0    5.046154   \n",
       "\n",
       "   bedroomHH                       geometry   predictions    y_test  \\\n",
       "0   1.038961  POINT (-6223.359 -116314.796)  76872.111111   55000.0   \n",
       "1   1.013462  POINT (60108.280 -192791.957)  98456.444444  104200.0   \n",
       "\n",
       "       test_res        Is  pvalue            group     residuals  \n",
       "0 -24245.782609  0.207033   0.046         coldspot -24245.782609  \n",
       "1   9504.521739 -0.065082   0.294  not-significant   9504.521739  "
      ]
     },
     "execution_count": 59,
     "metadata": {},
     "output_type": "execute_result"
    }
   ],
   "source": [
    "# Calculate spatial groupings and significance\n",
    "test_p['Is'] = lisa.Is\n",
    "test_p['pvalue'] = lisa.p_sim \n",
    "test_p['group'] = lisa.q \n",
    "test_p.loc[test_p['pvalue'] > 0.05, 'group'] = 'not-significant'\n",
    "test_p.loc[test_p['group'] == 1, 'group'] = 'hotspot'\n",
    "test_p.loc[test_p['group'] == 2, 'group'] = 'cold outlier'\n",
    "test_p.loc[test_p['group'] == 3, 'group'] = 'coldspot'\n",
    "test_p.loc[test_p['group'] == 4, 'group'] = 'hot outlier'\n",
    "print(test_p ['group'].value_counts())\n",
    "test_p.head(2)"
   ]
  },
  {
   "cell_type": "code",
   "execution_count": 60,
   "id": "2c73a579-f7af-443b-8593-241c3b26e8a6",
   "metadata": {},
   "outputs": [
    {
     "data": {
      "image/png": "[encoded data removed]",
      "text/plain": [
       "<Figure size 800x800 with 1 Axes>"
      ]
     },
     "metadata": {},
     "output_type": "display_data"
    }
   ],
   "source": [
    "# Vizualize spatial groupings and significance\n",
    "fig, ax = plt.subplots(figsize=(8,8), subplot_kw={'aspect':'equal'})    \n",
    "\n",
    "group_colors = {'not-significant': 'grey',\n",
    "               'hotspot': 'red',\n",
    "               'coldspot': 'blue',\n",
    "               'cold outlier': 'lightblue',\n",
    "               'hot outlier': 'pink'}\n",
    "group_colors\n",
    "\n",
    "for ctype, data in test_p.groupby('group'):\n",
    "    \n",
    "    color = group_colors[ctype]\n",
    "    \n",
    "    data.plot(color=color, ax=ax, label=ctype)\n",
    "\n",
    "ax.legend(bbox_to_anchor=(1.0, .5), prop={'size': 12})\n",
    "ax.set(title='Spatial Groupings')\n",
    "\n",
    "ax.set_axis_off()\n",
    "plt.show()"
   ]
  },
  {
   "cell_type": "markdown",
   "id": "1532615f-da05-4f64-b79e-0b512339abfd",
   "metadata": {
    "tags": []
   },
   "source": [
    "## Runtime"
   ]
  },
  {
   "cell_type": "code",
   "execution_count": 61,
   "id": "fd8422bc-2489-4142-b4b2-28a81072865d",
   "metadata": {},
   "outputs": [
    {
     "name": "stdout",
     "output_type": "stream",
     "text": [
      "Time for whole script: 324.49 seconds\n"
     ]
    }
   ],
   "source": [
    "print(\"Time for whole script: {:.2f} seconds\".format(time() - start_time))"
   ]
  }
 ],
 "metadata": {
  "kernelspec": {
   "display_name": "Python 3 (ipykernel)",
   "language": "python",
   "name": "python3"
  },
  "language_info": {
   "codemirror_mode": {
    "name": "ipython",
    "version": 3
   },
   "file_extension": ".py",
   "mimetype": "text/x-python",
   "name": "python",
   "nbconvert_exporter": "python",
   "pygments_lexer": "ipython3",
   "version": "3.11.6"
  }
 },
 "nbformat": 4,
 "nbformat_minor": 5
}
