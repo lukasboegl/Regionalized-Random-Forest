{
 "cells": [
  {
   "cell_type": "code",
   "execution_count": 142,
   "id": "0f6f7f7d-384d-4afd-bcd2-5c2f2cd24a65",
   "metadata": {},
   "outputs": [],
   "source": [
    "import matplotlib.pyplot as plt\n",
    "import seaborn as sns\n",
    "import pandas as pd\n",
    "import numpy as np\n",
    "from scipy.stats import friedmanchisquare\n",
    "plt.ioff()\n",
    "import re"
   ]
  },
  {
   "cell_type": "code",
   "execution_count": 148,
   "id": "fff23ad0-5e01-4457-a71f-2620e1834011",
   "metadata": {},
   "outputs": [],
   "source": [
    "pd.set_option(\"display.max_columns\", None)\n",
    "pd.set_option('display.precision', 6)  # Change 6 to the number of decimal places you need\n",
    "pd.options.display.float_format = '{:.6f}'.format"
   ]
  },
  {
   "cell_type": "code",
   "execution_count": 163,
   "id": "b9d714f6-edcf-4772-ab94-dcceca95febc",
   "metadata": {},
   "outputs": [],
   "source": [
    "#res = pd.read_csv(r'/Users/lukasboegl/Documents/Uni/SA/CrimeHU_all/podor_2016.csv', sep=';', encoding='latin-1')\n",
    "\n",
    "# big experiment table\n",
    "res = pd.read_csv(r'/Users/lukasboegl/Downloads/ThesisResultscsvtosave.csv')\n",
    "\n",
    "\n",
    "# regRF variations + benchmarks in one table, just select what is currently being compared down below\n",
    "#res = pd.read_csv(r'/Users/lukasboegl/Documents/thesis/thesisresults.csv', na_values='-')\n",
    "#res = pd.read_csv(r'/Users/lukasboegl/Documents/thesis/nexttryresults.csv', na_values='-')\n",
    "\n",
    "\n",
    "#Thesisgoatresulttable"
   ]
  },
  {
   "cell_type": "code",
   "execution_count": 164,
   "id": "b443a4b0-5c82-4d64-b4c6-cfd479e3d761",
   "metadata": {},
   "outputs": [],
   "source": [
    "#res.iloc[:, 1:5] = res.iloc[:, 1:5] * 0.001"
   ]
  },
  {
   "cell_type": "code",
   "execution_count": 165,
   "id": "797878e5-a0a9-4c07-ba0a-62055ae3d159",
   "metadata": {},
   "outputs": [],
   "source": [
    "#res['ID'] = range(1, len(res) + 1)\n",
    "#res.columns = res.columns.str.replace('CN_W', 'CNW')"
   ]
  },
  {
   "cell_type": "code",
   "execution_count": 166,
   "id": "e84baf72-fa77-4010-9442-7b1f5e3451b4",
   "metadata": {},
   "outputs": [
    {
     "name": "stdout",
     "output_type": "stream",
     "text": [
      "(69, 13)\n"
     ]
    },
    {
     "data": {
      "text/html": [
       "<div>\n",
       "<style scoped>\n",
       "    .dataframe tbody tr th:only-of-type {\n",
       "        vertical-align: middle;\n",
       "    }\n",
       "\n",
       "    .dataframe tbody tr th {\n",
       "        vertical-align: top;\n",
       "    }\n",
       "\n",
       "    .dataframe thead th {\n",
       "        text-align: right;\n",
       "    }\n",
       "</style>\n",
       "<table border=\"1\" class=\"dataframe\">\n",
       "  <thead>\n",
       "    <tr style=\"text-align: right;\">\n",
       "      <th></th>\n",
       "      <th>nCLu</th>\n",
       "      <th>S1_ward_CN</th>\n",
       "      <th>S1_ward_W</th>\n",
       "      <th>S1_azp_CN</th>\n",
       "      <th>S1_azp_W</th>\n",
       "      <th>S2_ward_CN</th>\n",
       "      <th>S2_ward_W</th>\n",
       "      <th>S2_azp_CN</th>\n",
       "      <th>S2_azp_W</th>\n",
       "      <th>S3_ward_CN</th>\n",
       "      <th>S3_ward_W</th>\n",
       "      <th>S3_azp_CN</th>\n",
       "      <th>S3_azp_W</th>\n",
       "    </tr>\n",
       "  </thead>\n",
       "  <tbody>\n",
       "    <tr>\n",
       "      <th>0</th>\n",
       "      <td>2</td>\n",
       "      <td>688.000000</td>\n",
       "      <td>689.000000</td>\n",
       "      <td>712.000000</td>\n",
       "      <td>665.000000</td>\n",
       "      <td>0.734000</td>\n",
       "      <td>0.707000</td>\n",
       "      <td>0.731000</td>\n",
       "      <td>0.709000</td>\n",
       "      <td>0.654000</td>\n",
       "      <td>0.649000</td>\n",
       "      <td>0.644000</td>\n",
       "      <td>0.666000</td>\n",
       "    </tr>\n",
       "    <tr>\n",
       "      <th>1</th>\n",
       "      <td>3</td>\n",
       "      <td>689.000000</td>\n",
       "      <td>690.000000</td>\n",
       "      <td>688.000000</td>\n",
       "      <td>665.000000</td>\n",
       "      <td>0.760000</td>\n",
       "      <td>0.721000</td>\n",
       "      <td>0.718000</td>\n",
       "      <td>0.708000</td>\n",
       "      <td>0.674000</td>\n",
       "      <td>0.666000</td>\n",
       "      <td>0.672000</td>\n",
       "      <td>0.663000</td>\n",
       "    </tr>\n",
       "    <tr>\n",
       "      <th>2</th>\n",
       "      <td>4</td>\n",
       "      <td>690.000000</td>\n",
       "      <td>691.000000</td>\n",
       "      <td>715.000000</td>\n",
       "      <td>684.000000</td>\n",
       "      <td>0.754000</td>\n",
       "      <td>0.724000</td>\n",
       "      <td>0.697000</td>\n",
       "      <td>0.698000</td>\n",
       "      <td>0.694000</td>\n",
       "      <td>0.681000</td>\n",
       "      <td>0.673000</td>\n",
       "      <td>0.678000</td>\n",
       "    </tr>\n",
       "    <tr>\n",
       "      <th>3</th>\n",
       "      <td>5</td>\n",
       "      <td>691.000000</td>\n",
       "      <td>692.000000</td>\n",
       "      <td>698.000000</td>\n",
       "      <td>673.000000</td>\n",
       "      <td>0.751000</td>\n",
       "      <td>0.722000</td>\n",
       "      <td>0.696000</td>\n",
       "      <td>0.710000</td>\n",
       "      <td>0.710000</td>\n",
       "      <td>0.680000</td>\n",
       "      <td>0.690000</td>\n",
       "      <td>0.678000</td>\n",
       "    </tr>\n",
       "    <tr>\n",
       "      <th>4</th>\n",
       "      <td>6</td>\n",
       "      <td>692.000000</td>\n",
       "      <td>693.000000</td>\n",
       "      <td>705.000000</td>\n",
       "      <td>669.000000</td>\n",
       "      <td>0.735000</td>\n",
       "      <td>0.722000</td>\n",
       "      <td>0.704000</td>\n",
       "      <td>0.706000</td>\n",
       "      <td>0.713000</td>\n",
       "      <td>0.684000</td>\n",
       "      <td>0.627000</td>\n",
       "      <td>0.643000</td>\n",
       "    </tr>\n",
       "    <tr>\n",
       "      <th>5</th>\n",
       "      <td>7</td>\n",
       "      <td>693.000000</td>\n",
       "      <td>694.000000</td>\n",
       "      <td>689.000000</td>\n",
       "      <td>660.000000</td>\n",
       "      <td>0.727000</td>\n",
       "      <td>0.710000</td>\n",
       "      <td>0.717000</td>\n",
       "      <td>0.706000</td>\n",
       "      <td>0.735000</td>\n",
       "      <td>0.714000</td>\n",
       "      <td>0.710000</td>\n",
       "      <td>0.694000</td>\n",
       "    </tr>\n",
       "    <tr>\n",
       "      <th>6</th>\n",
       "      <td>8</td>\n",
       "      <td>694.000000</td>\n",
       "      <td>695.000000</td>\n",
       "      <td>721.000000</td>\n",
       "      <td>698.000000</td>\n",
       "      <td>0.751000</td>\n",
       "      <td>0.737000</td>\n",
       "      <td>0.704000</td>\n",
       "      <td>0.703000</td>\n",
       "      <td>0.725000</td>\n",
       "      <td>0.698000</td>\n",
       "      <td>0.682000</td>\n",
       "      <td>0.683000</td>\n",
       "    </tr>\n",
       "  </tbody>\n",
       "</table>\n",
       "</div>"
      ],
      "text/plain": [
       "   nCLu  S1_ward_CN  S1_ward_W  S1_azp_CN   S1_azp_W  S2_ward_CN  S2_ward_W  \\\n",
       "0     2  688.000000 689.000000 712.000000 665.000000    0.734000   0.707000   \n",
       "1     3  689.000000 690.000000 688.000000 665.000000    0.760000   0.721000   \n",
       "2     4  690.000000 691.000000 715.000000 684.000000    0.754000   0.724000   \n",
       "3     5  691.000000 692.000000 698.000000 673.000000    0.751000   0.722000   \n",
       "4     6  692.000000 693.000000 705.000000 669.000000    0.735000   0.722000   \n",
       "5     7  693.000000 694.000000 689.000000 660.000000    0.727000   0.710000   \n",
       "6     8  694.000000 695.000000 721.000000 698.000000    0.751000   0.737000   \n",
       "\n",
       "   S2_azp_CN  S2_azp_W  S3_ward_CN  S3_ward_W  S3_azp_CN  S3_azp_W  \n",
       "0   0.731000  0.709000    0.654000   0.649000   0.644000  0.666000  \n",
       "1   0.718000  0.708000    0.674000   0.666000   0.672000  0.663000  \n",
       "2   0.697000  0.698000    0.694000   0.681000   0.673000  0.678000  \n",
       "3   0.696000  0.710000    0.710000   0.680000   0.690000  0.678000  \n",
       "4   0.704000  0.706000    0.713000   0.684000   0.627000  0.643000  \n",
       "5   0.717000  0.706000    0.735000   0.714000   0.710000  0.694000  \n",
       "6   0.704000  0.703000    0.725000   0.698000   0.682000  0.683000  "
      ]
     },
     "execution_count": 166,
     "metadata": {},
     "output_type": "execute_result"
    }
   ],
   "source": [
    "print(res.shape)\n",
    "res.head(7)"
   ]
  },
  {
   "cell_type": "code",
   "execution_count": 167,
   "id": "e7eb64ef-7054-4349-90de-ac8ddd38950b",
   "metadata": {},
   "outputs": [
    {
     "name": "stdout",
     "output_type": "stream",
     "text": [
      "<class 'pandas.core.frame.DataFrame'>\n",
      "RangeIndex: 69 entries, 0 to 68\n",
      "Data columns (total 13 columns):\n",
      " #   Column      Non-Null Count  Dtype  \n",
      "---  ------      --------------  -----  \n",
      " 0   nCLu        69 non-null     int64  \n",
      " 1   S1_ward_CN  69 non-null     float64\n",
      " 2   S1_ward_W   69 non-null     float64\n",
      " 3   S1_azp_CN   69 non-null     float64\n",
      " 4   S1_azp_W    69 non-null     float64\n",
      " 5   S2_ward_CN  69 non-null     float64\n",
      " 6   S2_ward_W   69 non-null     float64\n",
      " 7   S2_azp_CN   69 non-null     float64\n",
      " 8   S2_azp_W    69 non-null     float64\n",
      " 9   S3_ward_CN  69 non-null     float64\n",
      " 10  S3_ward_W   69 non-null     float64\n",
      " 11  S3_azp_CN   69 non-null     float64\n",
      " 12  S3_azp_W    69 non-null     float64\n",
      "dtypes: float64(12), int64(1)\n",
      "memory usage: 7.1 KB\n"
     ]
    }
   ],
   "source": [
    "res.info()"
   ]
  },
  {
   "cell_type": "code",
   "execution_count": 154,
   "id": "63f3f256-46e3-4b6c-bf3b-77a8d58ef5a6",
   "metadata": {},
   "outputs": [],
   "source": [
    "def add_average_columns(df):\n",
    "    # Define prefixes and suffixes based on your dataset\n",
    "    methods = ['ward', 'azp', 'skater', 'kmeans', 'maxp', 'rf', 'gwr', 'gwrf']\n",
    "    types = ['CN', 'W']\n",
    "    sizes = ['big', 'small']\n",
    "\n",
    "    # Iterate through each combination of method, type, and size\n",
    "    for method in methods:\n",
    "        for type_ in types:\n",
    "            for size in sizes:\n",
    "                # Construct column names for each split and check if they exist in the DataFrame\n",
    "                cols = [f\"{method}_S{i}_{type_}_{size}\" for i in range(1, 4)]\n",
    "                if all(col in df.columns for col in cols):\n",
    "                    # Calculate the average and create a new column\n",
    "                    df[f\"{method}_AVG_{type_}_{size}\"] = df[cols].mean(axis=1)\n",
    "        \n",
    "        # Special case for benchmarks which do not have types like 'CN' or 'W'\n",
    "        if method in ['rf', 'gwr', 'gwrf']:\n",
    "            for size in sizes:\n",
    "                cols = [f\"{method}_S{i}_{size}\" for i in range(1, 4)]\n",
    "                if all(col in df.columns for col in cols):\n",
    "                    df[f\"{method}_AVG_{size}\"] = df[cols].mean(axis=1)"
   ]
  },
  {
   "cell_type": "code",
   "execution_count": 155,
   "id": "10f13db6-8776-40de-bcc1-2550e2aadce7",
   "metadata": {},
   "outputs": [],
   "source": [
    "# Apply the function\n",
    "add_average_columns(res)"
   ]
  },
  {
   "cell_type": "code",
   "execution_count": 158,
   "id": "3667f594-1da1-4dac-b6ce-c176ef0697e5",
   "metadata": {},
   "outputs": [],
   "source": [
    "columns_of_interest = ['S1_ward_CN', 'S1_ward_W', 'S1_azp_CN', 'S1_azp_W',\n",
    "                        'S2_ward_CN', 'S2_ward_W', 'S2_azp_CN', 'S2_azp_W',\n",
    "                        'S3_ward_CN', 'S3_ward_W', 'S3_azp_CN', 'S3_azp_W']"
   ]
  },
  {
   "cell_type": "code",
   "execution_count": 159,
   "id": "93ab9603-0038-4a05-88bc-10b45e3d0595",
   "metadata": {},
   "outputs": [],
   "source": [
    "columns_of_interest = ['ward_AVG_CN_small', 'azp_AVG_CN_small', 'skater_AVG_CN_small', 'kmeans_AVG_CN_small',\n",
    "                        'maxp_AVG_CN_small']"
   ]
  },
  {
   "cell_type": "code",
   "execution_count": 160,
   "id": "38ed38ef-6374-4cb7-b379-d2b0a52dfada",
   "metadata": {},
   "outputs": [],
   "source": [
    "# Reshape the DataFrame for Friedman's test (each split as a separate column)\n",
    "data_for_test = res[columns_of_interest].values.T\n",
    "\n",
    "# Apply Friedman's test\n",
    "statistic, p_value = friedmanchisquare(*data_for_test)"
   ]
  },
  {
   "cell_type": "code",
   "execution_count": 161,
   "id": "cb8ac83d-3dcd-48d3-b680-2bdae96dfcb4",
   "metadata": {},
   "outputs": [
    {
     "name": "stdout",
     "output_type": "stream",
     "text": [
      "Friedman Test Statistic: 6.244604316546751\n",
      "P-value: 0.18161061267370104\n"
     ]
    }
   ],
   "source": [
    "# Output the results\n",
    "print(f\"Friedman Test Statistic: {statistic}\")\n",
    "print(f\"P-value: {p_value}\")"
   ]
  },
  {
   "cell_type": "code",
   "execution_count": 162,
   "id": "e3d591d0-2970-4636-9830-78da952c41ed",
   "metadata": {},
   "outputs": [
    {
     "name": "stdout",
     "output_type": "stream",
     "text": [
      "There is no significant difference in R2 values across the splits.\n"
     ]
    }
   ],
   "source": [
    "# Check for statistical significance (using a common significance level, e.g., 0.05)\n",
    "if p_value < 0.05:\n",
    "    print(\"There is a significant difference in R2 values across the splits.\")\n",
    "else:\n",
    "    print(\"There is no significant difference in R2 values across the splits.\")"
   ]
  },
  {
   "cell_type": "code",
   "execution_count": 22,
   "id": "a6c82036-9bbc-4b8a-b533-6642d030fa97",
   "metadata": {},
   "outputs": [],
   "source": [
    "from scipy.stats import wilcoxon"
   ]
  },
  {
   "cell_type": "code",
   "execution_count": 24,
   "id": "524d7527-6377-49ab-8fe2-2d7912ac4a4d",
   "metadata": {},
   "outputs": [
    {
     "name": "stdout",
     "output_type": "stream",
     "text": [
      "Wilcoxon Test Statistic: 6240.0\n",
      "P-value: 2.560640553249073e-50\n",
      "There is a significant difference between 'ward' and 'azp' in terms of R2 values.\n"
     ]
    }
   ],
   "source": [
    "# Select the relevant columns for the test (all splits and modeling approaches for 'ward' and 'azp')\n",
    "columns_ward = ['S1_ward_CN', 'S1_ward_W', 'S2_ward_CN', 'S2_ward_W', 'S3_ward_CN', 'S3_ward_W']\n",
    "columns_azp = ['S1_azp_CN', 'S1_azp_W', 'S2_azp_CN', 'S2_azp_W', 'S3_azp_CN', 'S3_azp_W']\n",
    "\n",
    "# Aggregate R2 values for 'ward' and 'azp'\n",
    "r2_ward = res[columns_ward].values.flatten()\n",
    "r2_azp = res[columns_azp].values.flatten()\n",
    "\n",
    "# Perform the Wilcoxon signed-rank test\n",
    "statistic, p_value = wilcoxon(r2_ward, r2_azp)\n",
    "\n",
    "# Output the results\n",
    "print(f\"Wilcoxon Test Statistic: {statistic}\")\n",
    "print(f\"P-value: {p_value}\")\n",
    "\n",
    "# Check for statistical significance (using a common significance level, e.g., 0.05)\n",
    "if p_value < 0.05:\n",
    "    print(\"There is a significant difference between 'ward' and 'azp' in terms of R2 values.\")\n",
    "else:\n",
    "    print(\"There is no significant difference between 'ward' and 'azp' in terms of R2 values.\")\n"
   ]
  },
  {
   "cell_type": "code",
   "execution_count": 25,
   "id": "eb6cccb5-7685-49bc-b64e-1904540cb41f",
   "metadata": {},
   "outputs": [
    {
     "name": "stdout",
     "output_type": "stream",
     "text": [
      "Wilcoxon Test Statistic: 30782.0\n",
      "P-value: 1.1740058090278665e-05\n",
      "There is a significant difference between 'CN' and 'W' in terms of R2 values.\n"
     ]
    }
   ],
   "source": [
    "# Select the relevant columns for the test (all splits and clustering methods for 'CN' and 'W')\n",
    "columns_CN = ['S1_ward_CN', 'S1_azp_CN', 'S2_ward_CN', 'S2_azp_CN', 'S3_ward_CN', 'S3_azp_CN']\n",
    "columns_W = ['S1_ward_W', 'S1_azp_W', 'S2_ward_W', 'S2_azp_W', 'S3_ward_W', 'S3_azp_W']\n",
    "\n",
    "# Aggregate R2 values for 'CN' and 'W'\n",
    "r2_CN = res[columns_CN].values.flatten()\n",
    "r2_W = res[columns_W].values.flatten()\n",
    "\n",
    "# Perform the Wilcoxon signed-rank test\n",
    "statistic, p_value = wilcoxon(r2_CN, r2_W)\n",
    "\n",
    "# Output the results\n",
    "print(f\"Wilcoxon Test Statistic: {statistic}\")\n",
    "print(f\"P-value: {p_value}\")\n",
    "\n",
    "# Check for statistical significance (using a common significance level, e.g., 0.05)\n",
    "if p_value < 0.05:\n",
    "    print(\"There is a significant difference between 'CN' and 'W' in terms of R2 values.\")\n",
    "else:\n",
    "    print(\"There is no significant difference between 'CN' and 'W' in terms of R2 values.\")\n"
   ]
  },
  {
   "cell_type": "code",
   "execution_count": 26,
   "id": "a39b9451-51ed-4d02-b02e-4bf1e19400fe",
   "metadata": {},
   "outputs": [
    {
     "name": "stdout",
     "output_type": "stream",
     "text": [
      "Comparison between S1_ward_CN and S1_ward_W for 'ward':\n",
      "Wilcoxon Test Statistic: 1112.0\n",
      "P-value: 0.7090733506847811\n",
      "There is no significant difference between 'CN' and 'W' for 'ward' in terms of R2 values.\n",
      "\n",
      "Comparison between S2_ward_CN and S2_ward_W for 'ward':\n",
      "Wilcoxon Test Statistic: 1037.0\n",
      "P-value: 0.30787413449866186\n",
      "There is no significant difference between 'CN' and 'W' for 'ward' in terms of R2 values.\n",
      "\n",
      "Comparison between S3_ward_CN and S3_ward_W for 'ward':\n",
      "Wilcoxon Test Statistic: 374.5\n",
      "P-value: 1.771530046918112e-06\n",
      "There is a significant difference between 'CN' and 'W' for 'ward' in terms of R2 values.\n",
      "\n",
      "Comparison between S1_azp_CN and S1_azp_W for 'azp':\n",
      "Wilcoxon Test Statistic: 465.5\n",
      "P-value: 1.525366410673715e-05\n",
      "There is a significant difference between 'CN' and 'W' for 'azp' in terms of R2 values.\n",
      "\n",
      "Comparison between S2_azp_CN and S2_azp_W for 'azp':\n",
      "Wilcoxon Test Statistic: 1049.0\n",
      "P-value: 0.7179276459304907\n",
      "There is no significant difference between 'CN' and 'W' for 'azp' in terms of R2 values.\n",
      "\n",
      "Comparison between S3_azp_CN and S3_azp_W for 'azp':\n",
      "Wilcoxon Test Statistic: 1062.5\n",
      "P-value: 0.6322851134711904\n",
      "There is no significant difference between 'CN' and 'W' for 'azp' in terms of R2 values.\n",
      "\n"
     ]
    }
   ],
   "source": [
    "# Select the relevant columns for the test (ward clustering method)\n",
    "columns_ward_CN = ['S1_ward_CN', 'S2_ward_CN', 'S3_ward_CN']\n",
    "columns_ward_W = ['S1_ward_W', 'S2_ward_W', 'S3_ward_W']\n",
    "\n",
    "# Select the relevant columns for the test (azp clustering method)\n",
    "columns_azp_CN = ['S1_azp_CN', 'S2_azp_CN', 'S3_azp_CN']\n",
    "columns_azp_W = ['S1_azp_W', 'S2_azp_W', 'S3_azp_W']\n",
    "\n",
    "# Perform the Wilcoxon signed-rank test for 'ward'\n",
    "for col_CN, col_W in zip(columns_ward_CN, columns_ward_W):\n",
    "    statistic, p_value = wilcoxon(res[col_CN], res[col_W])\n",
    "    \n",
    "    print(f\"Comparison between {col_CN} and {col_W} for 'ward':\")\n",
    "    print(f\"Wilcoxon Test Statistic: {statistic}\")\n",
    "    print(f\"P-value: {p_value}\")\n",
    "\n",
    "    # Check for statistical significance (using a common significance level, e.g., 0.05)\n",
    "    if p_value < 0.05:\n",
    "        print(\"There is a significant difference between 'CN' and 'W' for 'ward' in terms of R2 values.\")\n",
    "    else:\n",
    "        print(\"There is no significant difference between 'CN' and 'W' for 'ward' in terms of R2 values.\")\n",
    "    print()\n",
    "\n",
    "# Perform the Wilcoxon signed-rank test for 'azp'\n",
    "for col_CN, col_W in zip(columns_azp_CN, columns_azp_W):\n",
    "    statistic, p_value = wilcoxon(res[col_CN], res[col_W])\n",
    "    \n",
    "    print(f\"Comparison between {col_CN} and {col_W} for 'azp':\")\n",
    "    print(f\"Wilcoxon Test Statistic: {statistic}\")\n",
    "    print(f\"P-value: {p_value}\")\n",
    "\n",
    "    # Check for statistical significance (using a common significance level, e.g., 0.05)\n",
    "    if p_value < 0.05:\n",
    "        print(\"There is a significant difference between 'CN' and 'W' for 'azp' in terms of R2 values.\")\n",
    "    else:\n",
    "        print(\"There is no significant difference between 'CN' and 'W' for 'azp' in terms of R2 values.\")\n",
    "    print()\n"
   ]
  },
  {
   "cell_type": "code",
   "execution_count": 27,
   "id": "a4e6075e-0d6b-4630-bb97-dfcbf299adf0",
   "metadata": {},
   "outputs": [
    {
     "name": "stdout",
     "output_type": "stream",
     "text": [
      "Comparison between S1_ward_CN and S1_azp_CN:\n",
      "Wilcoxon Test Statistic: 237.0\n",
      "P-value: 6.514566283189801e-09\n",
      "There is a significant difference between 'ward CN' and 'azp CN' in terms of R2 values.\n",
      "\n",
      "Comparison between S2_ward_CN and S2_azp_CN:\n",
      "Wilcoxon Test Statistic: 569.5\n",
      "P-value: 0.0002258759202299759\n",
      "There is a significant difference between 'ward CN' and 'azp CN' in terms of R2 values.\n",
      "\n",
      "Comparison between S3_ward_CN and S3_azp_CN:\n",
      "Wilcoxon Test Statistic: 2.0\n",
      "P-value: 5.681729070074537e-13\n",
      "There is a significant difference between 'ward CN' and 'azp CN' in terms of R2 values.\n",
      "\n",
      "Comparison between S1_ward_W and S1_azp_W:\n",
      "Wilcoxon Test Statistic: 71.0\n",
      "P-value: 1.6516550126325828e-11\n",
      "There is a significant difference between 'ward W' and 'azp W' in terms of R2 values.\n",
      "\n",
      "Comparison between S2_ward_W and S2_azp_W:\n",
      "Wilcoxon Test Statistic: 535.0\n",
      "P-value: 0.00016081965355679246\n",
      "There is a significant difference between 'ward W' and 'azp W' in terms of R2 values.\n",
      "\n",
      "Comparison between S3_ward_W and S3_azp_W:\n",
      "Wilcoxon Test Statistic: 17.0\n",
      "P-value: 1.6168396936436738e-12\n",
      "There is a significant difference between 'ward W' and 'azp W' in terms of R2 values.\n",
      "\n"
     ]
    }
   ],
   "source": [
    "# Select the relevant columns for the test (CN and W for 'ward' and 'azp')\n",
    "columns_ward_CN = ['S1_ward_CN', 'S2_ward_CN', 'S3_ward_CN']\n",
    "columns_azp_CN = ['S1_azp_CN', 'S2_azp_CN', 'S3_azp_CN']\n",
    "\n",
    "columns_ward_W = ['S1_ward_W', 'S2_ward_W', 'S3_ward_W']\n",
    "columns_azp_W = ['S1_azp_W', 'S2_azp_W', 'S3_azp_W']\n",
    "\n",
    "# Perform the Wilcoxon signed-rank test for 'ward CN' vs. 'azp CN'\n",
    "for col_ward_CN, col_azp_CN in zip(columns_ward_CN, columns_azp_CN):\n",
    "    statistic, p_value = wilcoxon(res[col_ward_CN], res[col_azp_CN])\n",
    "    \n",
    "    print(f\"Comparison between {col_ward_CN} and {col_azp_CN}:\")\n",
    "    print(f\"Wilcoxon Test Statistic: {statistic}\")\n",
    "    print(f\"P-value: {p_value}\")\n",
    "\n",
    "    # Check for statistical significance (using a common significance level, e.g., 0.05)\n",
    "    if p_value < 0.05:\n",
    "        print(f\"There is a significant difference between 'ward CN' and 'azp CN' in terms of R2 values.\")\n",
    "    else:\n",
    "        print(f\"There is no significant difference between 'ward CN' and 'azp CN' in terms of R2 values.\")\n",
    "    print()\n",
    "\n",
    "# Perform the Wilcoxon signed-rank test for 'ward W' vs. 'azp W'\n",
    "for col_ward_W, col_azp_W in zip(columns_ward_W, columns_azp_W):\n",
    "    statistic, p_value = wilcoxon(res[col_ward_W], res[col_azp_W])\n",
    "    \n",
    "    print(f\"Comparison between {col_ward_W} and {col_azp_W}:\")\n",
    "    print(f\"Wilcoxon Test Statistic: {statistic}\")\n",
    "    print(f\"P-value: {p_value}\")\n",
    "\n",
    "    # Check for statistical significance (using a common significance level, e.g., 0.05)\n",
    "    if p_value < 0.05:\n",
    "        print(f\"There is a significant difference between 'ward W' and 'azp W' in terms of R2 values.\")\n",
    "    else:\n",
    "        print(f\"There is no significant difference between 'ward W' and 'azp W' in terms of R2 values.\")\n",
    "    print()"
   ]
  },
  {
   "cell_type": "code",
   "execution_count": 28,
   "id": "e876b55e-87b0-47eb-8934-e91b462d3241",
   "metadata": {},
   "outputs": [
    {
     "name": "stdout",
     "output_type": "stream",
     "text": [
      "Comparison between 'ward CN' and 'ward W' across all train-test splits:\n",
      "Wilcoxon Test Statistic: 7910.5\n",
      "P-value: 0.0025685746605548132\n",
      "There is a significant difference between 'ward CN' and 'ward W' in terms of R2 values.\n",
      "\n",
      "Comparison between 'azp CN' and 'azp W' across all train-test splits:\n",
      "Wilcoxon Test Statistic: 7431.5\n",
      "P-value: 0.0009839551027149087\n",
      "There is a significant difference between 'azp CN' and 'azp W' in terms of R2 values.\n",
      "\n"
     ]
    }
   ],
   "source": [
    "# Select the relevant columns for the test\n",
    "columns_ward_CN = ['S1_ward_CN', 'S2_ward_CN', 'S3_ward_CN']\n",
    "columns_ward_W = ['S1_ward_W', 'S2_ward_W', 'S3_ward_W']\n",
    "\n",
    "columns_azp_CN = ['S1_azp_CN', 'S2_azp_CN', 'S3_azp_CN']\n",
    "columns_azp_W = ['S1_azp_W', 'S2_azp_W', 'S3_azp_W']\n",
    "\n",
    "# Aggregate R2 values for 'ward CN', 'ward W', 'azp CN', and 'azp W'\n",
    "r2_ward_CN = res[columns_ward_CN].values.flatten()\n",
    "r2_ward_W = res[columns_ward_W].values.flatten()\n",
    "\n",
    "r2_azp_CN = res[columns_azp_CN].values.flatten()\n",
    "r2_azp_W = res[columns_azp_W].values.flatten()\n",
    "\n",
    "# Perform the Wilcoxon signed-rank test for 'ward CN' vs. 'ward W'\n",
    "statistic, p_value = wilcoxon(r2_ward_CN, r2_ward_W)\n",
    "print(\"Comparison between 'ward CN' and 'ward W' across all train-test splits:\")\n",
    "print(f\"Wilcoxon Test Statistic: {statistic}\")\n",
    "print(f\"P-value: {p_value}\")\n",
    "if p_value < 0.05:\n",
    "    print(\"There is a significant difference between 'ward CN' and 'ward W' in terms of R2 values.\")\n",
    "else:\n",
    "    print(\"There is no significant difference between 'ward CN' and 'ward W' in terms of R2 values.\")\n",
    "print()\n",
    "\n",
    "# Perform the Wilcoxon signed-rank test for 'azp CN' vs. 'azp W'\n",
    "statistic, p_value = wilcoxon(r2_azp_CN, r2_azp_W)\n",
    "print(\"Comparison between 'azp CN' and 'azp W' across all train-test splits:\")\n",
    "print(f\"Wilcoxon Test Statistic: {statistic}\")\n",
    "print(f\"P-value: {p_value}\")\n",
    "if p_value < 0.05:\n",
    "    print(\"There is a significant difference between 'azp CN' and 'azp W' in terms of R2 values.\")\n",
    "else:\n",
    "    print(\"There is no significant difference between 'azp CN' and 'azp W' in terms of R2 values.\")\n",
    "print()\n"
   ]
  },
  {
   "cell_type": "code",
   "execution_count": 29,
   "id": "cce3c62e-256e-4348-89dd-71986b1c3d39",
   "metadata": {},
   "outputs": [
    {
     "name": "stdout",
     "output_type": "stream",
     "text": [
      "Comparison between 'ward CN' and 'azp CN' across all train-test splits:\n",
      "Wilcoxon Test Statistic: 1853.5\n",
      "P-value: 8.543761880805292e-25\n",
      "There is a significant difference between 'ward CN' and 'azp CN' in terms of R2 values.\n",
      "\n",
      "Comparison between 'ward W' and 'azp W' across all train-test splits:\n",
      "Wilcoxon Test Statistic: 1264.0\n",
      "P-value: 2.079377125846219e-27\n",
      "There is a significant difference between 'ward W' and 'azp W' in terms of R2 values.\n",
      "\n"
     ]
    }
   ],
   "source": [
    "# Select the relevant columns for the test\n",
    "columns_ward_CN = ['S1_ward_CN', 'S2_ward_CN', 'S3_ward_CN']\n",
    "columns_azp_CN = ['S1_azp_CN', 'S2_azp_CN', 'S3_azp_CN']\n",
    "\n",
    "columns_ward_W = ['S1_ward_W', 'S2_ward_W', 'S3_ward_W']\n",
    "columns_azp_W = ['S1_azp_W', 'S2_azp_W', 'S3_azp_W']\n",
    "\n",
    "# Aggregate R2 values for 'ward CN', 'azp CN', 'ward W', and 'azp W'\n",
    "r2_ward_CN = res[columns_ward_CN].values.flatten()\n",
    "r2_azp_CN = res[columns_azp_CN].values.flatten()\n",
    "\n",
    "r2_ward_W = res[columns_ward_W].values.flatten()\n",
    "r2_azp_W = res[columns_azp_W].values.flatten()\n",
    "\n",
    "# Perform the Wilcoxon signed-rank test for 'ward CN' vs. 'azp CN'\n",
    "statistic, p_value = wilcoxon(r2_ward_CN, r2_azp_CN)\n",
    "print(\"Comparison between 'ward CN' and 'azp CN' across all train-test splits:\")\n",
    "print(f\"Wilcoxon Test Statistic: {statistic}\")\n",
    "print(f\"P-value: {p_value}\")\n",
    "if p_value < 0.05:\n",
    "    print(\"There is a significant difference between 'ward CN' and 'azp CN' in terms of R2 values.\")\n",
    "else:\n",
    "    print(\"There is no significant difference between 'ward CN' and 'azp CN' in terms of R2 values.\")\n",
    "print()\n",
    "\n",
    "# Perform the Wilcoxon signed-rank test for 'ward W' vs. 'azp W'\n",
    "statistic, p_value = wilcoxon(r2_ward_W, r2_azp_W)\n",
    "print(\"Comparison between 'ward W' and 'azp W' across all train-test splits:\")\n",
    "print(f\"Wilcoxon Test Statistic: {statistic}\")\n",
    "print(f\"P-value: {p_value}\")\n",
    "if p_value < 0.05:\n",
    "    print(\"There is a significant difference between 'ward W' and 'azp W' in terms of R2 values.\")\n",
    "else:\n",
    "    print(\"There is no significant difference between 'ward W' and 'azp W' in terms of R2 values.\")\n",
    "print()\n"
   ]
  },
  {
   "cell_type": "code",
   "execution_count": 34,
   "id": "13864f49-0048-456e-9b59-61a07fde21b8",
   "metadata": {},
   "outputs": [],
   "source": [
    "from scipy.stats import kruskal"
   ]
  },
  {
   "cell_type": "code",
   "execution_count": 40,
   "id": "50743523-b41a-4f3e-94f5-a44652174e64",
   "metadata": {},
   "outputs": [
    {
     "name": "stdout",
     "output_type": "stream",
     "text": [
      "        Column StandardDeviation\n",
      "0   S1_ward_CN          0.018421\n",
      "1    S1_ward_W          0.016986\n",
      "2    S1_azp_CN          0.022222\n",
      "3     S1_azp_W          0.022844\n",
      "4   S2_ward_CN          0.012242\n",
      "5    S2_ward_W          0.013498\n",
      "6    S2_azp_CN          0.016959\n",
      "7     S2_azp_W          0.012473\n",
      "8   S3_ward_CN          0.016085\n",
      "9    S3_ward_W          0.016601\n",
      "10   S3_azp_CN          0.019025\n",
      "11    S3_azp_W          0.014332\n"
     ]
    },
    {
     "name": "stderr",
     "output_type": "stream",
     "text": [
      "/var/folders/k9/8gr5x3n144dfk2rq4yppwf740000gn/T/ipykernel_1937/2376749584.py:15: FutureWarning: The frame.append method is deprecated and will be removed from pandas in a future version. Use pandas.concat instead.\n",
      "  std_dev_df = std_dev_df.append({'Column': column, 'StandardDeviation': std_dev}, ignore_index=True)\n",
      "/var/folders/k9/8gr5x3n144dfk2rq4yppwf740000gn/T/ipykernel_1937/2376749584.py:15: FutureWarning: The frame.append method is deprecated and will be removed from pandas in a future version. Use pandas.concat instead.\n",
      "  std_dev_df = std_dev_df.append({'Column': column, 'StandardDeviation': std_dev}, ignore_index=True)\n",
      "/var/folders/k9/8gr5x3n144dfk2rq4yppwf740000gn/T/ipykernel_1937/2376749584.py:15: FutureWarning: The frame.append method is deprecated and will be removed from pandas in a future version. Use pandas.concat instead.\n",
      "  std_dev_df = std_dev_df.append({'Column': column, 'StandardDeviation': std_dev}, ignore_index=True)\n",
      "/var/folders/k9/8gr5x3n144dfk2rq4yppwf740000gn/T/ipykernel_1937/2376749584.py:15: FutureWarning: The frame.append method is deprecated and will be removed from pandas in a future version. Use pandas.concat instead.\n",
      "  std_dev_df = std_dev_df.append({'Column': column, 'StandardDeviation': std_dev}, ignore_index=True)\n",
      "/var/folders/k9/8gr5x3n144dfk2rq4yppwf740000gn/T/ipykernel_1937/2376749584.py:15: FutureWarning: The frame.append method is deprecated and will be removed from pandas in a future version. Use pandas.concat instead.\n",
      "  std_dev_df = std_dev_df.append({'Column': column, 'StandardDeviation': std_dev}, ignore_index=True)\n",
      "/var/folders/k9/8gr5x3n144dfk2rq4yppwf740000gn/T/ipykernel_1937/2376749584.py:15: FutureWarning: The frame.append method is deprecated and will be removed from pandas in a future version. Use pandas.concat instead.\n",
      "  std_dev_df = std_dev_df.append({'Column': column, 'StandardDeviation': std_dev}, ignore_index=True)\n",
      "/var/folders/k9/8gr5x3n144dfk2rq4yppwf740000gn/T/ipykernel_1937/2376749584.py:15: FutureWarning: The frame.append method is deprecated and will be removed from pandas in a future version. Use pandas.concat instead.\n",
      "  std_dev_df = std_dev_df.append({'Column': column, 'StandardDeviation': std_dev}, ignore_index=True)\n",
      "/var/folders/k9/8gr5x3n144dfk2rq4yppwf740000gn/T/ipykernel_1937/2376749584.py:15: FutureWarning: The frame.append method is deprecated and will be removed from pandas in a future version. Use pandas.concat instead.\n",
      "  std_dev_df = std_dev_df.append({'Column': column, 'StandardDeviation': std_dev}, ignore_index=True)\n",
      "/var/folders/k9/8gr5x3n144dfk2rq4yppwf740000gn/T/ipykernel_1937/2376749584.py:15: FutureWarning: The frame.append method is deprecated and will be removed from pandas in a future version. Use pandas.concat instead.\n",
      "  std_dev_df = std_dev_df.append({'Column': column, 'StandardDeviation': std_dev}, ignore_index=True)\n",
      "/var/folders/k9/8gr5x3n144dfk2rq4yppwf740000gn/T/ipykernel_1937/2376749584.py:15: FutureWarning: The frame.append method is deprecated and will be removed from pandas in a future version. Use pandas.concat instead.\n",
      "  std_dev_df = std_dev_df.append({'Column': column, 'StandardDeviation': std_dev}, ignore_index=True)\n",
      "/var/folders/k9/8gr5x3n144dfk2rq4yppwf740000gn/T/ipykernel_1937/2376749584.py:15: FutureWarning: The frame.append method is deprecated and will be removed from pandas in a future version. Use pandas.concat instead.\n",
      "  std_dev_df = std_dev_df.append({'Column': column, 'StandardDeviation': std_dev}, ignore_index=True)\n",
      "/var/folders/k9/8gr5x3n144dfk2rq4yppwf740000gn/T/ipykernel_1937/2376749584.py:15: FutureWarning: The frame.append method is deprecated and will be removed from pandas in a future version. Use pandas.concat instead.\n",
      "  std_dev_df = std_dev_df.append({'Column': column, 'StandardDeviation': std_dev}, ignore_index=True)\n"
     ]
    }
   ],
   "source": [
    "columns_of_interest = ['S1_ward_CN', 'S1_ward_W', 'S1_azp_CN', 'S1_azp_W',\n",
    "                        'S2_ward_CN', 'S2_ward_W', 'S2_azp_CN', 'S2_azp_W',\n",
    "                        'S3_ward_CN', 'S3_ward_W', 'S3_azp_CN', 'S3_azp_W']\n",
    "\n",
    "# Create a DataFrame to store the standard deviation of each column\n",
    "std_dev_df = pd.DataFrame(columns=['Column', 'StandardDeviation'])\n",
    "\n",
    "# Loop through each column\n",
    "for column in columns_of_interest:\n",
    "    # Extract values for the current column\n",
    "    column_values = res[column].dropna()  # Drop NaN values if any\n",
    "    \n",
    "    # Calculate the standard deviation and store in the DataFrame\n",
    "    std_dev = column_values.std()\n",
    "    std_dev_df = std_dev_df.append({'Column': column, 'StandardDeviation': std_dev}, ignore_index=True)\n",
    "\n",
    "# Display the standard deviations\n",
    "print(std_dev_df)"
   ]
  },
  {
   "cell_type": "code",
   "execution_count": 41,
   "id": "27eee028-62df-4ad1-8e99-fedfa650311b",
   "metadata": {},
   "outputs": [],
   "source": [
    "from scipy.stats import spearmanr"
   ]
  },
  {
   "cell_type": "code",
   "execution_count": 69,
   "id": "48064b6f-d583-4f65-a2f4-1bca13c20b69",
   "metadata": {},
   "outputs": [
    {
     "name": "stdout",
     "output_type": "stream",
     "text": [
      "        Column SpearmanCorrelation   P-value\n",
      "0   S1_ward_CN            0.103115  0.399148\n",
      "1    S1_ward_W            0.342444  0.003974\n",
      "2    S1_azp_CN            0.078168  0.523193\n",
      "3     S1_azp_W            0.467163  0.000052\n",
      "4   S2_ward_CN           -0.501874  0.000011\n",
      "5    S2_ward_W            0.559285  0.000001\n",
      "6    S2_azp_CN            0.007823  0.949131\n",
      "7     S2_azp_W            0.199176  0.100852\n",
      "8   S3_ward_CN           -0.148996  0.221755\n",
      "9    S3_ward_W            0.106386  0.384282\n",
      "10   S3_azp_CN           -0.116762  0.339348\n",
      "11    S3_azp_W           -0.121987  0.318027\n"
     ]
    },
    {
     "name": "stderr",
     "output_type": "stream",
     "text": [
      "/var/folders/k9/8gr5x3n144dfk2rq4yppwf740000gn/T/ipykernel_1937/2825154964.py:17: FutureWarning: The frame.append method is deprecated and will be removed from pandas in a future version. Use pandas.concat instead.\n",
      "  correlation_df = correlation_df.append({'Column': column, 'SpearmanCorrelation': spearman_corr, 'P-value': p_value}, ignore_index=True)\n",
      "/var/folders/k9/8gr5x3n144dfk2rq4yppwf740000gn/T/ipykernel_1937/2825154964.py:17: FutureWarning: The frame.append method is deprecated and will be removed from pandas in a future version. Use pandas.concat instead.\n",
      "  correlation_df = correlation_df.append({'Column': column, 'SpearmanCorrelation': spearman_corr, 'P-value': p_value}, ignore_index=True)\n",
      "/var/folders/k9/8gr5x3n144dfk2rq4yppwf740000gn/T/ipykernel_1937/2825154964.py:17: FutureWarning: The frame.append method is deprecated and will be removed from pandas in a future version. Use pandas.concat instead.\n",
      "  correlation_df = correlation_df.append({'Column': column, 'SpearmanCorrelation': spearman_corr, 'P-value': p_value}, ignore_index=True)\n",
      "/var/folders/k9/8gr5x3n144dfk2rq4yppwf740000gn/T/ipykernel_1937/2825154964.py:17: FutureWarning: The frame.append method is deprecated and will be removed from pandas in a future version. Use pandas.concat instead.\n",
      "  correlation_df = correlation_df.append({'Column': column, 'SpearmanCorrelation': spearman_corr, 'P-value': p_value}, ignore_index=True)\n",
      "/var/folders/k9/8gr5x3n144dfk2rq4yppwf740000gn/T/ipykernel_1937/2825154964.py:17: FutureWarning: The frame.append method is deprecated and will be removed from pandas in a future version. Use pandas.concat instead.\n",
      "  correlation_df = correlation_df.append({'Column': column, 'SpearmanCorrelation': spearman_corr, 'P-value': p_value}, ignore_index=True)\n",
      "/var/folders/k9/8gr5x3n144dfk2rq4yppwf740000gn/T/ipykernel_1937/2825154964.py:17: FutureWarning: The frame.append method is deprecated and will be removed from pandas in a future version. Use pandas.concat instead.\n",
      "  correlation_df = correlation_df.append({'Column': column, 'SpearmanCorrelation': spearman_corr, 'P-value': p_value}, ignore_index=True)\n",
      "/var/folders/k9/8gr5x3n144dfk2rq4yppwf740000gn/T/ipykernel_1937/2825154964.py:17: FutureWarning: The frame.append method is deprecated and will be removed from pandas in a future version. Use pandas.concat instead.\n",
      "  correlation_df = correlation_df.append({'Column': column, 'SpearmanCorrelation': spearman_corr, 'P-value': p_value}, ignore_index=True)\n",
      "/var/folders/k9/8gr5x3n144dfk2rq4yppwf740000gn/T/ipykernel_1937/2825154964.py:17: FutureWarning: The frame.append method is deprecated and will be removed from pandas in a future version. Use pandas.concat instead.\n",
      "  correlation_df = correlation_df.append({'Column': column, 'SpearmanCorrelation': spearman_corr, 'P-value': p_value}, ignore_index=True)\n",
      "/var/folders/k9/8gr5x3n144dfk2rq4yppwf740000gn/T/ipykernel_1937/2825154964.py:17: FutureWarning: The frame.append method is deprecated and will be removed from pandas in a future version. Use pandas.concat instead.\n",
      "  correlation_df = correlation_df.append({'Column': column, 'SpearmanCorrelation': spearman_corr, 'P-value': p_value}, ignore_index=True)\n",
      "/var/folders/k9/8gr5x3n144dfk2rq4yppwf740000gn/T/ipykernel_1937/2825154964.py:17: FutureWarning: The frame.append method is deprecated and will be removed from pandas in a future version. Use pandas.concat instead.\n",
      "  correlation_df = correlation_df.append({'Column': column, 'SpearmanCorrelation': spearman_corr, 'P-value': p_value}, ignore_index=True)\n",
      "/var/folders/k9/8gr5x3n144dfk2rq4yppwf740000gn/T/ipykernel_1937/2825154964.py:17: FutureWarning: The frame.append method is deprecated and will be removed from pandas in a future version. Use pandas.concat instead.\n",
      "  correlation_df = correlation_df.append({'Column': column, 'SpearmanCorrelation': spearman_corr, 'P-value': p_value}, ignore_index=True)\n",
      "/var/folders/k9/8gr5x3n144dfk2rq4yppwf740000gn/T/ipykernel_1937/2825154964.py:17: FutureWarning: The frame.append method is deprecated and will be removed from pandas in a future version. Use pandas.concat instead.\n",
      "  correlation_df = correlation_df.append({'Column': column, 'SpearmanCorrelation': spearman_corr, 'P-value': p_value}, ignore_index=True)\n"
     ]
    }
   ],
   "source": [
    "columns_of_interest = ['S1_ward_CN', 'S1_ward_W', 'S1_azp_CN', 'S1_azp_W',\n",
    "                        'S2_ward_CN', 'S2_ward_W', 'S2_azp_CN', 'S2_azp_W',\n",
    "                        'S3_ward_CN', 'S3_ward_W', 'S3_azp_CN', 'S3_azp_W']\n",
    "\n",
    "# Create a DataFrame to store the Spearman correlation coefficient for each column\n",
    "correlation_df = pd.DataFrame(columns=['Column', 'SpearmanCorrelation', 'P-value'])\n",
    "\n",
    "# Loop through each column\n",
    "for column in columns_of_interest:\n",
    "    # Extract values for the current column and 'nCLu'\n",
    "    values_nCLu = res[['nCLu', column]].dropna()  # Drop NaN values if any\n",
    "    \n",
    "    # Calculate the Spearman correlation\n",
    "    spearman_corr, p_value = spearmanr(values_nCLu['nCLu'], values_nCLu[column])\n",
    "    \n",
    "    # Store results in the DataFrame\n",
    "    correlation_df = correlation_df.append({'Column': column, 'SpearmanCorrelation': spearman_corr, 'P-value': p_value}, ignore_index=True)\n",
    "\n",
    "# Display the DataFrame with Spearman correlation coefficients\n",
    "print(correlation_df)"
   ]
  },
  {
   "cell_type": "code",
   "execution_count": 61,
   "id": "76d3c526-47ad-4f7c-8786-f870eca04aa8",
   "metadata": {},
   "outputs": [],
   "source": [
    "correlation_df = correlation_df.drop(columns='P-value')"
   ]
  },
  {
   "cell_type": "code",
   "execution_count": 75,
   "id": "23be919f-82e6-4d98-8ed4-fecf96b0398e",
   "metadata": {},
   "outputs": [
    {
     "data": {
      "image/png": "[encoded data removed]",
      "text/plain": [
       "<Figure size 720x576 with 1 Axes>"
      ]
     },
     "metadata": {
      "needs_background": "light"
     },
     "output_type": "display_data"
    }
   ],
   "source": [
    "import seaborn as sns\n",
    "import matplotlib.pyplot as plt\n",
    "\n",
    "# Assuming 'correlation_df' is your DataFrame\n",
    "plt.figure(figsize=(10, 8))\n",
    "ax = sns.barplot(x='Column', y='SpearmanCorrelation', hue='SpearmanCorrelation', data=correlation_df, palette=\"coolwarm\", dodge=False)\n",
    "\n",
    "# Remove the legend\n",
    "ax.legend().set_visible(False)\n",
    "\n",
    "# Add correlation values at the end of each bar with increased distance\n",
    "for p in ax.patches:\n",
    "    ax.annotate(f'{p.get_height():.3f}', (p.get_x() + p.get_width(), p.get_height()), ha='right', va='center', xytext=(5, 5), textcoords='offset points')\n",
    "\n",
    "plt.title('Spearman Correlation between nCLu and R2 values')\n",
    "plt.xlabel('Column')\n",
    "plt.ylabel('Spearman Correlation Coefficient')\n",
    "plt.xticks(rotation=45, ha='right')  # Rotate x-axis labels for better visibility\n",
    "plt.tight_layout()\n",
    "plt.show()\n"
   ]
  },
  {
   "cell_type": "code",
   "execution_count": 77,
   "id": "5f19563c-4189-471f-89ec-6c49062c771e",
   "metadata": {},
   "outputs": [
    {
     "name": "stdout",
     "output_type": "stream",
     "text": [
      "S1_ward_CN: Positive relationship, Spearman Correlation: 0.103, P-value: 0.399, Significant: No\n",
      "S1_ward_W: Positive relationship, Spearman Correlation: 0.342, P-value: 0.004, Significant: Yes\n",
      "S1_azp_CN: Positive relationship, Spearman Correlation: 0.078, P-value: 0.523, Significant: No\n",
      "S1_azp_W: Positive relationship, Spearman Correlation: 0.467, P-value: 0.000, Significant: Yes\n",
      "S2_ward_CN: Negative relationship, Spearman Correlation: -0.502, P-value: 0.000, Significant: Yes\n",
      "S2_ward_W: Positive relationship, Spearman Correlation: 0.559, P-value: 0.000, Significant: Yes\n",
      "S2_azp_CN: Positive relationship, Spearman Correlation: 0.008, P-value: 0.949, Significant: No\n",
      "S2_azp_W: Positive relationship, Spearman Correlation: 0.199, P-value: 0.101, Significant: No\n",
      "S3_ward_CN: Negative relationship, Spearman Correlation: -0.149, P-value: 0.222, Significant: No\n",
      "S3_ward_W: Positive relationship, Spearman Correlation: 0.106, P-value: 0.384, Significant: No\n",
      "S3_azp_CN: Negative relationship, Spearman Correlation: -0.117, P-value: 0.339, Significant: No\n",
      "S3_azp_W: Negative relationship, Spearman Correlation: -0.122, P-value: 0.318, Significant: No\n",
      "\n",
      "DataFrame with Spearman correlation coefficients:\n",
      "        Column SpearmanCorrelation   P-value Significant\n",
      "0   S1_ward_CN            0.103115  0.399148          No\n",
      "1    S1_ward_W            0.342444  0.003974         Yes\n",
      "2    S1_azp_CN            0.078168  0.523193          No\n",
      "3     S1_azp_W            0.467163  0.000052         Yes\n",
      "4   S2_ward_CN           -0.501874  0.000011         Yes\n",
      "5    S2_ward_W            0.559285  0.000001         Yes\n",
      "6    S2_azp_CN            0.007823  0.949131          No\n",
      "7     S2_azp_W            0.199176  0.100852          No\n",
      "8   S3_ward_CN           -0.148996  0.221755          No\n",
      "9    S3_ward_W            0.106386  0.384282          No\n",
      "10   S3_azp_CN           -0.116762  0.339348          No\n",
      "11    S3_azp_W           -0.121987  0.318027          No\n"
     ]
    },
    {
     "name": "stderr",
     "output_type": "stream",
     "text": [
      "/var/folders/k9/8gr5x3n144dfk2rq4yppwf740000gn/T/ipykernel_1937/456823604.py:28: FutureWarning: The frame.append method is deprecated and will be removed from pandas in a future version. Use pandas.concat instead.\n",
      "  correlation_df = correlation_df.append({'Column': column, 'SpearmanCorrelation': spearman_corr, 'P-value': p_value, 'Significant': significant}, ignore_index=True)\n",
      "/var/folders/k9/8gr5x3n144dfk2rq4yppwf740000gn/T/ipykernel_1937/456823604.py:28: FutureWarning: The frame.append method is deprecated and will be removed from pandas in a future version. Use pandas.concat instead.\n",
      "  correlation_df = correlation_df.append({'Column': column, 'SpearmanCorrelation': spearman_corr, 'P-value': p_value, 'Significant': significant}, ignore_index=True)\n",
      "/var/folders/k9/8gr5x3n144dfk2rq4yppwf740000gn/T/ipykernel_1937/456823604.py:28: FutureWarning: The frame.append method is deprecated and will be removed from pandas in a future version. Use pandas.concat instead.\n",
      "  correlation_df = correlation_df.append({'Column': column, 'SpearmanCorrelation': spearman_corr, 'P-value': p_value, 'Significant': significant}, ignore_index=True)\n",
      "/var/folders/k9/8gr5x3n144dfk2rq4yppwf740000gn/T/ipykernel_1937/456823604.py:28: FutureWarning: The frame.append method is deprecated and will be removed from pandas in a future version. Use pandas.concat instead.\n",
      "  correlation_df = correlation_df.append({'Column': column, 'SpearmanCorrelation': spearman_corr, 'P-value': p_value, 'Significant': significant}, ignore_index=True)\n",
      "/var/folders/k9/8gr5x3n144dfk2rq4yppwf740000gn/T/ipykernel_1937/456823604.py:28: FutureWarning: The frame.append method is deprecated and will be removed from pandas in a future version. Use pandas.concat instead.\n",
      "  correlation_df = correlation_df.append({'Column': column, 'SpearmanCorrelation': spearman_corr, 'P-value': p_value, 'Significant': significant}, ignore_index=True)\n",
      "/var/folders/k9/8gr5x3n144dfk2rq4yppwf740000gn/T/ipykernel_1937/456823604.py:28: FutureWarning: The frame.append method is deprecated and will be removed from pandas in a future version. Use pandas.concat instead.\n",
      "  correlation_df = correlation_df.append({'Column': column, 'SpearmanCorrelation': spearman_corr, 'P-value': p_value, 'Significant': significant}, ignore_index=True)\n",
      "/var/folders/k9/8gr5x3n144dfk2rq4yppwf740000gn/T/ipykernel_1937/456823604.py:28: FutureWarning: The frame.append method is deprecated and will be removed from pandas in a future version. Use pandas.concat instead.\n",
      "  correlation_df = correlation_df.append({'Column': column, 'SpearmanCorrelation': spearman_corr, 'P-value': p_value, 'Significant': significant}, ignore_index=True)\n",
      "/var/folders/k9/8gr5x3n144dfk2rq4yppwf740000gn/T/ipykernel_1937/456823604.py:28: FutureWarning: The frame.append method is deprecated and will be removed from pandas in a future version. Use pandas.concat instead.\n",
      "  correlation_df = correlation_df.append({'Column': column, 'SpearmanCorrelation': spearman_corr, 'P-value': p_value, 'Significant': significant}, ignore_index=True)\n",
      "/var/folders/k9/8gr5x3n144dfk2rq4yppwf740000gn/T/ipykernel_1937/456823604.py:28: FutureWarning: The frame.append method is deprecated and will be removed from pandas in a future version. Use pandas.concat instead.\n",
      "  correlation_df = correlation_df.append({'Column': column, 'SpearmanCorrelation': spearman_corr, 'P-value': p_value, 'Significant': significant}, ignore_index=True)\n",
      "/var/folders/k9/8gr5x3n144dfk2rq4yppwf740000gn/T/ipykernel_1937/456823604.py:28: FutureWarning: The frame.append method is deprecated and will be removed from pandas in a future version. Use pandas.concat instead.\n",
      "  correlation_df = correlation_df.append({'Column': column, 'SpearmanCorrelation': spearman_corr, 'P-value': p_value, 'Significant': significant}, ignore_index=True)\n",
      "/var/folders/k9/8gr5x3n144dfk2rq4yppwf740000gn/T/ipykernel_1937/456823604.py:28: FutureWarning: The frame.append method is deprecated and will be removed from pandas in a future version. Use pandas.concat instead.\n",
      "  correlation_df = correlation_df.append({'Column': column, 'SpearmanCorrelation': spearman_corr, 'P-value': p_value, 'Significant': significant}, ignore_index=True)\n",
      "/var/folders/k9/8gr5x3n144dfk2rq4yppwf740000gn/T/ipykernel_1937/456823604.py:28: FutureWarning: The frame.append method is deprecated and will be removed from pandas in a future version. Use pandas.concat instead.\n",
      "  correlation_df = correlation_df.append({'Column': column, 'SpearmanCorrelation': spearman_corr, 'P-value': p_value, 'Significant': significant}, ignore_index=True)\n"
     ]
    }
   ],
   "source": [
    "columns_of_interest = ['S1_ward_CN', 'S1_ward_W', 'S1_azp_CN', 'S1_azp_W',\n",
    "                        'S2_ward_CN', 'S2_ward_W', 'S2_azp_CN', 'S2_azp_W',\n",
    "                        'S3_ward_CN', 'S3_ward_W', 'S3_azp_CN', 'S3_azp_W']\n",
    "\n",
    "# Create a DataFrame to store the Spearman correlation coefficient for each column\n",
    "correlation_df = pd.DataFrame(columns=['Column', 'SpearmanCorrelation', 'P-value', 'Significant'])\n",
    "\n",
    "# Loop through each column\n",
    "for column in columns_of_interest:\n",
    "    # Extract values for the current column and 'nCLu'\n",
    "    values_nCLu = res[['nCLu', column]].dropna()  # Drop NaN values if any\n",
    "    \n",
    "    # Calculate the Spearman correlation\n",
    "    spearman_corr, p_value = spearmanr(values_nCLu['nCLu'], values_nCLu[column])\n",
    "    \n",
    "    # Determine the type of relationship\n",
    "    if spearman_corr > 0:\n",
    "        relationship_type = \"Positive\"\n",
    "    elif spearman_corr < 0:\n",
    "        relationship_type = \"Negative\"\n",
    "    else:\n",
    "        relationship_type = \"No correlation\"\n",
    "    \n",
    "    # Determine if the relationship is significant\n",
    "    significant = \"Yes\" if p_value < 0.05 else \"No\"\n",
    "    \n",
    "    # Store results in the DataFrame\n",
    "    correlation_df = correlation_df.append({'Column': column, 'SpearmanCorrelation': spearman_corr, 'P-value': p_value, 'Significant': significant}, ignore_index=True)\n",
    "    \n",
    "    # Print information about the relationship, significance, and p-value\n",
    "    print(f\"{column}: {relationship_type} relationship, Spearman Correlation: {spearman_corr:.3f}, P-value: {p_value:.3f}, Significant: {significant}\")\n",
    "\n",
    "# Display the DataFrame with Spearman correlation coefficients\n",
    "print(\"\\nDataFrame with Spearman correlation coefficients:\")\n",
    "print(correlation_df)\n"
   ]
  },
  {
   "cell_type": "code",
   "execution_count": null,
   "id": "fb801e61-261f-4c74-a06b-1fa8984c33b7",
   "metadata": {},
   "outputs": [],
   "source": []
  },
  {
   "cell_type": "code",
   "execution_count": 90,
   "id": "85fc3976-7d0e-43dc-bcca-25a8efed1c29",
   "metadata": {},
   "outputs": [
    {
     "name": "stdout",
     "output_type": "stream",
     "text": [
      "  Method  Split 1  Split 2  Split 3\n",
      "0     RF   0.6360    0.677  0.64300\n",
      "1    GWR   0.7396    0.740  0.75493\n",
      "2   GWRF   0.7580    0.774  0.76500\n"
     ]
    }
   ],
   "source": [
    "data = {\n",
    "    'Method': ['RF', 'GWR', 'GWRF'],\n",
    "    'Split 1': [0.636, 0.7396, 0.758],\n",
    "    'Split 2': [0.677, 0.74, 0.774],\n",
    "    'Split 3': [0.643, 0.75493, 0.765]\n",
    "}\n",
    "\n",
    "# Create the DataFrame\n",
    "df = pd.DataFrame(data)\n",
    "\n",
    "# Display the DataFrame\n",
    "print(df)"
   ]
  },
  {
   "cell_type": "code",
   "execution_count": 91,
   "id": "bc74e28d-1cf3-4915-812d-9e196f1a7f34",
   "metadata": {},
   "outputs": [
    {
     "data": {
      "text/html": [
       "<div>\n",
       "<style scoped>\n",
       "    .dataframe tbody tr th:only-of-type {\n",
       "        vertical-align: middle;\n",
       "    }\n",
       "\n",
       "    .dataframe tbody tr th {\n",
       "        vertical-align: top;\n",
       "    }\n",
       "\n",
       "    .dataframe thead th {\n",
       "        text-align: right;\n",
       "    }\n",
       "</style>\n",
       "<table border=\"1\" class=\"dataframe\">\n",
       "  <thead>\n",
       "    <tr style=\"text-align: right;\">\n",
       "      <th></th>\n",
       "      <th>Method</th>\n",
       "      <th>Split 1</th>\n",
       "      <th>Split 2</th>\n",
       "      <th>Split 3</th>\n",
       "    </tr>\n",
       "  </thead>\n",
       "  <tbody>\n",
       "    <tr>\n",
       "      <th>0</th>\n",
       "      <td>RF</td>\n",
       "      <td>0.6360</td>\n",
       "      <td>0.677</td>\n",
       "      <td>0.64300</td>\n",
       "    </tr>\n",
       "    <tr>\n",
       "      <th>1</th>\n",
       "      <td>GWR</td>\n",
       "      <td>0.7396</td>\n",
       "      <td>0.740</td>\n",
       "      <td>0.75493</td>\n",
       "    </tr>\n",
       "    <tr>\n",
       "      <th>2</th>\n",
       "      <td>GWRF</td>\n",
       "      <td>0.7580</td>\n",
       "      <td>0.774</td>\n",
       "      <td>0.76500</td>\n",
       "    </tr>\n",
       "  </tbody>\n",
       "</table>\n",
       "</div>"
      ],
      "text/plain": [
       "  Method  Split 1  Split 2  Split 3\n",
       "0     RF   0.6360    0.677  0.64300\n",
       "1    GWR   0.7396    0.740  0.75493\n",
       "2   GWRF   0.7580    0.774  0.76500"
      ]
     },
     "execution_count": 91,
     "metadata": {},
     "output_type": "execute_result"
    }
   ],
   "source": [
    "# Display the reshaped and pivoted DataFrame\n",
    "df.head()"
   ]
  },
  {
   "cell_type": "code",
   "execution_count": 94,
   "id": "90eaec83-2fbf-456c-9e57-0d48a92d5fba",
   "metadata": {},
   "outputs": [
    {
     "data": {
      "text/html": [
       "<div>\n",
       "<style scoped>\n",
       "    .dataframe tbody tr th:only-of-type {\n",
       "        vertical-align: middle;\n",
       "    }\n",
       "\n",
       "    .dataframe tbody tr th {\n",
       "        vertical-align: top;\n",
       "    }\n",
       "\n",
       "    .dataframe thead th {\n",
       "        text-align: right;\n",
       "    }\n",
       "</style>\n",
       "<table border=\"1\" class=\"dataframe\">\n",
       "  <thead>\n",
       "    <tr style=\"text-align: right;\">\n",
       "      <th></th>\n",
       "      <th>nCLu</th>\n",
       "      <th>S1_ward_CN</th>\n",
       "      <th>S1_ward_W</th>\n",
       "      <th>S1_azp_CN</th>\n",
       "      <th>S1_azp_W</th>\n",
       "      <th>S2_ward_CN</th>\n",
       "      <th>S2_ward_W</th>\n",
       "      <th>S2_azp_CN</th>\n",
       "      <th>S2_azp_W</th>\n",
       "      <th>S3_ward_CN</th>\n",
       "      <th>S3_ward_W</th>\n",
       "      <th>S3_azp_CN</th>\n",
       "      <th>S3_azp_W</th>\n",
       "      <th>ID</th>\n",
       "    </tr>\n",
       "  </thead>\n",
       "  <tbody>\n",
       "    <tr>\n",
       "      <th>0</th>\n",
       "      <td>2</td>\n",
       "      <td>0.688</td>\n",
       "      <td>0.689</td>\n",
       "      <td>0.712</td>\n",
       "      <td>0.665</td>\n",
       "      <td>0.734</td>\n",
       "      <td>0.707</td>\n",
       "      <td>0.731</td>\n",
       "      <td>0.709</td>\n",
       "      <td>0.654</td>\n",
       "      <td>0.649</td>\n",
       "      <td>0.644</td>\n",
       "      <td>0.666</td>\n",
       "      <td>1</td>\n",
       "    </tr>\n",
       "    <tr>\n",
       "      <th>1</th>\n",
       "      <td>3</td>\n",
       "      <td>0.689</td>\n",
       "      <td>0.690</td>\n",
       "      <td>0.688</td>\n",
       "      <td>0.665</td>\n",
       "      <td>0.760</td>\n",
       "      <td>0.721</td>\n",
       "      <td>0.718</td>\n",
       "      <td>0.708</td>\n",
       "      <td>0.674</td>\n",
       "      <td>0.666</td>\n",
       "      <td>0.672</td>\n",
       "      <td>0.663</td>\n",
       "      <td>2</td>\n",
       "    </tr>\n",
       "    <tr>\n",
       "      <th>2</th>\n",
       "      <td>4</td>\n",
       "      <td>0.690</td>\n",
       "      <td>0.691</td>\n",
       "      <td>0.715</td>\n",
       "      <td>0.684</td>\n",
       "      <td>0.754</td>\n",
       "      <td>0.724</td>\n",
       "      <td>0.697</td>\n",
       "      <td>0.698</td>\n",
       "      <td>0.694</td>\n",
       "      <td>0.681</td>\n",
       "      <td>0.673</td>\n",
       "      <td>0.678</td>\n",
       "      <td>3</td>\n",
       "    </tr>\n",
       "    <tr>\n",
       "      <th>3</th>\n",
       "      <td>5</td>\n",
       "      <td>0.691</td>\n",
       "      <td>0.692</td>\n",
       "      <td>0.698</td>\n",
       "      <td>0.673</td>\n",
       "      <td>0.751</td>\n",
       "      <td>0.722</td>\n",
       "      <td>0.696</td>\n",
       "      <td>0.710</td>\n",
       "      <td>0.710</td>\n",
       "      <td>0.680</td>\n",
       "      <td>0.690</td>\n",
       "      <td>0.678</td>\n",
       "      <td>4</td>\n",
       "    </tr>\n",
       "    <tr>\n",
       "      <th>4</th>\n",
       "      <td>6</td>\n",
       "      <td>0.692</td>\n",
       "      <td>0.693</td>\n",
       "      <td>0.705</td>\n",
       "      <td>0.669</td>\n",
       "      <td>0.735</td>\n",
       "      <td>0.722</td>\n",
       "      <td>0.704</td>\n",
       "      <td>0.706</td>\n",
       "      <td>0.713</td>\n",
       "      <td>0.684</td>\n",
       "      <td>0.627</td>\n",
       "      <td>0.643</td>\n",
       "      <td>5</td>\n",
       "    </tr>\n",
       "  </tbody>\n",
       "</table>\n",
       "</div>"
      ],
      "text/plain": [
       "   nCLu  S1_ward_CN  S1_ward_W  S1_azp_CN  S1_azp_W  S2_ward_CN  S2_ward_W  \\\n",
       "0     2       0.688      0.689      0.712     0.665       0.734      0.707   \n",
       "1     3       0.689      0.690      0.688     0.665       0.760      0.721   \n",
       "2     4       0.690      0.691      0.715     0.684       0.754      0.724   \n",
       "3     5       0.691      0.692      0.698     0.673       0.751      0.722   \n",
       "4     6       0.692      0.693      0.705     0.669       0.735      0.722   \n",
       "\n",
       "   S2_azp_CN  S2_azp_W  S3_ward_CN  S3_ward_W  S3_azp_CN  S3_azp_W  ID  \n",
       "0      0.731     0.709       0.654      0.649      0.644     0.666   1  \n",
       "1      0.718     0.708       0.674      0.666      0.672     0.663   2  \n",
       "2      0.697     0.698       0.694      0.681      0.673     0.678   3  \n",
       "3      0.696     0.710       0.710      0.680      0.690     0.678   4  \n",
       "4      0.704     0.706       0.713      0.684      0.627     0.643   5  "
      ]
     },
     "execution_count": 94,
     "metadata": {},
     "output_type": "execute_result"
    }
   ],
   "source": [
    "res.head()"
   ]
  },
  {
   "cell_type": "code",
   "execution_count": 96,
   "id": "b9c30e7c-4675-4224-a171-16f1b9f6db29",
   "metadata": {},
   "outputs": [],
   "source": [
    "import pandas as pd\n",
    "from scipy.stats import ttest_rel"
   ]
  },
  {
   "cell_type": "code",
   "execution_count": 103,
   "id": "84f65508-de11-4f2e-a727-fcf5bfaa8fe6",
   "metadata": {},
   "outputs": [],
   "source": [
    "columns_of_interest = ['S1_ward_CN', 'S1_ward_W', 'S1_azp_CN', 'S1_azp_W', \n",
    "                         'S2_ward_CN', 'S2_ward_W', 'S2_azp_CN', 'S2_azp_W', \n",
    "                         'S3_ward_CN', 'S3_ward_W', 'S3_azp_CN', 'S3_azp_W']"
   ]
  },
  {
   "cell_type": "code",
   "execution_count": 106,
   "id": "c67cefac-b522-46cc-ae3c-458dc88a98ac",
   "metadata": {},
   "outputs": [],
   "source": [
    "top3_values_df = pd.DataFrame({col: res[col].nlargest(3).tolist() for col in columns_of_interest})"
   ]
  },
  {
   "cell_type": "code",
   "execution_count": 107,
   "id": "04da6d8e-f9b7-4e10-8f61-ccf58b50b607",
   "metadata": {},
   "outputs": [
    {
     "data": {
      "text/html": [
       "<div>\n",
       "<style scoped>\n",
       "    .dataframe tbody tr th:only-of-type {\n",
       "        vertical-align: middle;\n",
       "    }\n",
       "\n",
       "    .dataframe tbody tr th {\n",
       "        vertical-align: top;\n",
       "    }\n",
       "\n",
       "    .dataframe thead th {\n",
       "        text-align: right;\n",
       "    }\n",
       "</style>\n",
       "<table border=\"1\" class=\"dataframe\">\n",
       "  <thead>\n",
       "    <tr style=\"text-align: right;\">\n",
       "      <th></th>\n",
       "      <th>S1_ward_CN</th>\n",
       "      <th>S1_ward_W</th>\n",
       "      <th>S1_azp_CN</th>\n",
       "      <th>S1_azp_W</th>\n",
       "      <th>S2_ward_CN</th>\n",
       "      <th>S2_ward_W</th>\n",
       "      <th>S2_azp_CN</th>\n",
       "      <th>S2_azp_W</th>\n",
       "      <th>S3_ward_CN</th>\n",
       "      <th>S3_ward_W</th>\n",
       "      <th>S3_azp_CN</th>\n",
       "      <th>S3_azp_W</th>\n",
       "    </tr>\n",
       "  </thead>\n",
       "  <tbody>\n",
       "    <tr>\n",
       "      <th>0</th>\n",
       "      <td>0.751</td>\n",
       "      <td>0.752</td>\n",
       "      <td>0.740</td>\n",
       "      <td>0.733</td>\n",
       "      <td>0.760</td>\n",
       "      <td>0.754</td>\n",
       "      <td>0.759</td>\n",
       "      <td>0.746</td>\n",
       "      <td>0.758</td>\n",
       "      <td>0.748</td>\n",
       "      <td>0.735</td>\n",
       "      <td>0.728</td>\n",
       "    </tr>\n",
       "    <tr>\n",
       "      <th>1</th>\n",
       "      <td>0.750</td>\n",
       "      <td>0.751</td>\n",
       "      <td>0.736</td>\n",
       "      <td>0.733</td>\n",
       "      <td>0.755</td>\n",
       "      <td>0.753</td>\n",
       "      <td>0.757</td>\n",
       "      <td>0.745</td>\n",
       "      <td>0.751</td>\n",
       "      <td>0.741</td>\n",
       "      <td>0.722</td>\n",
       "      <td>0.718</td>\n",
       "    </tr>\n",
       "    <tr>\n",
       "      <th>2</th>\n",
       "      <td>0.749</td>\n",
       "      <td>0.750</td>\n",
       "      <td>0.734</td>\n",
       "      <td>0.733</td>\n",
       "      <td>0.755</td>\n",
       "      <td>0.753</td>\n",
       "      <td>0.753</td>\n",
       "      <td>0.742</td>\n",
       "      <td>0.751</td>\n",
       "      <td>0.740</td>\n",
       "      <td>0.720</td>\n",
       "      <td>0.711</td>\n",
       "    </tr>\n",
       "  </tbody>\n",
       "</table>\n",
       "</div>"
      ],
      "text/plain": [
       "   S1_ward_CN  S1_ward_W  S1_azp_CN  S1_azp_W  S2_ward_CN  S2_ward_W  \\\n",
       "0       0.751      0.752      0.740     0.733       0.760      0.754   \n",
       "1       0.750      0.751      0.736     0.733       0.755      0.753   \n",
       "2       0.749      0.750      0.734     0.733       0.755      0.753   \n",
       "\n",
       "   S2_azp_CN  S2_azp_W  S3_ward_CN  S3_ward_W  S3_azp_CN  S3_azp_W  \n",
       "0      0.759     0.746       0.758      0.748      0.735     0.728  \n",
       "1      0.757     0.745       0.751      0.741      0.722     0.718  \n",
       "2      0.753     0.742       0.751      0.740      0.720     0.711  "
      ]
     },
     "execution_count": 107,
     "metadata": {},
     "output_type": "execute_result"
    }
   ],
   "source": [
    "top3_values_df.head()"
   ]
  },
  {
   "cell_type": "code",
   "execution_count": 108,
   "id": "f4356453-fc1b-4b86-a051-38952e8fe509",
   "metadata": {},
   "outputs": [
    {
     "data": {
      "text/html": [
       "<div>\n",
       "<style scoped>\n",
       "    .dataframe tbody tr th:only-of-type {\n",
       "        vertical-align: middle;\n",
       "    }\n",
       "\n",
       "    .dataframe tbody tr th {\n",
       "        vertical-align: top;\n",
       "    }\n",
       "\n",
       "    .dataframe thead th {\n",
       "        text-align: right;\n",
       "    }\n",
       "</style>\n",
       "<table border=\"1\" class=\"dataframe\">\n",
       "  <thead>\n",
       "    <tr style=\"text-align: right;\">\n",
       "      <th></th>\n",
       "      <th>S1_ward_CN</th>\n",
       "      <th>S2_ward_CN</th>\n",
       "      <th>S3_ward_CN</th>\n",
       "    </tr>\n",
       "  </thead>\n",
       "  <tbody>\n",
       "    <tr>\n",
       "      <th>0</th>\n",
       "      <td>0.751</td>\n",
       "      <td>0.760</td>\n",
       "      <td>0.758</td>\n",
       "    </tr>\n",
       "    <tr>\n",
       "      <th>1</th>\n",
       "      <td>0.750</td>\n",
       "      <td>0.755</td>\n",
       "      <td>0.751</td>\n",
       "    </tr>\n",
       "    <tr>\n",
       "      <th>2</th>\n",
       "      <td>0.749</td>\n",
       "      <td>0.755</td>\n",
       "      <td>0.751</td>\n",
       "    </tr>\n",
       "  </tbody>\n",
       "</table>\n",
       "</div>"
      ],
      "text/plain": [
       "   S1_ward_CN  S2_ward_CN  S3_ward_CN\n",
       "0       0.751       0.760       0.758\n",
       "1       0.750       0.755       0.751\n",
       "2       0.749       0.755       0.751"
      ]
     },
     "execution_count": 108,
     "metadata": {},
     "output_type": "execute_result"
    }
   ],
   "source": [
    "selected_columns_df = top3_values_df[['S1_ward_CN', 'S2_ward_CN', 'S3_ward_CN']]\n",
    "selected_columns_df.head()"
   ]
  },
  {
   "cell_type": "code",
   "execution_count": 112,
   "id": "2d74825a-88ff-41a2-a144-a645b63b5ef9",
   "metadata": {},
   "outputs": [
    {
     "name": "stdout",
     "output_type": "stream",
     "text": [
      "\n",
      "T-tests for Split 1:\n",
      "S1_ward_CN vs RF: P-value = 2.564793085739644e-05\n",
      "The difference is statistically significant.\n",
      "S1_ward_CN vs GWR: P-value = 0.00306768009166038\n",
      "The difference is statistically significant.\n",
      "S1_ward_CN vs GWRF: P-value = 0.005167993252386087\n",
      "The difference is statistically significant.\n",
      "S2_ward_CN vs RF: P-value = 0.00019072104169819894\n",
      "The difference is statistically significant.\n",
      "S2_ward_CN vs GWR: P-value = 0.009402451784545166\n",
      "The difference is statistically significant.\n",
      "S2_ward_CN vs GWRF: P-value = 0.5076340360826691\n",
      "The difference is not statistically significant.\n",
      "S3_ward_CN vs RF: P-value = 0.0003952330214267935\n",
      "The difference is statistically significant.\n",
      "S3_ward_CN vs GWR: P-value = 0.027674293598149522\n",
      "The difference is statistically significant.\n",
      "S3_ward_CN vs GWRF: P-value = 0.1835034190722739\n",
      "The difference is not statistically significant.\n",
      "\n",
      "T-tests for Split 2:\n",
      "S1_ward_CN vs RF: P-value = 6.254495424699012e-05\n",
      "The difference is statistically significant.\n",
      "S1_ward_CN vs GWR: P-value = 0.003316758722356861\n",
      "The difference is statistically significant.\n",
      "S1_ward_CN vs GWRF: P-value = 0.0005782018407652571\n",
      "The difference is statistically significant.\n",
      "S2_ward_CN vs RF: P-value = 0.0004373802880743212\n",
      "The difference is statistically significant.\n",
      "S2_ward_CN vs GWR: P-value = 0.009852457023325692\n",
      "The difference is statistically significant.\n",
      "S2_ward_CN vs GWRF: P-value = 0.009119285843282272\n",
      "The difference is statistically significant.\n",
      "S3_ward_CN vs RF: P-value = 0.0009330758299174867\n",
      "The difference is statistically significant.\n",
      "S3_ward_CN vs GWR: P-value = 0.02928632376741979\n",
      "The difference is statistically significant.\n",
      "S3_ward_CN vs GWRF: P-value = 0.012508469360507085\n",
      "The difference is statistically significant.\n",
      "\n",
      "T-tests for Split 3:\n",
      "S1_ward_CN vs RF: P-value = 2.9113352845448925e-05\n",
      "The difference is statistically significant.\n",
      "S1_ward_CN vs GWR: P-value = 0.013438815931261117\n",
      "The difference is statistically significant.\n",
      "S1_ward_CN vs GWRF: P-value = 0.0014781974082349423\n",
      "The difference is statistically significant.\n",
      "S2_ward_CN vs RF: P-value = 0.00021492712069654871\n",
      "The difference is statistically significant.\n",
      "S2_ward_CN vs GWR: P-value = 0.40682018403316267\n",
      "The difference is not statistically significant.\n",
      "S2_ward_CN vs GWRF: P-value = 0.037749551350623724\n",
      "The difference is statistically significant.\n",
      "S3_ward_CN vs RF: P-value = 0.00044693962619016963\n",
      "The difference is statistically significant.\n",
      "S3_ward_CN vs GWR: P-value = 0.5644448332788916\n",
      "The difference is not statistically significant.\n",
      "S3_ward_CN vs GWRF: P-value = 0.03774955135062371\n",
      "The difference is statistically significant.\n"
     ]
    }
   ],
   "source": [
    "benchmark_values = df.set_index('Method').T\n",
    "\n",
    "# Define the selected columns\n",
    "selected_columns = ['S1_ward_CN', 'S2_ward_CN', 'S3_ward_CN']\n",
    "\n",
    "# Perform t-tests for each split\n",
    "for split in ['Split 1', 'Split 2', 'Split 3']:\n",
    "    print(f\"\\nT-tests for {split}:\")\n",
    "    \n",
    "    for column in selected_columns:\n",
    "        # Extract the selected values from 'selected_columns_df'\n",
    "        selected_values = selected_columns_df[column].values\n",
    "        \n",
    "        for method in df['Method']:\n",
    "            # Extract the benchmark value for the corresponding method and split\n",
    "            benchmark_value = benchmark_values.at[split, method]\n",
    "            \n",
    "            # Perform a paired t-test\n",
    "            t_stat, p_value = ttest_rel(selected_values, [benchmark_value] * len(selected_values))\n",
    "            \n",
    "            print(f\"{column} vs {method}: P-value = {p_value}\")\n",
    "            \n",
    "            # Check if the p-value is less than the significance level (e.g., 0.05)\n",
    "            if p_value < 0.05:\n",
    "                print(\"The difference is statistically significant.\")\n",
    "            else:\n",
    "                print(\"The difference is not statistically significant.\")\n"
   ]
  },
  {
   "cell_type": "code",
   "execution_count": 8,
   "id": "b7b46c4a-55c4-44dc-b5ce-0c45dd9d9a67",
   "metadata": {},
   "outputs": [],
   "source": [
    "columns_to_consider = [col for col in res.columns if col not in ['nCLu', 'ID']]\n",
    "\n",
    "# Calculate the sum for each row across selected columns (higher values are better)\n",
    "res['sum_compromise'] = res[columns_to_consider].sum(axis=1)\n",
    "\n",
    "# Identify the three rows with the highest sum_compromise\n",
    "best_rows = res.nlargest(3, 'sum_compromise').drop(columns='sum_compromise')"
   ]
  },
  {
   "cell_type": "code",
   "execution_count": null,
   "id": "fe9c3fa1-e9f7-456f-a8ff-67620f944f84",
   "metadata": {},
   "outputs": [],
   "source": [
    "# Display the resulting dataframe with the three best rows\n",
    "print(best_rows)"
   ]
  },
  {
   "cell_type": "code",
   "execution_count": 9,
   "id": "b6d26405-9759-4270-8fb7-5fe454934903",
   "metadata": {},
   "outputs": [
    {
     "data": {
      "text/html": [
       "<div>\n",
       "<style scoped>\n",
       "    .dataframe tbody tr th:only-of-type {\n",
       "        vertical-align: middle;\n",
       "    }\n",
       "\n",
       "    .dataframe tbody tr th {\n",
       "        vertical-align: top;\n",
       "    }\n",
       "\n",
       "    .dataframe thead th {\n",
       "        text-align: right;\n",
       "    }\n",
       "</style>\n",
       "<table border=\"1\" class=\"dataframe\">\n",
       "  <thead>\n",
       "    <tr style=\"text-align: right;\">\n",
       "      <th></th>\n",
       "      <th>nCLu</th>\n",
       "      <th>S1_ward_CN</th>\n",
       "      <th>S1_ward_W</th>\n",
       "      <th>S1_azp_CN</th>\n",
       "      <th>S1_azp_W</th>\n",
       "      <th>S2_ward_CN</th>\n",
       "      <th>S2_ward_W</th>\n",
       "      <th>S2_azp_CN</th>\n",
       "      <th>S2_azp_W</th>\n",
       "      <th>S3_ward_CN</th>\n",
       "      <th>S3_ward_W</th>\n",
       "      <th>S3_azp_CN</th>\n",
       "      <th>S3_azp_W</th>\n",
       "      <th>ID</th>\n",
       "    </tr>\n",
       "  </thead>\n",
       "  <tbody>\n",
       "    <tr>\n",
       "      <th>9</th>\n",
       "      <td>11</td>\n",
       "      <td>0.742</td>\n",
       "      <td>0.737</td>\n",
       "      <td>0.740</td>\n",
       "      <td>0.715</td>\n",
       "      <td>0.750</td>\n",
       "      <td>0.734</td>\n",
       "      <td>0.759</td>\n",
       "      <td>0.741</td>\n",
       "      <td>0.745</td>\n",
       "      <td>0.730</td>\n",
       "      <td>0.690</td>\n",
       "      <td>0.690</td>\n",
       "      <td>10</td>\n",
       "    </tr>\n",
       "    <tr>\n",
       "      <th>22</th>\n",
       "      <td>24</td>\n",
       "      <td>0.744</td>\n",
       "      <td>0.734</td>\n",
       "      <td>0.728</td>\n",
       "      <td>0.710</td>\n",
       "      <td>0.734</td>\n",
       "      <td>0.713</td>\n",
       "      <td>0.742</td>\n",
       "      <td>0.736</td>\n",
       "      <td>0.743</td>\n",
       "      <td>0.740</td>\n",
       "      <td>0.692</td>\n",
       "      <td>0.687</td>\n",
       "      <td>23</td>\n",
       "    </tr>\n",
       "    <tr>\n",
       "      <th>56</th>\n",
       "      <td>58</td>\n",
       "      <td>0.746</td>\n",
       "      <td>0.742</td>\n",
       "      <td>0.728</td>\n",
       "      <td>0.725</td>\n",
       "      <td>0.731</td>\n",
       "      <td>0.736</td>\n",
       "      <td>0.728</td>\n",
       "      <td>0.725</td>\n",
       "      <td>0.733</td>\n",
       "      <td>0.731</td>\n",
       "      <td>0.689</td>\n",
       "      <td>0.686</td>\n",
       "      <td>57</td>\n",
       "    </tr>\n",
       "  </tbody>\n",
       "</table>\n",
       "</div>"
      ],
      "text/plain": [
       "    nCLu  S1_ward_CN  S1_ward_W  S1_azp_CN  S1_azp_W  S2_ward_CN  S2_ward_W  \\\n",
       "9     11       0.742      0.737      0.740     0.715       0.750      0.734   \n",
       "22    24       0.744      0.734      0.728     0.710       0.734      0.713   \n",
       "56    58       0.746      0.742      0.728     0.725       0.731      0.736   \n",
       "\n",
       "    S2_azp_CN  S2_azp_W  S3_ward_CN  S3_ward_W  S3_azp_CN  S3_azp_W  ID  \n",
       "9       0.759     0.741       0.745      0.730      0.690     0.690  10  \n",
       "22      0.742     0.736       0.743      0.740      0.692     0.687  23  \n",
       "56      0.728     0.725       0.733      0.731      0.689     0.686  57  "
      ]
     },
     "execution_count": 9,
     "metadata": {},
     "output_type": "execute_result"
    }
   ],
   "source": [
    "best_rows.head()"
   ]
  },
  {
   "cell_type": "code",
   "execution_count": 10,
   "id": "f483b164-6ecb-44b0-ad59-0743ec654981",
   "metadata": {},
   "outputs": [],
   "source": [
    "columns_to_consider = [col for col in res.columns if col not in ['nCLu', 'ID']]\n",
    "\n",
    "# Calculate the mean for each column\n",
    "mean_values = res[columns_to_consider].mean(axis=0)\n",
    "\n",
    "# Create a new dataframe with mean values\n",
    "mean_df = pd.DataFrame(mean_values).transpose()"
   ]
  },
  {
   "cell_type": "code",
   "execution_count": 11,
   "id": "a4f0313a-0fea-4ec8-b1b9-72ffce2b4b36",
   "metadata": {},
   "outputs": [
    {
     "data": {
      "text/html": [
       "<div>\n",
       "<style scoped>\n",
       "    .dataframe tbody tr th:only-of-type {\n",
       "        vertical-align: middle;\n",
       "    }\n",
       "\n",
       "    .dataframe tbody tr th {\n",
       "        vertical-align: top;\n",
       "    }\n",
       "\n",
       "    .dataframe thead th {\n",
       "        text-align: right;\n",
       "    }\n",
       "</style>\n",
       "<table border=\"1\" class=\"dataframe\">\n",
       "  <thead>\n",
       "    <tr style=\"text-align: right;\">\n",
       "      <th></th>\n",
       "      <th>S1_ward_CN</th>\n",
       "      <th>S1_ward_W</th>\n",
       "      <th>S1_azp_CN</th>\n",
       "      <th>S1_azp_W</th>\n",
       "      <th>S2_ward_CN</th>\n",
       "      <th>S2_ward_W</th>\n",
       "      <th>S2_azp_CN</th>\n",
       "      <th>S2_azp_W</th>\n",
       "      <th>S3_ward_CN</th>\n",
       "      <th>S3_ward_W</th>\n",
       "      <th>S3_azp_CN</th>\n",
       "      <th>S3_azp_W</th>\n",
       "      <th>sum_compromise</th>\n",
       "    </tr>\n",
       "  </thead>\n",
       "  <tbody>\n",
       "    <tr>\n",
       "      <th>0</th>\n",
       "      <td>0.728739</td>\n",
       "      <td>0.728884</td>\n",
       "      <td>0.698768</td>\n",
       "      <td>0.690826</td>\n",
       "      <td>0.73042</td>\n",
       "      <td>0.728275</td>\n",
       "      <td>0.718377</td>\n",
       "      <td>0.717913</td>\n",
       "      <td>0.728783</td>\n",
       "      <td>0.721652</td>\n",
       "      <td>0.687101</td>\n",
       "      <td>0.686783</td>\n",
       "      <td>8.566522</td>\n",
       "    </tr>\n",
       "  </tbody>\n",
       "</table>\n",
       "</div>"
      ],
      "text/plain": [
       "   S1_ward_CN  S1_ward_W  S1_azp_CN  S1_azp_W  S2_ward_CN  S2_ward_W  \\\n",
       "0    0.728739   0.728884   0.698768  0.690826     0.73042   0.728275   \n",
       "\n",
       "   S2_azp_CN  S2_azp_W  S3_ward_CN  S3_ward_W  S3_azp_CN  S3_azp_W  \\\n",
       "0   0.718377  0.717913    0.728783   0.721652   0.687101  0.686783   \n",
       "\n",
       "   sum_compromise  \n",
       "0        8.566522  "
      ]
     },
     "execution_count": 11,
     "metadata": {},
     "output_type": "execute_result"
    }
   ],
   "source": [
    "mean_df.head()"
   ]
  },
  {
   "cell_type": "code",
   "execution_count": 18,
   "id": "4de47f02-6ce5-4a76-ae83-2045e5f29e85",
   "metadata": {},
   "outputs": [
    {
     "name": "stdout",
     "output_type": "stream",
     "text": [
      "S1_ward_CN:\n",
      "  Shapiro p-value = 0.0000\n",
      "  Shapiro-Wilk test is significant: The data may not be normally distributed.\n"
     ]
    },
    {
     "data": {
      "image/png": "[encoded data removed]",
      "text/plain": [
       "<Figure size 864x288 with 2 Axes>"
      ]
     },
     "metadata": {
      "needs_background": "light"
     },
     "output_type": "display_data"
    },
    {
     "name": "stdout",
     "output_type": "stream",
     "text": [
      "\n",
      "\n",
      "S1_ward_W:\n",
      "  Shapiro p-value = 0.0000\n",
      "  Shapiro-Wilk test is significant: The data may not be normally distributed.\n"
     ]
    },
    {
     "data": {
      "image/png": "[encoded data removed]",
      "text/plain": [
       "<Figure size 864x288 with 2 Axes>"
      ]
     },
     "metadata": {
      "needs_background": "light"
     },
     "output_type": "display_data"
    },
    {
     "name": "stdout",
     "output_type": "stream",
     "text": [
      "\n",
      "\n",
      "S1_azp_CN:\n",
      "  Shapiro p-value = 0.2230\n",
      "  Shapiro-Wilk test is not significant: No strong evidence against normal distribution.\n"
     ]
    },
    {
     "data": {
      "image/png": "[encoded data removed]",
      "text/plain": [
       "<Figure size 864x288 with 2 Axes>"
      ]
     },
     "metadata": {
      "needs_background": "light"
     },
     "output_type": "display_data"
    },
    {
     "name": "stdout",
     "output_type": "stream",
     "text": [
      "\n",
      "\n",
      "S1_azp_W:\n",
      "  Shapiro p-value = 0.0539\n",
      "  Shapiro-Wilk test is not significant: No strong evidence against normal distribution.\n"
     ]
    },
    {
     "data": {
      "image/png": "[encoded data removed]",
      "text/plain": [
       "<Figure size 864x288 with 2 Axes>"
      ]
     },
     "metadata": {
      "needs_background": "light"
     },
     "output_type": "display_data"
    },
    {
     "name": "stdout",
     "output_type": "stream",
     "text": [
      "\n",
      "\n",
      "S2_ward_CN:\n",
      "  Shapiro p-value = 0.0215\n",
      "  Shapiro-Wilk test is significant: The data may not be normally distributed.\n"
     ]
    },
    {
     "data": {
      "image/png": "[encoded data removed]",
      "text/plain": [
       "<Figure size 864x288 with 2 Axes>"
      ]
     },
     "metadata": {
      "needs_background": "light"
     },
     "output_type": "display_data"
    },
    {
     "name": "stdout",
     "output_type": "stream",
     "text": [
      "\n",
      "\n",
      "S2_ward_W:\n",
      "  Shapiro p-value = 0.3072\n",
      "  Shapiro-Wilk test is not significant: No strong evidence against normal distribution.\n"
     ]
    },
    {
     "data": {
      "image/png": "[encoded data removed]",
      "text/plain": [
       "<Figure size 864x288 with 2 Axes>"
      ]
     },
     "metadata": {
      "needs_background": "light"
     },
     "output_type": "display_data"
    },
    {
     "name": "stdout",
     "output_type": "stream",
     "text": [
      "\n",
      "\n",
      "S2_azp_CN:\n",
      "  Shapiro p-value = 0.0705\n",
      "  Shapiro-Wilk test is not significant: No strong evidence against normal distribution.\n"
     ]
    },
    {
     "data": {
      "image/png": "[encoded data removed]",
      "text/plain": [
       "<Figure size 864x288 with 2 Axes>"
      ]
     },
     "metadata": {
      "needs_background": "light"
     },
     "output_type": "display_data"
    },
    {
     "name": "stdout",
     "output_type": "stream",
     "text": [
      "\n",
      "\n",
      "S2_azp_W:\n",
      "  Shapiro p-value = 0.0533\n",
      "  Shapiro-Wilk test is not significant: No strong evidence against normal distribution.\n"
     ]
    },
    {
     "data": {
      "image/png": "[encoded data removed]",
      "text/plain": [
       "<Figure size 864x288 with 2 Axes>"
      ]
     },
     "metadata": {
      "needs_background": "light"
     },
     "output_type": "display_data"
    },
    {
     "name": "stdout",
     "output_type": "stream",
     "text": [
      "\n",
      "\n",
      "S3_ward_CN:\n",
      "  Shapiro p-value = 0.0000\n",
      "  Shapiro-Wilk test is significant: The data may not be normally distributed.\n"
     ]
    },
    {
     "data": {
      "image/png": "[encoded data removed]",
      "text/plain": [
       "<Figure size 864x288 with 2 Axes>"
      ]
     },
     "metadata": {
      "needs_background": "light"
     },
     "output_type": "display_data"
    },
    {
     "name": "stdout",
     "output_type": "stream",
     "text": [
      "\n",
      "\n",
      "S3_ward_W:\n",
      "  Shapiro p-value = 0.0000\n",
      "  Shapiro-Wilk test is significant: The data may not be normally distributed.\n"
     ]
    },
    {
     "data": {
      "image/png": "[encoded data removed]",
      "text/plain": [
       "<Figure size 864x288 with 2 Axes>"
      ]
     },
     "metadata": {
      "needs_background": "light"
     },
     "output_type": "display_data"
    },
    {
     "name": "stdout",
     "output_type": "stream",
     "text": [
      "\n",
      "\n",
      "S3_azp_CN:\n",
      "  Shapiro p-value = 0.7686\n",
      "  Shapiro-Wilk test is not significant: No strong evidence against normal distribution.\n"
     ]
    },
    {
     "data": {
      "image/png": "[encoded data removed]",
      "text/plain": [
       "<Figure size 864x288 with 2 Axes>"
      ]
     },
     "metadata": {
      "needs_background": "light"
     },
     "output_type": "display_data"
    },
    {
     "name": "stdout",
     "output_type": "stream",
     "text": [
      "\n",
      "\n",
      "S3_azp_W:\n",
      "  Shapiro p-value = 0.7243\n",
      "  Shapiro-Wilk test is not significant: No strong evidence against normal distribution.\n"
     ]
    },
    {
     "data": {
      "image/png": "[encoded data removed]",
      "text/plain": [
       "<Figure size 864x288 with 2 Axes>"
      ]
     },
     "metadata": {
      "needs_background": "light"
     },
     "output_type": "display_data"
    },
    {
     "name": "stdout",
     "output_type": "stream",
     "text": [
      "\n",
      "\n"
     ]
    }
   ],
   "source": [
    "columns_to_test = ['S1_ward_CN', 'S1_ward_W', 'S1_azp_CN', 'S1_azp_W',\n",
    "                   'S2_ward_CN', 'S2_ward_W', 'S2_azp_CN', 'S2_azp_W',\n",
    "                   'S3_ward_CN', 'S3_ward_W', 'S3_azp_CN', 'S3_azp_W']\n",
    "alpha = 0.05\n",
    "for column in columns_to_test:\n",
    "    _, shapiro_p_value = shapiro(res[column])\n",
    "\n",
    "    print(f\"{column}:\")\n",
    "    print(f\"  Shapiro p-value = {shapiro_p_value:.4f}\")\n",
    "\n",
    "    if shapiro_p_value < alpha:\n",
    "        print(\"  Shapiro-Wilk test is significant: The data may not be normally distributed.\")\n",
    "    else:\n",
    "        print(\"  Shapiro-Wilk test is not significant: No strong evidence against normal distribution.\")\n",
    "\n",
    "    plt.figure(figsize=(12, 4))\n",
    "    plt.subplot(1, 2, 1)\n",
    "    sns.histplot(res[column], kde=True)\n",
    "    plt.title(f'Histogram of {column}')\n",
    "\n",
    "    plt.subplot(1, 2, 2)\n",
    "    sns.boxplot(data=res[[column]])\n",
    "    plt.title(f'Boxplot of {column}')\n",
    "    \n",
    "    plt.tight_layout()\n",
    "    plt.show()\n",
    "\n",
    "    print(\"\\n\")"
   ]
  },
  {
   "cell_type": "code",
   "execution_count": null,
   "id": "d3a57b0b-07d3-4b46-a362-c707437f6758",
   "metadata": {},
   "outputs": [],
   "source": []
  },
  {
   "cell_type": "code",
   "execution_count": null,
   "id": "716fbae3-a661-45e9-bec8-960d5e9f30e0",
   "metadata": {},
   "outputs": [],
   "source": []
  },
  {
   "cell_type": "code",
   "execution_count": null,
   "id": "d6ca0945-27b8-42a3-bf68-efc41480c2d0",
   "metadata": {},
   "outputs": [],
   "source": []
  },
  {
   "cell_type": "code",
   "execution_count": null,
   "id": "047fa97f-5db6-4f6d-83c7-de101106cc8e",
   "metadata": {},
   "outputs": [],
   "source": []
  },
  {
   "cell_type": "code",
   "execution_count": null,
   "id": "10fe0d84-1032-4d3f-bd4c-84d95a56e261",
   "metadata": {},
   "outputs": [],
   "source": []
  },
  {
   "cell_type": "code",
   "execution_count": null,
   "id": "764fc5c7-53e8-404c-b463-1b89b98ffcda",
   "metadata": {},
   "outputs": [],
   "source": []
  }
 ],
 "metadata": {
  "kernelspec": {
   "display_name": "Python 3 (ipykernel)",
   "language": "python",
   "name": "python3"
  },
  "language_info": {
   "codemirror_mode": {
    "name": "ipython",
    "version": 3
   },
   "file_extension": ".py",
   "mimetype": "text/x-python",
   "name": "python",
   "nbconvert_exporter": "python",
   "pygments_lexer": "ipython3",
   "version": "3.8.13"
  }
 },
 "nbformat": 4,
 "nbformat_minor": 5
}
